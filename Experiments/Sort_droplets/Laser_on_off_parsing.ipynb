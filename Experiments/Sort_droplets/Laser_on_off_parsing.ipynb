{
 "cells": [
  {
   "cell_type": "code",
   "execution_count": 47,
   "id": "77108fcb-fdf1-4395-bb28-c247efb24b76",
   "metadata": {},
   "outputs": [],
   "source": [
    "from os import listdir\n",
    "from os.path import isfile, join\n",
    "import numpy as np\n",
    "import matplotlib.pyplot as plt"
   ]
  },
  {
   "cell_type": "code",
   "execution_count": 88,
   "id": "c72f272d-5e08-42a8-a1bb-22b55fb5ab97",
   "metadata": {},
   "outputs": [],
   "source": [
    "water_path='./210505/laser_off_water/categorized/water_37mm_laseroff/'\n",
    "my_path=water_path\n",
    "files = [f for f in listdir(my_path) if isfile(join(my_path, f))]\n",
    "timestamps=[i.split('-')[1] for i in files]\n",
    "timestamp_clock_water=[int(i[8:]) for i in timestamps]\n",
    "water_first=np.count_nonzero(np.array(timestamp_clock_water) < 148000)\n",
    "water_second=np.count_nonzero(np.array(timestamp_clock_water) > 148000)\n",
    "\n",
    "\n",
    "water_path='./210505/laser_off_water/categorized/marbles_laseroff//'\n",
    "my_path=water_path\n",
    "files = [f for f in listdir(my_path) if isfile(join(my_path, f))]\n",
    "timestamps=[i.split('-')[1] for i in files]\n",
    "timestamp_clock_marbles=[int(i[8:]) for i in timestamps]\n",
    "marbles_first=np.count_nonzero(np.array(timestamp_clock_marbles) < 148000)\n",
    "marbles_second=np.count_nonzero(np.array(timestamp_clock_marbles) > 148000)\n",
    "\n",
    "\n",
    "\n",
    "water_path='./210505/laser_off_water/categorized/not_agged/'\n",
    "my_path=water_path\n",
    "files = [f for f in listdir(my_path) if isfile(join(my_path, f))]\n",
    "timestamps=[i.split('-')[1] for i in files]\n",
    "timestamp_clock_na=[int(i[8:]) for i in timestamps]\n",
    "na_first=np.count_nonzero(np.array(timestamp_clock_na) < 148000)\n",
    "na_second=np.count_nonzero(np.array(timestamp_clock_na) > 148000)\n",
    "\n",
    "water_path='./210505/laser_off_water/categorized/blobs_laseroff/'\n",
    "my_path=water_path\n",
    "files = [f for f in listdir(my_path) if isfile(join(my_path, f))]\n",
    "timestamps=[i.split('-')[1] for i in files]\n",
    "timestamp_clock_blobs=[int(i[8:]) for i in timestamps]\n",
    "blobs_first=np.count_nonzero(np.array(timestamp_clock_blobs) < 148000)\n",
    "blobs_second=np.count_nonzero(np.array(timestamp_clock_blobs) > 148000)\n",
    "\n",
    "\n",
    "ice_first=marbles_first+blobs_first\n",
    "ice_second=marbles_second+blobs_second\n",
    "\n",
    "\n",
    "first_ice_fraction=np.divide(ice_first,water_first+ice_first)\n",
    "second_ice_fraction=np.divide(ice_second,water_second+ice_second)"
   ]
  },
  {
   "cell_type": "code",
   "execution_count": 89,
   "id": "e89a18b5-1a3b-4506-a1f1-29fb531a5969",
   "metadata": {},
   "outputs": [
    {
     "data": {
      "text/plain": [
       "[<matplotlib.lines.Line2D at 0x10b015820>]"
      ]
     },
     "execution_count": 89,
     "metadata": {},
     "output_type": "execute_result"
    },
    {
     "data": {
      "image/png": "[encoded data removed]",
      "text/plain": [
       "<Figure size 432x288 with 1 Axes>"
      ]
     },
     "metadata": {
      "needs_background": "light"
     },
     "output_type": "display_data"
    }
   ],
   "source": [
    "plt.plot(np.sort(timestamp_clock_blobs))"
   ]
  },
  {
   "cell_type": "code",
   "execution_count": 86,
   "id": "035e0190-1f0d-48d7-926f-b79bc2821a9a",
   "metadata": {},
   "outputs": [
    {
     "data": {
      "text/plain": [
       "0.2222222222222222"
      ]
     },
     "execution_count": 86,
     "metadata": {},
     "output_type": "execute_result"
    }
   ],
   "source": [
    "first_ice_fraction"
   ]
  },
  {
   "cell_type": "code",
   "execution_count": 87,
   "id": "bc030a8b-d4d3-409b-a8eb-0a6a043c4475",
   "metadata": {},
   "outputs": [
    {
     "data": {
      "text/plain": [
       "0.17647058823529413"
      ]
     },
     "execution_count": 87,
     "metadata": {},
     "output_type": "execute_result"
    }
   ],
   "source": [
    "second_ice_fraction"
   ]
  },
  {
   "cell_type": "code",
   "execution_count": 90,
   "id": "88861a73-2706-48d8-ad0e-074158b031da",
   "metadata": {},
   "outputs": [
    {
     "data": {
      "text/plain": [
       "171"
      ]
     },
     "execution_count": 90,
     "metadata": {},
     "output_type": "execute_result"
    }
   ],
   "source": [
    "water_first+ice_first"
   ]
  },
  {
   "cell_type": "code",
   "execution_count": 91,
   "id": "e19a3390-3ffd-48f1-92e5-acc6d846d393",
   "metadata": {},
   "outputs": [
    {
     "data": {
      "text/plain": [
       "136"
      ]
     },
     "execution_count": 91,
     "metadata": {},
     "output_type": "execute_result"
    }
   ],
   "source": [
    "water_second+ice_second"
   ]
  },
  {
   "cell_type": "code",
   "execution_count": null,
   "id": "3fd15418-08b6-4273-885b-dbd15fdd5c8d",
   "metadata": {},
   "outputs": [],
   "source": []
  }
 ],
 "metadata": {
  "kernelspec": {
   "display_name": "Python 3",
   "language": "python",
   "name": "python3"
  },
  "language_info": {
   "codemirror_mode": {
    "name": "ipython",
    "version": 3
   },
   "file_extension": ".py",
   "mimetype": "text/x-python",
   "name": "python",
   "nbconvert_exporter": "python",
   "pygments_lexer": "ipython3",
   "version": "3.8.5"
  }
 },
 "nbformat": 4,
 "nbformat_minor": 5
}

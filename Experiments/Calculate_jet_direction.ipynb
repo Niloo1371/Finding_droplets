{
 "cells": [
  {
   "cell_type": "code",
   "execution_count": 1,
   "metadata": {},
   "outputs": [
    {
     "name": "stdout",
     "output_type": "stream",
     "text": [
      "Using matplotlib backend: MacOSX\n"
     ]
    }
   ],
   "source": [
    "import h5py\n",
    "import numpy as np\n",
    "from scipy.interpolate import griddata\n",
    "from scipy.interpolate import interp2d\n",
    "from scipy.interpolate import RegularGridInterpolator\n",
    "import matplotlib.pyplot as plt\n",
    "import numpy as np\n",
    "import h5py\n",
    "import matplotlib.pyplot as plt\n",
    "import pandas as pd\n",
    "\n",
    "import os\n",
    "%matplotlib\n"
   ]
  },
  {
   "cell_type": "code",
   "execution_count": 16,
   "metadata": {},
   "outputs": [
    {
     "name": "stdout",
     "output_type": "stream",
     "text": [
      "1.3 mm\n",
      "x:\t3.724661957618567\n",
      "y:\t-2.8040110998990917\n",
      "10 mm\n",
      "x:\t1.7932795156407666\n",
      "y:\t-1.7636982845610494\n",
      "20 mm\n",
      "x:\t-0.4267003027245213\n",
      "y:\t-0.5679364278506558\n",
      "30 mm\n",
      "x:\t-2.6466801210898083\n",
      "y:\t0.627825428859738\n",
      "40 mm\n",
      "x:\t-4.866659939455097\n",
      "y:\t1.8235872855701314\n",
      "50 mm\n",
      "x:\t-7.086639757820384\n",
      "y:\t3.0193491422805256\n",
      "60 mm\n",
      "x:\t-9.306619576185671\n",
      "y:\t4.2151109989909195\n"
     ]
    }
   ],
   "source": [
    "plt.close('all')\n",
    "\n",
    "x_pos=[-2.05,-2.39]\n",
    "y_pos=[-5.61,-5.85]\n",
    "z_pos=[1.49,10]\n",
    "\n",
    "\t\n",
    "\n",
    "plt.scatter(z_pos,x_pos,label='X')\n",
    "plt.scatter(z_pos,y_pos,label='Y')\n",
    "\n",
    "plt.legend()\n",
    "\n",
    "def line(k,m,z):\n",
    "    return m+k*z\n",
    "\n",
    "delta_z=z_pos[-1]-z_pos[0]\n",
    "delta_x=x_pos[-1]-x_pos[0]\n",
    "k_x=delta_x/delta_z #k=delta x / delta y\n",
    "m_x=x_pos[0]-k_x*z_pos[0] # z = k* x + m\n",
    "z=np.linspace(0,60)\n",
    "#print(k_x)\n",
    "#print(m_x)\n",
    "x_array=line(k_x,m_x,z)\n",
    "\n",
    "delta_y=y_pos[1]-y_pos[0]\n",
    "k_y=delta_y/delta_z #k=delta x / delta y\n",
    "m_y=y_pos[0]-k_y*z_pos[0] # z = k* x + m\n",
    "y_array=line(k_y,m_y,z)\n",
    "#print(k_y)\n",
    "#print(m_y)\n",
    "\n",
    "\n",
    "plt.plot(z,x_array)\n",
    "plt.plot(z,y_array)\n",
    "\n",
    "def return_x_y(z):\n",
    "    print('x:\\t' + str(line(-0.22199798183652877,4.0132593340060545,z)))\n",
    "    print('y:\\t' + str(line(0.11957618567103936,-2.959460141271443,z)))\n",
    "\n",
    "    \n",
    "distances=[1.3,10,20,30,40,50,60]    \n",
    "for distance in distances:\n",
    "    print('{0} mm'.format(distance))\n",
    "    return_x_y(distance)    "
   ]
  },
  {
   "cell_type": "code",
   "execution_count": 10,
   "metadata": {},
   "outputs": [
    {
     "name": "stdout",
     "output_type": "stream",
     "text": [
      "-0.038133467134972406\n",
      "-0.9411891620672354\n",
      "0.03763171098845961\n",
      "-2.488168590065228\n",
      "1.3 mm\n",
      "x:\t-0.9907626693426995\n",
      "y:\t-2.4392473657802305\n",
      "21.2 mm\n",
      "x:\t-1.7496186653286503\n",
      "y:\t-1.6903763171098845\n",
      "37 mm\n",
      "x:\t-2.3521274460612145\n",
      "y:\t-1.0957952834922224\n"
     ]
    }
   ],
   "source": [
    "plt.close('all')\n",
    "\n",
    "x_pos=[-0.99,-1.75]\n",
    "y_pos=[-2.44,-1.69]\n",
    "z_pos=[1.28,21.21]\n",
    "\n",
    "\t\n",
    "\n",
    "plt.scatter(z_pos,x_pos,label='X')\n",
    "plt.scatter(z_pos,y_pos,label='Y')\n",
    "\n",
    "plt.legend()\n",
    "\n",
    "def line(k,m,z):\n",
    "    return m+k*z\n",
    "\n",
    "delta_z=z_pos[-1]-z_pos[0]\n",
    "delta_x=x_pos[-1]-x_pos[0]\n",
    "k_x=delta_x/delta_z #k=delta x / delta y\n",
    "m_x=x_pos[0]-k_x*z_pos[0] # z = k* x + m\n",
    "z=np.linspace(0,60)\n",
    "print(k_x)\n",
    "print(m_x)\n",
    "x_array=line(k_x,m_x,z)\n",
    "\n",
    "delta_y=y_pos[1]-y_pos[0]\n",
    "k_y=delta_y/delta_z #k=delta x / delta y\n",
    "m_y=y_pos[0]-k_y*z_pos[0] # z = k* x + m\n",
    "y_array=line(k_y,m_y,z)\n",
    "print(k_y)\n",
    "print(m_y)\n",
    "\n",
    "\n",
    "plt.plot(z,x_array)\n",
    "plt.plot(z,y_array)\n",
    "\n",
    "def return_x_y(z,k_x,m_x,k_y,m_y):\n",
    "    print('x:\\t' + str(line(k_x,m_x,z)))\n",
    "    print('y:\\t' + str(line(k_y,m_y,z)))\n",
    "\n",
    "    \n",
    "distances=[1.3,21.2,37]    \n",
    "for distance in distances:\n",
    "    print('{0} mm'.format(distance))\n",
    "    return_x_y(distance,k_x,m_x,k_y,m_y)    "
   ]
  },
  {
   "cell_type": "code",
   "execution_count": null,
   "metadata": {},
   "outputs": [],
   "source": []
  }
 ],
 "metadata": {
  "kernelspec": {
   "display_name": "Python 3",
   "language": "python",
   "name": "python3"
  },
  "language_info": {
   "codemirror_mode": {
    "name": "ipython",
    "version": 3
   },
   "file_extension": ".py",
   "mimetype": "text/x-python",
   "name": "python",
   "nbconvert_exporter": "python",
   "pygments_lexer": "ipython3",
   "version": "3.8.5"
  }
 },
 "nbformat": 4,
 "nbformat_minor": 4
}

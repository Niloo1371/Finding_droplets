{
 "cells": [
  {
   "cell_type": "code",
   "execution_count": 3,
   "metadata": {},
   "outputs": [],
   "source": [
    "import os\n",
    "\n",
    "import numpy as np\n",
    "import cv2\n",
    "import matplotlib.pyplot as plt\n",
    "\n",
    "from scipy import signal\n",
    "\n",
    "from droplets import *\n",
    "from ipywidgets import interact, interactive, fixed, interact_manual\n",
    "import ipywidgets as widgets"
   ]
  },
  {
   "cell_type": "markdown",
   "metadata": {},
   "source": [
    "### DIRECTORY LOOP BELOW"
   ]
  },
  {
   "cell_type": "code",
   "execution_count": null,
   "metadata": {},
   "outputs": [],
   "source": [
    "directories_with_inputs=['/Users/olofjonsson/Projects/Ice/Droplet_codes/Package/Example_images']#,\n",
    "dir_for_results = '/Volumes/LaCie Drive/Lab/Results'"
   ]
  },
  {
   "cell_type": "code",
   "execution_count": null,
   "metadata": {},
   "outputs": [],
   "source": [
    "cuts=[]\n",
    "metrics=[]\n",
    "\n",
    "for directory_with_input_index, directory_with_input in enumerate(directories_with_inputs):\n",
    "    path_to_files = directory_with_input\n",
    "    path_to_results = '/'.join([dir_for_results, 'Cuts' + directory_with_input])\n",
    "    os.makedirs(path_to_results, exist_ok=True)\n",
    "\n",
    "    path_to_diagnostics = '/'.join([dir_for_results, 'Diagnostics' + directory_with_input])\n",
    "    os.makedirs(path_to_diagnostics, exist_ok=True)\n",
    "    \n",
    "    list_of_files = [my_file for my_file in os.listdir(\n",
    "        path_to_files) if not my_file.startswith('.')]  # to avoid hidden files like .DS_file\n",
    "    print(directory_with_input+':')\n",
    "    print('found {0} files'.format(str(len(list_of_files))))\n",
    "    list_of_files.sort()\n",
    "    print('sorted')\n",
    "\n",
    "    list_of_files_to_do = list_of_files.copy()#[0:15]\n",
    "\n",
    "    list_of_image_files = []\n",
    "\n",
    "    for file_index, file_name in enumerate(list_of_files_to_do):\n",
    "        full_path=os.path.join(path_to_files,file_name)\n",
    "        #image = cv2.imread(full_path)\n",
    "        \n",
    "        print(full_path)\n",
    "\n",
    "        #temp_file = ImageFile(path_to_files, file_name)\n",
    "        #metric,cut=GD_metric(image,d_um=2.2)\n",
    "        cuts,metrics,fig=do_cutouts(full_path,d_um=2.2,smallest_size_um2=10000,closing_kernel=30,threshold_fraction=0.15,show_diagnostics=True)\n",
    "        \n",
    "        #Make this True if you want to see the cuts\n",
    "        if False:\n",
    "            for cut_index,cut in enumerate(cuts):\n",
    "                plt.figure()\n",
    "                plt.imshow(cut,cmap='gray',vmin=0,vmax=255)\n",
    "                #plt.colorbar()\n",
    "                plt.title('{0:.0f}'.format(metrics[cut_index]))\n",
    "                \n",
    "        if True:\n",
    "            for cut_index,cut in enumerate(cuts):\n",
    "                cv2.imwrite('{0}/metric_{1:.0f}_cut{2}_{3}'.format(path_to_results,metrics[cut_index],cut_index,file_name),cut)\n",
    "        \n",
    "        if show_diagnostics:\n",
    "            fig.savefig('{0}/diag_{1}'.format(path_to_diagnostics,file_name),format='png')\n",
    "            plt.close(fig)\n",
    "        \n",
    "        #print('{0:.3f}\\t {1}'.format(metric,file_name))"
   ]
  },
  {
   "cell_type": "markdown",
   "metadata": {},
   "source": [
    "### WIDGET BELOW"
   ]
  },
  {
   "cell_type": "code",
   "execution_count": 6,
   "metadata": {},
   "outputs": [],
   "source": [
    "#path to file to run widget on\n",
    "file_path='/Users/olofjonsson/Projects/Ice/Droplet_codes/Package/Example_images/255kHz_48ulpermin-06012020122750-15.png'"
   ]
  },
  {
   "cell_type": "code",
   "execution_count": 7,
   "metadata": {},
   "outputs": [
    {
     "data": {
      "application/vnd.jupyter.widget-view+json": {
       "model_id": "2392ca1451eb4823ba96c86353574810",
       "version_major": 2,
       "version_minor": 0
      },
      "text/plain": [
       "interactive(children=(FloatSlider(value=0.15, description='threshold_fraction', max=1.0, min=0.01), IntSlider(…"
      ]
     },
     "metadata": {},
     "output_type": "display_data"
    }
   ],
   "source": [
    "def test_params(path_to_image,\n",
    "               threshold_fraction=0.15,\n",
    "               closing_kernel=30,\n",
    "               smallest_size_um2=10000,\n",
    "               d_um=2.2,\n",
    "               scaling=0.345):\n",
    "    cuts,metrics,fig=do_cutouts(path_to_image=path_to_image,d_um=d_um,closing_kernel=closing_kernel,threshold_fraction=threshold_fraction,scaling=scaling,show_diagnostics=True)\n",
    "    fig.show()\n",
    "\n",
    "\n",
    "_=interact(test_params,path_to_image=fixed(file_path),\n",
    "         d_um=widgets.FloatSlider(min=0.1,max=100,value=2.2),\n",
    "         closing_kernel=widgets.IntSlider(min=1,max=100,value=30),\n",
    "         smallest_size_um2=widgets.FloatSlider(min=1,max=1e6,value=10000),\n",
    "         threshold_fraction=widgets.FloatSlider(min=0.01,max=1,value=0.15),\n",
    "         scaling=fixed(0.345))"
   ]
  },
  {
   "cell_type": "code",
   "execution_count": null,
   "metadata": {},
   "outputs": [],
   "source": []
  }
 ],
 "metadata": {
  "kernelspec": {
   "display_name": "Python 3",
   "language": "python",
   "name": "python3"
  },
  "language_info": {
   "codemirror_mode": {
    "name": "ipython",
    "version": 3
   },
   "file_extension": ".py",
   "mimetype": "text/x-python",
   "name": "python",
   "nbconvert_exporter": "python",
   "pygments_lexer": "ipython3",
   "version": "3.7.7"
  }
 },
 "nbformat": 4,
 "nbformat_minor": 4
}

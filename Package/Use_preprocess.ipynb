{
 "cells": [
  {
   "cell_type": "code",
   "execution_count": 1,
   "metadata": {},
   "outputs": [],
   "source": [
    "import os\n",
    "\n",
    "import numpy as np\n",
    "import cv2\n",
    "import matplotlib.pyplot as plt\n",
    "\n",
    "from scipy import signal\n",
    "\n",
    "from droplets import do_cutouts\n",
    "from ipywidgets import interact, interactive, fixed, interact_manual\n",
    "import ipywidgets as widgets\n",
    "\n",
    "import gc"
   ]
  },
  {
   "cell_type": "code",
   "execution_count": 2,
   "metadata": {},
   "outputs": [],
   "source": [
    "#import droplets as drop\n",
    "#dir(drop)"
   ]
  },
  {
   "cell_type": "markdown",
   "metadata": {},
   "source": [
    "### DIRECTORY LOOP BELOW"
   ]
  },
  {
   "cell_type": "code",
   "execution_count": 3,
   "metadata": {},
   "outputs": [],
   "source": [
    "#directories_with_inputs=['/Users/olofjonsson/Projects/Ice/Droplet_codes/Package/Example_images']#,\n",
    "#dir_for_results = '/Volumes/LaCie Drive/Lab/Results'\n",
    "\n",
    "directories_with_inputs=['/Volumes/LaCie Drive/Lab/Raw_data/Home_lab/200602/Diffusor_30_40mm_gain40']\n",
    "dir_for_results = '/Volumes/LaCie Drive/Lab/Results'"
   ]
  },
  {
   "cell_type": "code",
   "execution_count": null,
   "metadata": {},
   "outputs": [
    {
     "name": "stdout",
     "output_type": "stream",
     "text": [
      "/Volumes/LaCie Drive/Lab/Raw_data/Home_lab/200602/Diffusor_30_40mm_gain40:\n",
      "found 2000 files\n",
      "sorted\n",
      "/Volumes/LaCie Drive/Lab/Raw_data/Home_lab/200602/Diffusor_30_40mm_gain40/255kHz_48ulpermin-06012020114130-1169.png\n",
      "/Volumes/LaCie Drive/Lab/Raw_data/Home_lab/200602/Diffusor_30_40mm_gain40/255kHz_48ulpermin-06012020114130-1170.png\n",
      "/Volumes/LaCie Drive/Lab/Raw_data/Home_lab/200602/Diffusor_30_40mm_gain40/255kHz_48ulpermin-06012020114131-1171.png\n",
      "/Volumes/LaCie Drive/Lab/Raw_data/Home_lab/200602/Diffusor_30_40mm_gain40/255kHz_48ulpermin-06012020114131-1172.png\n",
      "/Volumes/LaCie Drive/Lab/Raw_data/Home_lab/200602/Diffusor_30_40mm_gain40/255kHz_48ulpermin-06012020114131-1173.png\n",
      "/Volumes/LaCie Drive/Lab/Raw_data/Home_lab/200602/Diffusor_30_40mm_gain40/255kHz_48ulpermin-06012020114131-1174.png\n",
      "/Volumes/LaCie Drive/Lab/Raw_data/Home_lab/200602/Diffusor_30_40mm_gain40/255kHz_48ulpermin-06012020114132-1175.png\n",
      "/Volumes/LaCie Drive/Lab/Raw_data/Home_lab/200602/Diffusor_30_40mm_gain40/255kHz_48ulpermin-06012020114132-1176.png\n",
      "/Volumes/LaCie Drive/Lab/Raw_data/Home_lab/200602/Diffusor_30_40mm_gain40/255kHz_48ulpermin-06012020114132-1177.png\n",
      "/Volumes/LaCie Drive/Lab/Raw_data/Home_lab/200602/Diffusor_30_40mm_gain40/255kHz_48ulpermin-06012020114132-1178.png\n",
      "/Volumes/LaCie Drive/Lab/Raw_data/Home_lab/200602/Diffusor_30_40mm_gain40/255kHz_48ulpermin-06012020114133-1179.png\n",
      "/Volumes/LaCie Drive/Lab/Raw_data/Home_lab/200602/Diffusor_30_40mm_gain40/255kHz_48ulpermin-06012020114133-1180.png\n",
      "/Volumes/LaCie Drive/Lab/Raw_data/Home_lab/200602/Diffusor_30_40mm_gain40/255kHz_48ulpermin-06012020114133-1181.png\n",
      "/Volumes/LaCie Drive/Lab/Raw_data/Home_lab/200602/Diffusor_30_40mm_gain40/255kHz_48ulpermin-06012020114133-1182.png\n",
      "/Volumes/LaCie Drive/Lab/Raw_data/Home_lab/200602/Diffusor_30_40mm_gain40/255kHz_48ulpermin-06012020114133-1183.png\n",
      "/Volumes/LaCie Drive/Lab/Raw_data/Home_lab/200602/Diffusor_30_40mm_gain40/255kHz_48ulpermin-06012020114134-1184.png\n",
      "/Volumes/LaCie Drive/Lab/Raw_data/Home_lab/200602/Diffusor_30_40mm_gain40/255kHz_48ulpermin-06012020114134-1185.png\n",
      "/Volumes/LaCie Drive/Lab/Raw_data/Home_lab/200602/Diffusor_30_40mm_gain40/255kHz_48ulpermin-06012020114134-1186.png\n",
      "/Volumes/LaCie Drive/Lab/Raw_data/Home_lab/200602/Diffusor_30_40mm_gain40/255kHz_48ulpermin-06012020114134-1187.png\n",
      "/Volumes/LaCie Drive/Lab/Raw_data/Home_lab/200602/Diffusor_30_40mm_gain40/255kHz_48ulpermin-06012020114135-1188.png\n",
      "/Volumes/LaCie Drive/Lab/Raw_data/Home_lab/200602/Diffusor_30_40mm_gain40/255kHz_48ulpermin-06012020114135-1189.png\n",
      "/Volumes/LaCie Drive/Lab/Raw_data/Home_lab/200602/Diffusor_30_40mm_gain40/255kHz_48ulpermin-06012020114135-1190.png\n",
      "/Volumes/LaCie Drive/Lab/Raw_data/Home_lab/200602/Diffusor_30_40mm_gain40/255kHz_48ulpermin-06012020114135-1191.png\n",
      "/Volumes/LaCie Drive/Lab/Raw_data/Home_lab/200602/Diffusor_30_40mm_gain40/255kHz_48ulpermin-06012020114136-1192.png\n",
      "/Volumes/LaCie Drive/Lab/Raw_data/Home_lab/200602/Diffusor_30_40mm_gain40/255kHz_48ulpermin-06012020114136-1193.png\n",
      "/Volumes/LaCie Drive/Lab/Raw_data/Home_lab/200602/Diffusor_30_40mm_gain40/255kHz_48ulpermin-06012020114136-1194.png\n",
      "/Volumes/LaCie Drive/Lab/Raw_data/Home_lab/200602/Diffusor_30_40mm_gain40/255kHz_48ulpermin-06012020114137-1195.png\n",
      "/Volumes/LaCie Drive/Lab/Raw_data/Home_lab/200602/Diffusor_30_40mm_gain40/255kHz_48ulpermin-06012020114137-1196.png\n",
      "/Volumes/LaCie Drive/Lab/Raw_data/Home_lab/200602/Diffusor_30_40mm_gain40/255kHz_48ulpermin-06012020114137-1197.png\n",
      "/Volumes/LaCie Drive/Lab/Raw_data/Home_lab/200602/Diffusor_30_40mm_gain40/255kHz_48ulpermin-06012020114137-1198.png\n",
      "/Volumes/LaCie Drive/Lab/Raw_data/Home_lab/200602/Diffusor_30_40mm_gain40/255kHz_48ulpermin-06012020114137-1199.png\n",
      "/Volumes/LaCie Drive/Lab/Raw_data/Home_lab/200602/Diffusor_30_40mm_gain40/255kHz_48ulpermin-06012020114138-1200.png\n",
      "/Volumes/LaCie Drive/Lab/Raw_data/Home_lab/200602/Diffusor_30_40mm_gain40/255kHz_48ulpermin-06012020114138-1201.png\n",
      "/Volumes/LaCie Drive/Lab/Raw_data/Home_lab/200602/Diffusor_30_40mm_gain40/255kHz_48ulpermin-06012020114138-1202.png\n",
      "/Volumes/LaCie Drive/Lab/Raw_data/Home_lab/200602/Diffusor_30_40mm_gain40/255kHz_48ulpermin-06012020114139-1203.png\n",
      "/Volumes/LaCie Drive/Lab/Raw_data/Home_lab/200602/Diffusor_30_40mm_gain40/255kHz_48ulpermin-06012020114139-1204.png\n",
      "/Volumes/LaCie Drive/Lab/Raw_data/Home_lab/200602/Diffusor_30_40mm_gain40/255kHz_48ulpermin-06012020114139-1205.png\n",
      "/Volumes/LaCie Drive/Lab/Raw_data/Home_lab/200602/Diffusor_30_40mm_gain40/255kHz_48ulpermin-06012020114139-1206.png\n",
      "/Volumes/LaCie Drive/Lab/Raw_data/Home_lab/200602/Diffusor_30_40mm_gain40/255kHz_48ulpermin-06012020114139-1207.png\n",
      "/Volumes/LaCie Drive/Lab/Raw_data/Home_lab/200602/Diffusor_30_40mm_gain40/255kHz_48ulpermin-06012020114140-1208.png\n",
      "/Volumes/LaCie Drive/Lab/Raw_data/Home_lab/200602/Diffusor_30_40mm_gain40/255kHz_48ulpermin-06012020114140-1209.png\n",
      "/Volumes/LaCie Drive/Lab/Raw_data/Home_lab/200602/Diffusor_30_40mm_gain40/255kHz_48ulpermin-06012020114140-1210.png\n",
      "/Volumes/LaCie Drive/Lab/Raw_data/Home_lab/200602/Diffusor_30_40mm_gain40/255kHz_48ulpermin-06012020114140-1211.png\n",
      "/Volumes/LaCie Drive/Lab/Raw_data/Home_lab/200602/Diffusor_30_40mm_gain40/255kHz_48ulpermin-06012020114141-1212.png\n",
      "/Volumes/LaCie Drive/Lab/Raw_data/Home_lab/200602/Diffusor_30_40mm_gain40/255kHz_48ulpermin-06012020114141-1213.png\n",
      "/Volumes/LaCie Drive/Lab/Raw_data/Home_lab/200602/Diffusor_30_40mm_gain40/255kHz_48ulpermin-06012020114141-1214.png\n",
      "/Volumes/LaCie Drive/Lab/Raw_data/Home_lab/200602/Diffusor_30_40mm_gain40/255kHz_48ulpermin-06012020114141-1215.png\n",
      "/Volumes/LaCie Drive/Lab/Raw_data/Home_lab/200602/Diffusor_30_40mm_gain40/255kHz_48ulpermin-06012020114142-1216.png\n",
      "/Volumes/LaCie Drive/Lab/Raw_data/Home_lab/200602/Diffusor_30_40mm_gain40/255kHz_48ulpermin-06012020114142-1217.png\n",
      "/Volumes/LaCie Drive/Lab/Raw_data/Home_lab/200602/Diffusor_30_40mm_gain40/255kHz_48ulpermin-06012020114142-1218.png\n",
      "/Volumes/LaCie Drive/Lab/Raw_data/Home_lab/200602/Diffusor_30_40mm_gain40/255kHz_48ulpermin-06012020114142-1219.png\n"
     ]
    }
   ],
   "source": [
    "cuts=[]\n",
    "metrics=[]\n",
    "\n",
    "\n",
    "for directory_with_input_index, directory_with_input in enumerate(directories_with_inputs):\n",
    "    path_to_files = directory_with_input\n",
    "    path_to_results = '/'.join([dir_for_results, 'Cuts' + directory_with_input])\n",
    "    os.makedirs(path_to_results, exist_ok=True)\n",
    "\n",
    "    path_to_diagnostics = '/'.join([dir_for_results, 'Diagnostics' + directory_with_input])\n",
    "    os.makedirs(path_to_diagnostics, exist_ok=True)\n",
    "    \n",
    "    list_of_files = [my_file for my_file in os.listdir(\n",
    "        path_to_files) if not my_file.startswith('.')]  # to avoid hidden files like .DS_file\n",
    "    print(directory_with_input+':')\n",
    "    print('found {0} files'.format(str(len(list_of_files))))\n",
    "    list_of_files.sort()\n",
    "    print('sorted')\n",
    "\n",
    "    list_of_files_to_do = list_of_files.copy()[1169:]\n",
    "\n",
    "    list_of_image_files = []\n",
    "\n",
    "    for file_index, file_name in enumerate(list_of_files_to_do):\n",
    "        full_path=os.path.join(path_to_files,file_name)\n",
    "        #image = cv2.imread(full_path)\n",
    "        \n",
    "        print(full_path)\n",
    "\n",
    "        #temp_file = ImageFile(path_to_files, file_name)\n",
    "        #metric,cut=GD_metric(image,d_um=2.2)\n",
    "        show_diagnostics=True\n",
    "        cuts,metrics,fig=do_cutouts(full_path,d_um=2.2,smallest_size_um2=10000,closing_kernel=30,threshold_fraction=0.15,show_diagnostics=show_diagnostics)\n",
    "        \n",
    "        #Make this True if you want to see the cuts\n",
    "        if False:\n",
    "            for cut_index,cut in enumerate(cuts):\n",
    "                plt.figure()\n",
    "                plt.imshow(cut,cmap='gray',vmin=0,vmax=255)\n",
    "                #plt.colorbar()\n",
    "                plt.title('{0:.0f}'.format(metrics[cut_index]))\n",
    "                \n",
    "        if True:\n",
    "            for cut_index,cut in enumerate(cuts):\n",
    "                cv2.imwrite('{0}/metric_{1:.0f}_cut{2}_{3}'.format(path_to_results,metrics[cut_index],cut_index,file_name),cut)\n",
    "        \n",
    "        if show_diagnostics:\n",
    "            fig.savefig('{0}/diag_{1}'.format(path_to_diagnostics,file_name),format='png')\n",
    "        \n",
    "        plt.close('all')\n",
    "\n",
    "        \n",
    "        #print('{0:.3f}\\t {1}'.format(metric,file_name))"
   ]
  },
  {
   "cell_type": "markdown",
   "metadata": {},
   "source": [
    "### WIDGET BELOW"
   ]
  },
  {
   "cell_type": "code",
   "execution_count": 28,
   "metadata": {},
   "outputs": [
    {
     "name": "stdout",
     "output_type": "stream",
     "text": [
      "57\n",
      "113\n",
      "16\n",
      "16\n",
      "16\n"
     ]
    },
    {
     "ename": "NameError",
     "evalue": "name 'inspect' is not defined",
     "output_type": "error",
     "traceback": [
      "\u001b[0;31m---------------------------------------------------------------------------\u001b[0m",
      "\u001b[0;31mNameError\u001b[0m                                 Traceback (most recent call last)",
      "\u001b[0;32m<ipython-input-28-250a6ddce31f>\u001b[0m in \u001b[0;36m<module>\u001b[0;34m\u001b[0m\n\u001b[1;32m     31\u001b[0m \u001b[0;34m\u001b[0m\u001b[0m\n\u001b[1;32m     32\u001b[0m \u001b[0;32mfor\u001b[0m \u001b[0mindex\u001b[0m\u001b[0;34m,\u001b[0m\u001b[0mthing\u001b[0m \u001b[0;32min\u001b[0m \u001b[0menumerate\u001b[0m\u001b[0;34m(\u001b[0m\u001b[0mlocals\u001b[0m\u001b[0;34m(\u001b[0m\u001b[0;34m)\u001b[0m\u001b[0;34m.\u001b[0m\u001b[0mitems\u001b[0m\u001b[0;34m(\u001b[0m\u001b[0;34m)\u001b[0m\u001b[0;34m)\u001b[0m\u001b[0;34m:\u001b[0m\u001b[0;34m\u001b[0m\u001b[0;34m\u001b[0m\u001b[0m\n\u001b[0;32m---> 33\u001b[0;31m     \u001b[0mprint\u001b[0m\u001b[0;34m(\u001b[0m\u001b[0mget_size\u001b[0m\u001b[0;34m(\u001b[0m\u001b[0mthing\u001b[0m\u001b[0;34m[\u001b[0m\u001b[0;36m1\u001b[0m\u001b[0;34m]\u001b[0m\u001b[0;34m)\u001b[0m\u001b[0;34m)\u001b[0m\u001b[0;34m\u001b[0m\u001b[0;34m\u001b[0m\u001b[0m\n\u001b[0m",
      "\u001b[0;32m<ipython-input-28-250a6ddce31f>\u001b[0m in \u001b[0;36mget_size\u001b[0;34m(obj, seen)\u001b[0m\n\u001b[1;32m     16\u001b[0m             \u001b[0;32mif\u001b[0m \u001b[0;34m'__dict__'\u001b[0m \u001b[0;32min\u001b[0m \u001b[0mcls\u001b[0m\u001b[0;34m.\u001b[0m\u001b[0m__dict__\u001b[0m\u001b[0;34m:\u001b[0m\u001b[0;34m\u001b[0m\u001b[0;34m\u001b[0m\u001b[0m\n\u001b[1;32m     17\u001b[0m                 \u001b[0md\u001b[0m \u001b[0;34m=\u001b[0m \u001b[0mcls\u001b[0m\u001b[0;34m.\u001b[0m\u001b[0m__dict__\u001b[0m\u001b[0;34m[\u001b[0m\u001b[0;34m'__dict__'\u001b[0m\u001b[0;34m]\u001b[0m\u001b[0;34m\u001b[0m\u001b[0;34m\u001b[0m\u001b[0m\n\u001b[0;32m---> 18\u001b[0;31m                 \u001b[0;32mif\u001b[0m \u001b[0minspect\u001b[0m\u001b[0;34m.\u001b[0m\u001b[0misgetsetdescriptor\u001b[0m\u001b[0;34m(\u001b[0m\u001b[0md\u001b[0m\u001b[0;34m)\u001b[0m \u001b[0;32mor\u001b[0m \u001b[0minspect\u001b[0m\u001b[0;34m.\u001b[0m\u001b[0mismemberdescriptor\u001b[0m\u001b[0;34m(\u001b[0m\u001b[0md\u001b[0m\u001b[0;34m)\u001b[0m\u001b[0;34m:\u001b[0m\u001b[0;34m\u001b[0m\u001b[0;34m\u001b[0m\u001b[0m\n\u001b[0m\u001b[1;32m     19\u001b[0m                     \u001b[0msize\u001b[0m \u001b[0;34m+=\u001b[0m \u001b[0mget_size\u001b[0m\u001b[0;34m(\u001b[0m\u001b[0mobj\u001b[0m\u001b[0;34m.\u001b[0m\u001b[0m__dict__\u001b[0m\u001b[0;34m,\u001b[0m \u001b[0mseen\u001b[0m\u001b[0;34m)\u001b[0m\u001b[0;34m\u001b[0m\u001b[0;34m\u001b[0m\u001b[0m\n\u001b[1;32m     20\u001b[0m                 \u001b[0;32mbreak\u001b[0m\u001b[0;34m\u001b[0m\u001b[0;34m\u001b[0m\u001b[0m\n",
      "\u001b[0;31mNameError\u001b[0m: name 'inspect' is not defined"
     ]
    }
   ],
   "source": [
    "import sys\n",
    "\n",
    "def get_size(obj, seen=None):\n",
    "    \"\"\"Recursively finds size of objects in bytes\"\"\"\n",
    "    size = sys.getsizeof(obj)\n",
    "    if seen is None:\n",
    "        seen = set()\n",
    "    obj_id = id(obj)\n",
    "    if obj_id in seen:\n",
    "        return 0\n",
    "    # Important mark as seen *before* entering recursion to gracefully handle\n",
    "    # self-referential objects\n",
    "    seen.add(obj_id)\n",
    "    if hasattr(obj, '__dict__'):\n",
    "        for cls in obj.__class__.__mro__:\n",
    "            if '__dict__' in cls.__dict__:\n",
    "                d = cls.__dict__['__dict__']\n",
    "                if inspect.isgetsetdescriptor(d) or inspect.ismemberdescriptor(d):\n",
    "                    size += get_size(obj.__dict__, seen)\n",
    "                break\n",
    "    if isinstance(obj, dict):\n",
    "        size += sum((get_size(v, seen) for v in obj.values()))\n",
    "        size += sum((get_size(k, seen) for k in obj.keys()))\n",
    "    elif hasattr(obj, '__iter__') and not isinstance(obj, (str, bytes, bytearray)):\n",
    "        size += sum((get_size(i, seen) for i in obj))\n",
    "        \n",
    "    if hasattr(obj, '__slots__'): # can have __slots__ with __dict__\n",
    "        size += sum(get_size(getattr(obj, s), seen) for s in obj.__slots__ if hasattr(obj, s))\n",
    "        \n",
    "    return size\n",
    "\n",
    "for index,thing in enumerate(locals().items()):\n",
    "    print(get_size(thing[1]))"
   ]
  },
  {
   "cell_type": "code",
   "execution_count": 17,
   "metadata": {},
   "outputs": [
    {
     "name": "stdout",
     "output_type": "stream",
     "text": [
      "Collecting 0 ...\n",
      "Unreachable objects: 100\n",
      "Remaining Garbage:\n",
      "[]\n",
      "\n",
      "Collecting 1 ...\n",
      "Unreachable objects: 0\n",
      "Remaining Garbage:\n",
      "[]\n",
      "\n"
     ]
    }
   ],
   "source": [
    "#globals().values()\n",
    "import pprint\n",
    "\n",
    "for i in range(2):\n",
    "    print('Collecting %d ...' % i)\n",
    "    n = gc.collect()\n",
    "    print('Unreachable objects:', n)\n",
    "    print('Remaining Garbage:', )\n",
    "    pprint.pprint(gc.garbage)\n",
    "    print()"
   ]
  },
  {
   "cell_type": "code",
   "execution_count": 28,
   "metadata": {},
   "outputs": [],
   "source": [
    "n= gc.collect()"
   ]
  },
  {
   "cell_type": "code",
   "execution_count": 29,
   "metadata": {},
   "outputs": [
    {
     "data": {
      "text/plain": [
       "167"
      ]
     },
     "execution_count": 29,
     "metadata": {},
     "output_type": "execute_result"
    }
   ],
   "source": [
    "n"
   ]
  },
  {
   "cell_type": "code",
   "execution_count": 6,
   "metadata": {},
   "outputs": [],
   "source": [
    "#path to file to run widget on\n",
    "file_path='/Users/olofjonsson/Projects/Ice/Droplet_codes/Package/Example_images/255kHz_48ulpermin-06012020122750-15.png'"
   ]
  },
  {
   "cell_type": "code",
   "execution_count": 7,
   "metadata": {},
   "outputs": [
    {
     "data": {
      "application/vnd.jupyter.widget-view+json": {
       "model_id": "2392ca1451eb4823ba96c86353574810",
       "version_major": 2,
       "version_minor": 0
      },
      "text/plain": [
       "interactive(children=(FloatSlider(value=0.15, description='threshold_fraction', max=1.0, min=0.01), IntSlider(…"
      ]
     },
     "metadata": {},
     "output_type": "display_data"
    }
   ],
   "source": [
    "def test_params(path_to_image,\n",
    "               threshold_fraction=0.15,\n",
    "               closing_kernel=30,\n",
    "               smallest_size_um2=10000,\n",
    "               d_um=2.2,\n",
    "               scaling=0.345):\n",
    "    cuts,metrics,fig=do_cutouts(path_to_image=path_to_image,d_um=d_um,closing_kernel=closing_kernel,threshold_fraction=threshold_fraction,scaling=scaling,show_diagnostics=True)\n",
    "    fig.show()\n",
    "\n",
    "\n",
    "_=interact(test_params,path_to_image=fixed(file_path),\n",
    "         d_um=widgets.FloatSlider(min=0.1,max=100,value=2.2),\n",
    "         closing_kernel=widgets.IntSlider(min=1,max=100,value=30),\n",
    "         smallest_size_um2=widgets.FloatSlider(min=1,max=1e6,value=10000),\n",
    "         threshold_fraction=widgets.FloatSlider(min=0.01,max=1,value=0.15),\n",
    "         scaling=fixed(0.345))"
   ]
  },
  {
   "cell_type": "code",
   "execution_count": null,
   "metadata": {},
   "outputs": [],
   "source": []
  }
 ],
 "metadata": {
  "kernelspec": {
   "display_name": "Python 3",
   "language": "python",
   "name": "python3"
  },
  "language_info": {
   "codemirror_mode": {
    "name": "ipython",
    "version": 3
   },
   "file_extension": ".py",
   "mimetype": "text/x-python",
   "name": "python",
   "nbconvert_exporter": "python",
   "pygments_lexer": "ipython3",
   "version": "3.8.5"
  }
 },
 "nbformat": 4,
 "nbformat_minor": 4
}

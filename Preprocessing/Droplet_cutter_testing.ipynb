{
 "cells": [
  {
   "cell_type": "code",
   "execution_count": 1,
   "metadata": {},
   "outputs": [
    {
     "name": "stderr",
     "output_type": "stream",
     "text": [
      "Using TensorFlow backend.\n"
     ]
    }
   ],
   "source": [
    "import numpy as np\n",
    "import cv2\n",
    "import matplotlib.pyplot as plt\n",
    "import cvlib as cv\n",
    "import pandas as pd\n",
    "from cvlib.object_detection import draw_bbox\n",
    "from ipywidgets import *"
   ]
  },
  {
   "cell_type": "code",
   "execution_count": 17,
   "metadata": {},
   "outputs": [],
   "source": [
    "class ImageFile(object):\n",
    "    \"\"\"A file that is a picture of droplets\n",
    "\n",
    "    Attributes:\n",
    "        path: The location of the file\n",
    "        name: the file name\n",
    "    \"\"\"\n",
    "\n",
    "    def __init__(self, path, name):\n",
    "        \"\"\"Returns an ImageFile object\"\"\"\n",
    "        self.path = path\n",
    "        self.name = name\n",
    "\n",
    "    def __repr__(self):\n",
    "         return \"Test()\"\n",
    "    def __str__(self):\n",
    "         return str(vars(self))    \n",
    "\n",
    "\n",
    "\n",
    "class DropletImage(object):\n",
    "    \"\"\"An image of a single droplet\n",
    "    Attributes:\n",
    "        original_image: the original image the droplet is from (path+name)\n",
    "        path: the path to the  droplet image\n",
    "        id_number: the id of the droplet\n",
    "        position: the position of the droplet in the original image\n",
    "        radius: the radius of the droplet\n",
    "        type: the type of droplet\n",
    "    \"\"\"\n",
    "\n",
    "    def __init__(self, original_image_path=None, original_image_name=None,path=None,\n",
    "                 id_number=None, position=(None, None), radius=None, type=None):\n",
    "        \"\"\"Returns an DropletImage object\"\"\"\n",
    "        self.original_image_path = original_image_path\n",
    "        self.original_image_name = original_image_name\n",
    "        self.path = path\n",
    "        self.id = id_number\n",
    "        self.position = position\n",
    "        self.radius = radius\n",
    "        self.type = radius\n",
    "\n",
    "#    def set_position(self, position=(None, None)):\n",
    "#        \"\"\"Set the position of the droplet in the original image\"\"\"\n",
    "#        self.position = position\n",
    "\n",
    "    def gen_descriptor(self):\n",
    "        end"
   ]
  },
  {
   "cell_type": "code",
   "execution_count": 18,
   "metadata": {},
   "outputs": [
    {
     "name": "stdout",
     "output_type": "stream",
     "text": [
      "{'path': '/Users/olofjonsson/Projects/Ice/Droplet_codes/Preprocessing/Test_Images', 'name': '1.5mm_53.6ul_254.5kHz.png'}\n"
     ]
    }
   ],
   "source": [
    "test_image_1 = ImageFile(\n",
    "    '/Users/olofjonsson/Projects/Ice/Droplet_codes/Preprocessing/Test_Images',\n",
    "    '1.5mm_53.6ul_254.5kHz.png')\n",
    "\n",
    "print(test_image_1)\n",
    "\n",
    "test_droplet1=DropletImage(test_image_1.path,test_image_1.name)"
   ]
  },
  {
   "cell_type": "code",
   "execution_count": null,
   "metadata": {},
   "outputs": [],
   "source": []
  }
 ],
 "metadata": {
  "kernelspec": {
   "display_name": "Python 3",
   "language": "python",
   "name": "python3"
  },
  "language_info": {
   "codemirror_mode": {
    "name": "ipython",
    "version": 3
   },
   "file_extension": ".py",
   "mimetype": "text/x-python",
   "name": "python",
   "nbconvert_exporter": "python",
   "pygments_lexer": "ipython3",
   "version": "3.7.6"
  }
 },
 "nbformat": 4,
 "nbformat_minor": 4
}

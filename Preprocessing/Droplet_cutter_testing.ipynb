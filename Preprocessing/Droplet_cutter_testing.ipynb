{
 "cells": [
  {
   "cell_type": "code",
   "execution_count": 1,
   "metadata": {},
   "outputs": [
    {
     "name": "stderr",
     "output_type": "stream",
     "text": [
      "Using TensorFlow backend.\n"
     ]
    }
   ],
   "source": [
    "import numpy as np\n",
    "import cv2\n",
    "import matplotlib.pyplot as plt\n",
    "import cvlib as cv\n",
    "import pandas as pd\n",
    "from cvlib.object_detection import draw_bbox\n",
    "from ipywidgets import *"
   ]
  },
  {
   "cell_type": "code",
   "execution_count": 52,
   "metadata": {},
   "outputs": [
    {
     "ename": "IndentationError",
     "evalue": "unexpected indent (<ipython-input-52-9ac8ebc1b776>, line 84)",
     "output_type": "error",
     "traceback": [
      "\u001b[0;36m  File \u001b[0;32m\"<ipython-input-52-9ac8ebc1b776>\"\u001b[0;36m, line \u001b[0;32m84\u001b[0m\n\u001b[0;31m    if path == None:\u001b[0m\n\u001b[0m    ^\u001b[0m\n\u001b[0;31mIndentationError\u001b[0m\u001b[0;31m:\u001b[0m unexpected indent\n"
     ]
    }
   ],
   "source": [
    "class ImageFile(object):\n",
    "    \"\"\"A file that is a picture of droplets\n",
    "\n",
    "    Attributes:\n",
    "        path: The location of the file\n",
    "        name: the file name\n",
    "    \"\"\"\n",
    "\n",
    "    def __init__(self, path, name):\n",
    "        \"\"\"Returns an ImageFile object\"\"\"\n",
    "        self.path = path\n",
    "        self.name = name\n",
    "        list_of_droplets = []\n",
    "\n",
    "    def __repr__(self):\n",
    "        return \"ImageFile()\"\n",
    "\n",
    "    def __str__(self):\n",
    "        return str(vars(self))\n",
    "\n",
    "    def find_droplets(self, method='HOUGH'):\n",
    "        \"\"\"Find the position of droplets\n",
    "        defaulting to the HoughCircles method from OpenCV2\n",
    "        \"\"\"\n",
    "        param1 = 80\n",
    "        param2 = 20\n",
    "        minRadius = 5\n",
    "        maxRadius = 50\n",
    "\n",
    "        in_img_gray = cv2.cvtColor(\n",
    "            in_img, cv2.COLOR_BGR2GRAY)  # grayscale concversion\n",
    "        circles = cv2.HoughCircles(in_img_gray,\n",
    "                                   cv2.HOUGH_GRADIENT,\n",
    "                                   1,\n",
    "                                   120,\n",
    "                                   param1=param1,\n",
    "                                   param2=param2,\n",
    "                                   minRadius=minRadius,\n",
    "                                   maxRadius=maxRadius)\n",
    "        circles = np.uint16(np.around(circles))\n",
    "\n",
    "        # Start the process of cutting out the droplets\n",
    "        x_positions = circles[0, :, 0]\n",
    "        y_positions = circles[0, :, 1]\n",
    "        radii = circles[0, :, 2]\n",
    "\n",
    "        cut_from = in_img.copy()\n",
    "\n",
    "        for circle_index, value in enumerate(x_positions):\n",
    "            x_pos = x_positions[circle_index]\n",
    "            y_pos = y_positions[circle_index]\n",
    "            radius = radii[circle_index]\n",
    "            if circle_index > -1:\n",
    "                # image_i=cut_from[x_pos:radius,y_pos:radius]\n",
    "                image_i = cut_from[y_pos-radius*2:y_pos +\n",
    "                                   radius*2, x_pos-radius*2:x_pos+radius*2]\n",
    "\n",
    "                droplet=\n",
    "                list_of_droplets.append(DropletImage(\n",
    "                    original_image_path=self.path,\n",
    "                    original_image_name=self.path,\n",
    "                    path=self.path+'/Cuts',\n",
    "                    image=image_i,\n",
    "                    id_number=circle_index,\n",
    "                    position=(x_pos, y_pos),\n",
    "                    radius=radius, drop_type=None))\n",
    "\n",
    "\n",
    "class DropletImage(object):\n",
    "    \"\"\"An image of a single droplet\n",
    "    Attributes:\n",
    "        original_image: the original image the droplet is from (path+name)\n",
    "        path: the path to the  droplet image\n",
    "        id_number: the id of the droplet\n",
    "        position: the position of the droplet in the original image\n",
    "        radius: the radius of the droplet\n",
    "        type: the type of droplet\n",
    "    \"\"\"\n",
    "\n",
    "    def __init__(self, original_image_path=None, original_image_name=None, path=None,\n",
    "                 image=None, id_number=None, position=(None, None), radius=None, drop_type=None):\n",
    "        \"\"\"Returns an DropletImage object\"\"\"\n",
    "        self.original_image_path=original_image_path\n",
    "        self.original_image_name=original_image_name\n",
    "            if path == None:\n",
    "                self.path=self.original_image_path\n",
    "            else:\n",
    "                self.path=path\n",
    "        self.image=image  # open cv object\n",
    "        self.id_number=id_number\n",
    "        self.position=position\n",
    "        self.radius=radius\n",
    "        self.drop_type=drop_type\n",
    "        self.gen_descriptor()\n",
    "        self.desc_string=None\n",
    "\n",
    "    def __repr__(self):\n",
    "        return \"DropletImage()\"\n",
    "\n",
    "    def __str__(self):\n",
    "        return str(vars(self))\n",
    "\n",
    "#    def set_position(self, position=(None, None)):\n",
    "#        \"\"\"Set the position of the droplet in the original image\"\"\"\n",
    "#        self.position = position\n",
    "\n",
    "    def show_droplet(self):\n",
    "        plt.imshow(image_i)  # openCV object\n",
    "\n",
    "    def save_image(self):\n",
    "        if self.desc_string == None:\n",
    "            self.gen_descriptor()\n",
    "        cv2.imwrite('{0}/{1}_x_{2}y_{3}r_{4}_cut{5}.png'.format(\n",
    "                    self.path,\n",
    "                    self.id,\n",
    "                    self.position(0),\n",
    "                    self.position(1),\n",
    "                    self.radius,\n",
    "                    self.id),\n",
    "                    self.image)\n",
    "\n",
    "    def gen_descriptor(self, desc_type=None):\n",
    "        if desc_type == None:\n",
    "            desc_string='\\t'.join(\n",
    "                [str(self.id_number), str(self.position), str(self.radius), str(self.type)])\n",
    "            header_string='\\t'.join(\n",
    "                ['ID', 'Position (x,y)', 'Radius', 'Type'])\n",
    "            self.header_string=header_string\n",
    "            self.desc_string=desc_string\n",
    "            return desc_string\n",
    "        else:\n",
    "            return self.id"
   ]
  },
  {
   "cell_type": "code",
   "execution_count": 49,
   "metadata": {},
   "outputs": [
    {
     "name": "stdout",
     "output_type": "stream",
     "text": [
      "{'path': '/Users/olofjonsson/Projects/Ice/Droplet_codes/Preprocessing/Test_Images', 'name': '1.5mm_53.6ul_254.5kHz.png'}\n",
      "{'original_image_path': '/Users/olofjonsson/Projects/Ice/Droplet_codes/Preprocessing/Test_Images', 'original_image_name': '1.5mm_53.6ul_254.5kHz.png', 'path': None, 'id': None, 'position': (None, None), 'radius': None, 'type': None, 'header_string': 'ID\\tPosition (x,y)\\tRadius\\tType', 'desc_string': None}\n",
      "None\t(None, None)\tNone\tNone\n"
     ]
    }
   ],
   "source": [
    "test_image_1 = ImageFile(\n",
    "    '/Users/olofjonsson/Projects/Ice/Droplet_codes/Preprocessing/Test_Images',\n",
    "    '1.5mm_53.6ul_254.5kHz.png')\n",
    "\n",
    "print(test_image_1)\n",
    "\n",
    "test_droplet1 = DropletImage(test_image_1.path, test_image_1.name)\n",
    "\n",
    "print(test_droplet1)\n",
    "\n",
    "text = test_droplet1.gen_descriptor()\n",
    "print(text)"
   ]
  },
  {
   "cell_type": "code",
   "execution_count": 43,
   "metadata": {},
   "outputs": [
    {
     "name": "stdout",
     "output_type": "stream",
     "text": [
      "None\t(None, None)\tNone\tNone\n"
     ]
    }
   ],
   "source": []
  },
  {
   "cell_type": "code",
   "execution_count": null,
   "metadata": {},
   "outputs": [],
   "source": []
  }
 ],
 "metadata": {
  "kernelspec": {
   "display_name": "Python 3",
   "language": "python",
   "name": "python3"
  },
  "language_info": {
   "codemirror_mode": {
    "name": "ipython",
    "version": 3
   },
   "file_extension": ".py",
   "mimetype": "text/x-python",
   "name": "python",
   "nbconvert_exporter": "python",
   "pygments_lexer": "ipython3",
   "version": "3.7.6"
  }
 },
 "nbformat": 4,
 "nbformat_minor": 4
}

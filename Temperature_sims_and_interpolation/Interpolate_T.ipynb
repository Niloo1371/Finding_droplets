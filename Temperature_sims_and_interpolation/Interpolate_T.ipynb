{
 "cells": [
  {
   "cell_type": "code",
   "execution_count": 8,
   "metadata": {},
   "outputs": [
    {
     "data": {
      "text/plain": [
       "array([232.05867058])"
      ]
     },
     "execution_count": 8,
     "metadata": {},
     "output_type": "execute_result"
    }
   ],
   "source": [
    "import h5py\n",
    "import numpy as np\n",
    "from scipy.interpolate import griddata\n",
    "from scipy.interpolate import interp2d\n",
    "from scipy.interpolate import RegularGridInterpolator\n",
    "\n",
    "def read_hdf5(path, filename):\n",
    "    f = h5py.File('{0}/{1}'.format(path, filename), 'r')\n",
    "    return f['data']['time'], f['data']['Tave']\n",
    "\n",
    "def T_at_distance(distance, velocity, droplet_size, T_function):\n",
    "    '''Distance in m, velocity in m/s, droplet_size is diameter in micrometer'''\n",
    "    time = np.divide(distance, velocity)\n",
    "    temperature = T_function([droplet_size, time], method='linear')\n",
    "    return temperature\n",
    "\n",
    "def T_at_time(time, droplet_size, T_function):\n",
    "    '''Time in s, droplet_size is diameter in micrometer'''\n",
    "    temperature = T_function([droplet_size, time], method='linear')\n",
    "    return temperature\n",
    "\n",
    "\n",
    "#These are the sizes that are in the folder of hdf5 files. Must have the same timesteps\n",
    "sizes = [3, 5, 10, 12, 15, 16, 17, 18, 19, 20, 21, 22, 23, 24, 25, 26, 27]\n",
    "\n",
    "#sizes is the x \n",
    "x = sizes\n",
    "\n",
    "# y is the timesteps, and this is taken from the file t_calib_22.h5\n",
    "time, _ = read_hdf5('From_Niloo/Temp_sim_Jan2010', 't_calib_22.h5')\n",
    "y = list(time[:])  \n",
    "\n",
    "#Create an empy matrix with the size of the sizes and times\n",
    "temperatures = np.zeros([len(x), len(y)])\n",
    "\n",
    "#Filling the matrix with actual values measured.\n",
    "for size_index, size_value in enumerate(sizes):\n",
    "    _, temperatures[size_index] = read_hdf5(\n",
    "        'From_Niloo/Temp_sim_Jan2010', 't_calib_{0}.h5'.format(size_value))\n",
    "\n",
    "# This is a function returned by the RegularGridInterpolator\n",
    "#interpolate_T = interp2d(xx, yy, temperatures, kind='linear',bounds_error=True)\n",
    "interpolate_T = RegularGridInterpolator((x, y), temperatures)\n",
    "\n",
    "#Distance in mm, velocity in m/s, droplet_size is diameter in micrometer\n",
    "T_at_distance(20*1e-3, 5, 22.5, interpolate_T)"
   ]
  },
  {
   "cell_type": "code",
   "execution_count": 9,
   "metadata": {},
   "outputs": [
    {
     "name": "stdout",
     "output_type": "stream",
     "text": [
      "[array([232.05867058]), array([230.05054251])]\n"
     ]
    }
   ],
   "source": [
    "#Distance in mm, velocity in m/s, droplet_size is diameter in micrometer\n",
    "distances=[20*1e-3,25*1e-3]\n",
    "\n",
    "temperatures = [T_at_distance(x, 5, 22.5, interpolate_T) for x in distances]\n",
    "\n",
    "print(temperatures)"
   ]
  },
  {
   "cell_type": "code",
   "execution_count": 10,
   "metadata": {},
   "outputs": [
    {
     "name": "stdout",
     "output_type": "stream",
     "text": [
      "[array([232.05867058]), array([230.05054251])]\n"
     ]
    }
   ],
   "source": [
    "#Time in s, droplet_size is diameter in micrometer\n",
    "times=[0.001,0.002]\n",
    "\n",
    "temperatures = [T_at_distance(x, 5, 22.5, interpolate_T) for x in distances]\n",
    "\n",
    "print(temperatures)"
   ]
  },
  {
   "cell_type": "code",
   "execution_count": null,
   "metadata": {},
   "outputs": [],
   "source": []
  }
 ],
 "metadata": {
  "kernelspec": {
   "display_name": "Python 3",
   "language": "python",
   "name": "python3"
  },
  "language_info": {
   "codemirror_mode": {
    "name": "ipython",
    "version": 3
   },
   "file_extension": ".py",
   "mimetype": "text/x-python",
   "name": "python",
   "nbconvert_exporter": "python",
   "pygments_lexer": "ipython3",
   "version": "3.7.7"
  }
 },
 "nbformat": 4,
 "nbformat_minor": 4
}

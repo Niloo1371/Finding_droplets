{
 "cells": [
  {
   "cell_type": "markdown",
   "id": "12e843b6-c981-4ad7-8770-0fe45991a1b6",
   "metadata": {},
   "source": [
    "# Analysis of droplets\n",
    "\n",
    "This is a cleaned up version of the analysis made by Olof Jönsson 2018-2021 at KTH, together with Niloofar Esmaeildoost and Jonas Sellberg. \n",
    "\n",
    "No parts of this code can be used without proper citation to the upcoming article with main author Niloofar Esmaeildoost. Please contact Olof at olof.jnsson@gmail.com for other uses.\n",
    "\n"
   ]
  },
  {
   "cell_type": "code",
   "execution_count": 1,
   "id": "9ad9be06-7dd1-46b9-83ec-6d22f971a32f",
   "metadata": {},
   "outputs": [],
   "source": [
    "import os\n",
    "\n",
    "import numpy as np\n",
    "import cv2\n",
    "import re  # for string splitting\n",
    "import h5py\n",
    "\n",
    "from scipy import signal\n",
    "from series import Series\n",
    "\n",
    "\n",
    "import matplotlib.pyplot as plt\n",
    "import ipywidgets as widgets\n",
    "import numpy.random as np_random\n",
    "import random\n",
    "import scipy.stats as stats\n",
    "import matplotlib.cm as cm\n",
    "import matplotlib.patches as patches\n",
    "\n",
    "from scipy.interpolate import griddata\n",
    "from scipy.interpolate import interp2d\n",
    "from scipy.interpolate import RegularGridInterpolator\n",
    "\n",
    "\n",
    "import gc\n",
    "# %matplotlib"
   ]
  },
  {
   "cell_type": "markdown",
   "id": "be7b8042-95df-4eb9-b5e0-3237a8edea1b",
   "metadata": {},
   "source": [
    "### Import of hdf5-data"
   ]
  },
  {
   "cell_type": "code",
   "execution_count": 2,
   "id": "3d63bab0-3b21-4d46-b4c4-0d8dd6239037",
   "metadata": {},
   "outputs": [],
   "source": [
    "def read_hdf5(path, filename):\n",
    "    f = h5py.File('{0}/{1}'.format(path, filename), 'r')\n",
    "    return f['data']['time'], f['data']['Tave']\n",
    "\n",
    "\n",
    "# These are the sizes that are in the folder of hdf5 files. Must have the same timesteps\n",
    "sizes = [3, 5, 10, 12, 15, 16, 17, 18, 19, 20, 21, 22, 23, 24, 25, 26, 27]\n",
    "\n",
    "# sizes is the x\n",
    "x = sizes\n",
    "\n",
    "# y is the timesteps, and this is taken from the file t_calib_22.h5\n",
    "time, _ = read_hdf5(\n",
    "    '../Temperature_sims_and_interpolation/From_Niloo/Temp_sim_Jan2010/', 't_calib_22.h5')\n",
    "y = list(time[:])\n",
    "\n",
    "# Create an empy matrix with the size of the sizes and times\n",
    "temperatures = np.zeros([len(x), len(y)])\n",
    "\n",
    "# Filling the matrix with actual values measured.\n",
    "for size_index, size_value in enumerate(sizes):\n",
    "    _, temperatures[size_index] = read_hdf5(\n",
    "        '../Temperature_sims_and_interpolation/From_Niloo/Temp_sim_Jan2010/', 't_calib_{0}.h5'.format(size_value))\n",
    "\n",
    "# This is a function returned by the RegularGridInterpolator\n",
    "#interpolate_T = interp2d(xx, yy, temperatures, kind='linear',bounds_error=True)\n",
    "interpolate_T = RegularGridInterpolator((x, y), temperatures)"
   ]
  },
  {
   "cell_type": "markdown",
   "id": "85d623be-9e3e-4ff3-820d-e5155666ad5e",
   "metadata": {},
   "source": [
    "## Estimating count errors\n",
    "Note that this method is NOT used in the MC! this is an independent method for finding the 95% confidence of a count. Here is a good explanation that also shows where the 1.96 vlue in Wilson comes from: https://en.wikipedia.org/wiki/Binomial_proportion_confidence_interval"
   ]
  },
  {
   "cell_type": "code",
   "execution_count": 3,
   "id": "21f129bc-afc2-4ca1-84c4-a6e7bff9d800",
   "metadata": {},
   "outputs": [
    {
     "name": "stdout",
     "output_type": "stream",
     "text": [
      "For a count of 149\n",
      "And a fraction that is 0.12\n",
      "The count error limits will then be:\n",
      "Wilson method lower limit 0.07715427572024146\n",
      "Wilson method higher limit 0.18194795822653745\n"
     ]
    }
   ],
   "source": [
    "def binomial_interval(n, p, method='Wald'):\n",
    "    z = 1.96 #this is for 95% confidence. \n",
    "    if method == 'Wald':\n",
    "        error = z*np.sqrt((1.0-p)*p/n)\n",
    "    elif method == 'Agresti–Coull':\n",
    "        error = z*np.sqrt((1.0-p)*p/(n+z*z))\n",
    "    elif method == 'Wilson_upper':\n",
    "        z = 1.96\n",
    "        num = p+z*z/(2*n)+z*np.sqrt(p*(1-p)/n+z*z/(4*n*n))\n",
    "        den = 1+(z*z)/n\n",
    "        error = np.divide(num, den)\n",
    "    elif method == 'Wilson_lower':\n",
    "        z = -1.96\n",
    "        num = p+z*z/(2*n)+z*np.sqrt(p*(1-p)/n+z*z/(4*n*n))\n",
    "        den = 1+(z*z)/n\n",
    "        error = np.divide(num, den)\n",
    "    else:\n",
    "        print('Not an implemented method specified')\n",
    "    return error\n",
    "\n",
    "count=149\n",
    "fraction=0.12\n",
    "\n",
    "print('For a count of ' + str(count))\n",
    "print('And a fraction that is ' + str(fraction))\n",
    "print('The count error limits will then be:')\n",
    "print('Wilson method lower limit ' + str(binomial_interval(count, fraction, method='Wilson_lower')))\n",
    "print('Wilson method higher limit ' + str(binomial_interval(count, fraction, method='Wilson_upper')))"
   ]
  },
  {
   "cell_type": "markdown",
   "id": "0fd0b34e-e13b-4fbc-bc93-91fec3515332",
   "metadata": {},
   "source": [
    "## Calculating nucleation rate\n",
    "\n",
    "With Monte Carlo error analysis\n",
    "\n",
    "### Entering measured data"
   ]
  },
  {
   "cell_type": "code",
   "execution_count": 4,
   "id": "ec879020-33c5-4ddb-8313-09dc43cc226e",
   "metadata": {},
   "outputs": [
    {
     "name": "stderr",
     "output_type": "stream",
     "text": [
      "/Users/olofjonsson/Projects/Ice/Droplet_codes/Examples/series.py:70: FutureWarning: elementwise comparison failed; returning scalar instead, but in the future will perform elementwise comparison\n",
      "  if type_counts[0] != 'korv':\n",
      "/Users/olofjonsson/Projects/Ice/Droplet_codes/Examples/series.py:342: RuntimeWarning: divide by zero encountered in true_divide\n",
      "  the_log = np.log(np.divide(np.subtract(1, f_2), np.subtract(1, f_1)))\n",
      "/Users/olofjonsson/Projects/Ice/Droplet_codes/Examples/series.py:373: RuntimeWarning: divide by zero encountered in log\n",
      "  fractions_log=np.log(np.subtract(1,fractions)) #It's the water fractions we use\n"
     ]
    }
   ],
   "source": [
    "# First make an object with a name, and a given interpolation function for T\n",
    "dec7_with_types = Series('Dec 7 with types', interpolate_T)\n",
    "\n",
    "\n",
    "#Define all the various measured datapoints\n",
    "\n",
    "counts = np.multiply([633, 566, 298, 325], 1) #Counts of droplets in focus\n",
    "fractions = [0.0458, 0.362, 0.9865, 1]  # ice fraction for focused\n",
    "distances = np.multiply([40, 45, 47.5, 50], 0.001)  # in m\n",
    "\n",
    "\n",
    "#Define all droplet types. \n",
    "sideblob_counts = [15, 50, 192, 176]\n",
    "marbles_counts = [12, 149, 74, 15]\n",
    "fractured_counts = [2, 6, 28, 134]\n",
    "water_counts = [604, 361, 4, 0]\n",
    "water_counts = [604, 361, 4, 2]\n",
    "\n",
    "type_counts = np.array([sideblob_counts, marbles_counts,\n",
    "                       fractured_counts, water_counts]).T\n",
    "\n",
    "#Feed this to the set_observables method. \n",
    "# d is droplet diameter in m\n",
    "# s is droplet spacing in m \n",
    "# q is flow rate in microliters/min\n",
    "\n",
    "dec7_with_types.set_observables(frequency=398,\n",
    "                                d_value=18.145e-6,\n",
    "                                d_sigma=0.409e-6,\n",
    "                                s_value=38.676e-6,\n",
    "                                s_sigma=4.063e-6,\n",
    "                                q_value=57.5,\n",
    "                                distances=distances,\n",
    "                                counts=counts,\n",
    "                                fractions=fractions,\n",
    "                                type_counts=type_counts)\n",
    "\n",
    "# This is with the last half cutout, when the pressure dropped.\n",
    "nov3_with_types = Series('Nov 3 with types', interpolate_T)\n",
    "\n",
    "counts = np.multiply([48, 27, 34, 210, 715, 881, 797, 84], 1)\n",
    "fractions = [0, 0.03, 0.00, 0.06, 0.04, 0.04,\n",
    "             0.13, 0.35]  # ice fraction for focused\n",
    "distances = np.multiply([15, 20, 25, 30, 35, 40, 45, 50], 0.001)  # in m\n",
    "\n",
    "sideblob_counts = [0, 0, 0, 6, 12, 14, 62, 22]\n",
    "marbles_counts = [0, 1, 0, 5, 12, 13, 31, 21]\n",
    "fractured_counts = [0, 0, 0, 0, 0, 2, 0, 0]\n",
    "distorted = [0, 0, 0, 2, 3, 6, 13, 6]\n",
    "fractured_counts = np.add(fractured_counts, distorted)\n",
    "\n",
    "# fractured vs distorted\n",
    "water_counts = [48, 38, 34, 197, 688, 846, 691, 243]\n",
    "\n",
    "type_counts = np.array([sideblob_counts, marbles_counts,\n",
    "                       fractured_counts, water_counts]).T\n",
    "\n",
    "nov3_with_types.set_observables(d_value=20.2e-6,\n",
    "                                d_sigma=0.496e-6,\n",
    "                                s_value=58.3e-6,\n",
    "                                s_sigma=3.67e-6,\n",
    "                                q_value=56.5,\n",
    "                                distances=distances,\n",
    "                                counts=counts,\n",
    "                                fractions=fractions,\n",
    "                                type_counts=type_counts)\n",
    "\n",
    "\n",
    "'''\n",
    "Data from https://docs.google.com/spreadsheets/d/11-GYikog0r1H5IH8vmNHlBlmi4fgEX_WUqMD0C2dIpY/edit#gid=0\n",
    "and from https://docs.google.com/spreadsheets/d/1VOADjIf649fGTbqI5R4Td48dqzSHE5dx0zcEj2TWAcc/edit#gid=2063575402\n",
    "'''\n",
    "mar12_with_types = Series('Mar 12 with types', interpolate_T)\n",
    "counts = np.multiply([357,\n",
    "                      183,\n",
    "                      105,\n",
    "                      158,\n",
    "                      113,\n",
    "                      471,\n",
    "                      319,\n",
    "                      406,\n",
    "                      327,\n",
    "                      454,\n",
    "                      206,\n",
    "                      220], 1)\n",
    "fractions = [0, 0, 0, 0, 0.01769911504, 0.05732484076, 0.09404388715, 0.06896551724,\n",
    "             0.07339449541, 0.1696035242, 0.6213592233, 0.9181818182]  # ice fraction for focused\n",
    "\n",
    "sideblob_counts = [0,\n",
    "                   0,\n",
    "                   0,\n",
    "                   0,\n",
    "                   1,\n",
    "                   16,\n",
    "                   23,\n",
    "                   19,\n",
    "                   17,\n",
    "                   34,\n",
    "                   50,\n",
    "                   140]\n",
    "marbles_counts = [0,\n",
    "                  0,\n",
    "                  0,\n",
    "                  0,\n",
    "                  1,\n",
    "                  9,\n",
    "                  4,\n",
    "                  4,\n",
    "                  3,\n",
    "                  36,\n",
    "                  70,\n",
    "                  39]\n",
    "distorted = [0, 0, 0, 0, 0, 2, 3, 2, 3, 2, 2, 7]\n",
    "fractured_counts = [0,\n",
    "                    0,\n",
    "                    0,\n",
    "                    0,\n",
    "                    0,\n",
    "                    0,\n",
    "                    0,\n",
    "                    3,\n",
    "                    1,\n",
    "                    5,\n",
    "                    6,\n",
    "                    16]\n",
    "fractured_sum_counts = np.add(fractured_counts, distorted)\n",
    "water_counts = [357, 183, 105, 158, 111, 444, 289, 378, 303, 377, 78, 18]\n",
    "\n",
    "\n",
    "type_counts = np.array([sideblob_counts, marbles_counts,\n",
    "                       fractured_sum_counts, water_counts]).T\n",
    "\n",
    "distances = np.multiply(\n",
    "    [11, 16, 20, 25, 30, 35, 37.5, 40, 42.5, 45, 47.5, 50], 0.001)  # in m\n",
    "mar12_with_types.set_observables(d_value=21.44656962e-6,\n",
    "                                 d_sigma=1.400e-6,\n",
    "                                 s_value=58.3e-6,\n",
    "                                 s_sigma=3.67e-6,\n",
    "                                 q_value=55.1,\n",
    "                                 distances=distances,\n",
    "                                 counts=counts,\n",
    "                                 fractions=fractions,\n",
    "                                 type_counts=type_counts)\n",
    "\n",
    "\n",
    "'''\n",
    "Data from https://docs.google.com/spreadsheets/d/11-GYikog0r1H5IH8vmNHlBlmi4fgEX_WUqMD0C2dIpY/edit#gid=0\n",
    "and from https://docs.google.com/spreadsheets/d/1VOADjIf649fGTbqI5R4Td48dqzSHE5dx0zcEj2TWAcc/edit#gid=2063575402\n",
    "'''\n",
    "mar12_with_types = Series('Mar 12 with types', interpolate_T)\n",
    "counts = np.multiply([357,\n",
    "                      183,\n",
    "                      105,\n",
    "                      158,\n",
    "                      113,\n",
    "                      471,\n",
    "                      319,\n",
    "                      406,\n",
    "                      327,\n",
    "                      454,\n",
    "                      206,\n",
    "                      220], 1)\n",
    "fractions = [0, 0, 0, 0, 0.01769911504, 0.05732484076, 0.09404388715, 0.06896551724,\n",
    "             0.07339449541, 0.1696035242, 0.6213592233, 0.9181818182]  # ice fraction for focused\n",
    "\n",
    "sideblob_counts = [0,\n",
    "                   0,\n",
    "                   0,\n",
    "                   0,\n",
    "                   1,\n",
    "                   16,\n",
    "                   23,\n",
    "                   19,\n",
    "                   17,\n",
    "                   34,\n",
    "                   50,\n",
    "                   140]\n",
    "marbles_counts = [0,\n",
    "                  0,\n",
    "                  0,\n",
    "                  0,\n",
    "                  1,\n",
    "                  9,\n",
    "                  4,\n",
    "                  4,\n",
    "                  3,\n",
    "                  36,\n",
    "                  70,\n",
    "                  39]\n",
    "distorted = [0, 0, 0, 0, 0, 2, 3, 2, 3, 2, 2, 7]\n",
    "fractured_counts = [0,\n",
    "                    0,\n",
    "                    0,\n",
    "                    0,\n",
    "                    0,\n",
    "                    0,\n",
    "                    0,\n",
    "                    3,\n",
    "                    1,\n",
    "                    5,\n",
    "                    6,\n",
    "                    16]\n",
    "fractured_sum_counts = np.add(fractured_counts, distorted)\n",
    "water_counts = [357, 183, 105, 158, 111, 444, 289, 378, 303, 377, 78, 18]\n",
    "\n",
    "\n",
    "type_counts = np.array([sideblob_counts, marbles_counts,\n",
    "                       fractured_sum_counts, water_counts]).T\n",
    "\n",
    "distances = np.multiply(\n",
    "    [11, 16, 20, 25, 30, 35, 37.5, 40, 42.5, 45, 47.5, 50], 0.001)  # in m\n",
    "mar12_with_types.set_observables(d_value=21.44656962e-6,\n",
    "                                 d_sigma=1.400e-6,\n",
    "                                 s_value=58.3e-6,\n",
    "                                 s_sigma=3.67e-6,\n",
    "                                 q_value=55.1,\n",
    "                                 distances=distances,\n",
    "                                 counts=counts,\n",
    "                                 fractions=fractions,\n",
    "                                 type_counts=type_counts)\n",
    "\n",
    "'''\n",
    "Data from https://docs.google.com/spreadsheets/d/1vLBLDDu8vQx1R1nRL9ML0Zp7wrktrKi3laL0rhxsNr8/edit#gid=81409557\n",
    "'''\n",
    "may11_with_types = Series('May 11 2021', interpolate_T)\n",
    "counts = np.multiply([342,304,450,599], 1)\n",
    "fractions = [0.005847953216,0.01644736842,0.08666666667,0.3372287145]  # ice fraction for focused\n",
    "\n",
    "sideblob_counts = [0,2,10,35]\n",
    "marbles_counts = [2,3,29,166]\n",
    "distorted = [0,0,0,0]\n",
    "fractured_counts = [0,0,0,1]\n",
    "fractured_sum_counts = np.add(fractured_counts, distorted)\n",
    "water_counts = [340,299,411,397]\n",
    "\n",
    "\n",
    "type_counts = np.array([sideblob_counts, marbles_counts,\n",
    "                       fractured_sum_counts, water_counts]).T\n",
    "\n",
    "distances = np.multiply(\n",
    "    [37,42,45,47.77], 0.001)  # in m\n",
    "may11_with_types.set_observables(s_value=80.4771e-6,\n",
    "                                 s_sigma=1.2677e-6,\n",
    "                                 d_value=24.9751e-6,\n",
    "                                 d_sigma=0.3930e-6,\n",
    "                                 q_value=58.07142857,\n",
    "                                 distances=distances,\n",
    "                                 counts=counts,\n",
    "                                 fractions=fractions,\n",
    "                                 type_counts=type_counts)"
   ]
  },
  {
   "cell_type": "markdown",
   "id": "8961af3b-d2d2-472d-9cb3-002b797b7736",
   "metadata": {},
   "source": [
    "### Running the error simulation and saving the results\n",
    "\n",
    "Use as many trials as needed, until the values converge"
   ]
  },
  {
   "cell_type": "code",
   "execution_count": 5,
   "id": "e79dd10f-168d-418a-9b28-2f9dfd6ae14c",
   "metadata": {},
   "outputs": [
    {
     "name": "stdout",
     "output_type": "stream",
     "text": [
      "Dec 7 with types\n"
     ]
    },
    {
     "name": "stderr",
     "output_type": "stream",
     "text": [
      "/Users/olofjonsson/.virtualenvs/opython/lib/python3.8/site-packages/numpy/lib/function_base.py:1080: RuntimeWarning: invalid value encountered in multiply\n",
      "  out[tuple(slice1)] = a * f[tuple(slice2)] + b * f[tuple(slice3)] + c * f[tuple(slice4)]\n",
      "/Users/olofjonsson/.virtualenvs/opython/lib/python3.8/site-packages/numpy/lib/function_base.py:1096: RuntimeWarning: invalid value encountered in double_scalars\n",
      "  out[tuple(slice1)] = (f[tuple(slice2)] - f[tuple(slice3)]) / dx_n\n",
      "/Users/olofjonsson/Projects/Ice/Droplet_codes/Examples/series.py:342: RuntimeWarning: invalid value encountered in true_divide\n",
      "  the_log = np.log(np.divide(np.subtract(1, f_2), np.subtract(1, f_1)))\n",
      "/Users/olofjonsson/Projects/Ice/Droplet_codes/Examples/series.py:204: RuntimeWarning: invalid value encountered in subtract\n",
      "  self.low_J_err_at_calculated = np.subtract(self.ideal_J_at_calculated, self.low_J_at_calculated)\n",
      "/Users/olofjonsson/Projects/Ice/Droplet_codes/Examples/series.py:205: RuntimeWarning: invalid value encountered in subtract\n",
      "  self.high_J_err_at_calculated = np.subtract(self.high_J_at_calculated, self.ideal_J_at_calculated)\n",
      "/Users/olofjonsson/Projects/Ice/Droplet_codes/Examples/series.py:212: RuntimeWarning: invalid value encountered in subtract\n",
      "  self.low_J_err = np.subtract(self.ideal_J, self.low_J)\n",
      "/Users/olofjonsson/Projects/Ice/Droplet_codes/Examples/series.py:213: RuntimeWarning: invalid value encountered in subtract\n",
      "  self.high_J_err = np.subtract(self.high_J, self.ideal_J)\n"
     ]
    },
    {
     "name": "stdout",
     "output_type": "stream",
     "text": [
      "Results_MC/Dec_7_with_types_all_data.h5\n",
      "Nov 3 with types\n",
      "Results_MC/Nov_3_with_types_all_data.h5\n",
      "Mar 12 with types\n",
      "Results_MC/Mar_12_with_types_all_data.h5\n",
      "May 11 2021\n",
      "Results_MC/May_11_2021_all_data.h5\n"
     ]
    }
   ],
   "source": [
    "experiments = [dec7_with_types, nov3_with_types, mar12_with_types,may11_with_types]\n",
    "#experiments=[may11_with_types]\n",
    "\n",
    "\n",
    "\n",
    "trials = 100 #This is the number of trials\n",
    "results_path='Results_MC'\n",
    "\n",
    "\n",
    "for series in experiments:\n",
    "    print(series.descriptor)\n",
    "    series.calculate_errors(percentile=15.865, do_J=True, trials=trials) #percentile supposed to be a standard deviation\n",
    "    series.generate_plotting_label()\n",
    "    series.save_column_file(results_path)\n",
    "    series.save_hdf5_file(results_path)\n",
    "\n"
   ]
  },
  {
   "cell_type": "markdown",
   "id": "25329769-900c-4191-915c-e925685f6eae",
   "metadata": {},
   "source": [
    "### Example of how to extract data\n",
    "\n",
    "This is to extract data straight out from the objects, in this case to make a plot"
   ]
  },
  {
   "cell_type": "code",
   "execution_count": 6,
   "id": "47a22295-def3-47d7-ab04-d41446b4dc96",
   "metadata": {},
   "outputs": [
    {
     "data": {
      "image/png": "[encoded data removed]",
      "text/plain": [
       "<Figure size 432x288 with 1 Axes>"
      ]
     },
     "metadata": {
      "needs_background": "light"
     },
     "output_type": "display_data"
    }
   ],
   "source": [
    "plt.figure()\n",
    "ax2=plt.gca()\n",
    "for series in experiments:\n",
    "    \n",
    "    xerr = np.array([series.low_T_err_at_measured, series.high_T_err_at_measured])\n",
    "    yerr = np.array([series.low_J_err, series.high_J_err])\n",
    "\n",
    "    ax2.scatter(series.ideal_T_at_measured,\n",
    "               series.ideal_J,label=series.descriptor)\n",
    "    ax2.errorbar(series.ideal_T_at_measured,\n",
    "                series.ideal_J,\n",
    "                xerr=xerr,\n",
    "                yerr=yerr,\n",
    "                fmt='none',\n",
    "                capsize=2, lw=1)\n",
    "ax2.legend()\n",
    "\n",
    "ax2.set_yscale('symlog', linthresh=5e16)\n",
    "ax2.set_ylim(bottom=-0.5e17,top=2e19)\n",
    "ax2.set_xlim(left=228,right=247)\n",
    "ax2.grid(alpha=0.3)"
   ]
  },
  {
   "cell_type": "markdown",
   "id": "ca548a52-3a74-4032-8724-ccd22dbe21c2",
   "metadata": {},
   "source": [
    "### Example of how to extract data from all trials"
   ]
  },
  {
   "cell_type": "code",
   "execution_count": 7,
   "id": "2ad7b2af-9b61-44b2-81a7-66207e616466",
   "metadata": {},
   "outputs": [
    {
     "data": {
      "text/plain": [
       "Text(0, 0.5, 'temperatures')"
      ]
     },
     "execution_count": 7,
     "metadata": {},
     "output_type": "execute_result"
    },
    {
     "data": {
      "image/png": "[encoded data removed]",
      "text/plain": [
       "<Figure size 432x288 with 1 Axes>"
      ]
     },
     "metadata": {
      "needs_background": "light"
     },
     "output_type": "display_data"
    },
    {
     "data": {
      "image/png": "[encoded data removed]",
      "text/plain": [
       "<Figure size 432x288 with 1 Axes>"
      ]
     },
     "metadata": {
      "needs_background": "light"
     },
     "output_type": "display_data"
    },
    {
     "data": {
      "image/png": "[encoded data removed]",
      "text/plain": [
       "<Figure size 432x288 with 1 Axes>"
      ]
     },
     "metadata": {
      "needs_background": "light"
     },
     "output_type": "display_data"
    }
   ],
   "source": [
    "#generate a colormap showing bad datapoints\n",
    "cmap_with_bad = plt.get_cmap('gray').with_extremes(bad='r', under='g', over='b')\n",
    "\n",
    "#extract the matrices of all trials\n",
    "temperatures=may11_with_types.T_MC_matrix_at_measured \n",
    "times=may11_with_types.t_MC_matrix_at_measured \n",
    "velocities=may11_with_types.v_MC_matrix_at_measured \n",
    "nucleation_rates=may11_with_types.J_MC_matrix_at_measured\n",
    "\n",
    "#extract the distances\n",
    "distances=may11_with_types.measured_distances\n",
    "\n",
    "#these matrices have dimension number of trials*number of distances\n",
    "plt.figure()\n",
    "plt.imshow(temperatures,interpolation='none',aspect='auto',cmap=cmap_with_bad)\n",
    "plt.xlabel('index of distances')\n",
    "plt.ylabel('trials')\n",
    "\n",
    "\n",
    "#nucleation rates, all points\n",
    "plt.figure()\n",
    "for distance_index,distance in enumerate(distances):\n",
    "    plt.scatter(temperatures[:,distance_index],nucleation_rates[:,distance_index])\n",
    "plt.xlabel('temperatures')\n",
    "plt.ylabel('nucleation rates')\n",
    "    \n",
    "#temperature vs time, all points\n",
    "plt.figure()\n",
    "for distance_index,distance in enumerate(distances):\n",
    "    plt.scatter(times[:,distance_index],temperatures[:,distance_index])\n",
    "plt.xlabel('times')\n",
    "plt.ylabel('temperatures')"
   ]
  },
  {
   "cell_type": "markdown",
   "id": "1d04a829-f903-4353-9697-70c2876b4df5",
   "metadata": {},
   "source": [
    "### Dealing with fraction matrices\n",
    "\n",
    "Each point is a simulated fraction.\n",
    "\n",
    "Each row will sum to 1, and represents the types in the same order as inputed, here is is sideblobs, marbles, fractured, water.\n",
    "\n",
    "each column is one distance."
   ]
  },
  {
   "cell_type": "code",
   "execution_count": 8,
   "id": "894b69eb-931b-4937-a7dd-3e529d0bdb59",
   "metadata": {},
   "outputs": [
    {
     "name": "stdout",
     "output_type": "stream",
     "text": [
      "[[0.         0.         0.         1.        ]\n",
      " [0.01315789 0.00328947 0.         0.98355263]\n",
      " [0.02666667 0.06666667 0.         0.90666667]\n",
      " [0.05843072 0.2754591  0.00166945 0.66444073]]\n"
     ]
    },
    {
     "data": {
      "image/png": "[encoded data removed]",
      "text/plain": [
       "<Figure size 432x288 with 1 Axes>"
      ]
     },
     "metadata": {
      "needs_background": "light"
     },
     "output_type": "display_data"
    }
   ],
   "source": [
    "fractions=may11_with_types.type_fraction_MC_matrix_at_measured\n",
    "#This is a matrix for the first trial\n",
    "print(fractions[0])\n",
    "\n",
    "\n",
    "#plotting sideblobs for each distance\n",
    "sideblobs=[]\n",
    "marbles=[]\n",
    "distances=may11_with_types.measured_distances\n",
    "for fraction_block in fractions:\n",
    "    \n",
    "    sideblob_evolution_in_this_trial=fraction_block[:,0]\n",
    "    sideblobs.append(sideblob_evolution_in_this_trial) #sideblobs have index 0, see above\n",
    "    \n",
    "    marbles_evolution_in_this_trial=fraction_block[:,1]\n",
    "    marbles.append(marbles_evolution_in_this_trial) #marbles have index 0, see above\n",
    "    \n",
    "    plt.scatter(distances,sideblob_evolution_in_this_trial,alpha=1,color='red')\n",
    "    plt.scatter(distances,marbles_evolution_in_this_trial,alpha=1,color='blue')"
   ]
  },
  {
   "cell_type": "code",
   "execution_count": null,
   "id": "9483be90-bc8c-46b4-a464-a97f92a2d8d0",
   "metadata": {},
   "outputs": [],
   "source": []
  },
  {
   "cell_type": "code",
   "execution_count": null,
   "id": "1e7cab34-c0ca-47c1-95c9-fd64de4e243a",
   "metadata": {},
   "outputs": [],
   "source": []
  },
  {
   "cell_type": "code",
   "execution_count": null,
   "id": "7dbeac9f-0499-450a-8c60-824ee2814750",
   "metadata": {},
   "outputs": [],
   "source": []
  },
  {
   "cell_type": "code",
   "execution_count": null,
   "id": "3db3f1d4-808b-4b19-adc4-d563ed0b9410",
   "metadata": {},
   "outputs": [],
   "source": []
  },
  {
   "cell_type": "code",
   "execution_count": null,
   "id": "6c31acf1-adcf-4a6a-bf14-0373098ff9a3",
   "metadata": {},
   "outputs": [],
   "source": []
  },
  {
   "cell_type": "code",
   "execution_count": null,
   "id": "1e9139ea-55d6-45ce-a9e4-94fd9868068f",
   "metadata": {},
   "outputs": [],
   "source": []
  }
 ],
 "metadata": {
  "kernelspec": {
   "display_name": "Python 3",
   "language": "python",
   "name": "python3"
  },
  "language_info": {
   "codemirror_mode": {
    "name": "ipython",
    "version": 3
   },
   "file_extension": ".py",
   "mimetype": "text/x-python",
   "name": "python",
   "nbconvert_exporter": "python",
   "pygments_lexer": "ipython3",
   "version": "3.8.5"
  }
 },
 "nbformat": 4,
 "nbformat_minor": 5
}

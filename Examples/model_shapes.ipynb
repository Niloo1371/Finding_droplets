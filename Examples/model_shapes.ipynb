{
 "cells": [
  {
   "cell_type": "code",
   "execution_count": 10,
   "metadata": {},
   "outputs": [],
   "source": [
    "%matplotlib notebook\n",
    "import numpy as np\n",
    "import h5py\n",
    "import matplotlib\n",
    "##matplotlib.use('Qt4Agg')\n",
    "#matplotlib.use('TkAgg')\n",
    "##%matplotlib notebook\n",
    "import matplotlib.pyplot as plt\n",
    "import sys\n",
    "import scipy\n",
    "from scipy import optimize\n",
    "#from scipy.interpolate import interp1d\n",
    "\n",
    "#sys.path.insert(0, '../source/SwissFEL_BERNINA_20181820/src/')\n",
    "#import analysis\n",
    "#from analysis import *\n",
    "%matplotlib inline"
   ]
  },
  {
   "cell_type": "code",
   "execution_count": 11,
   "metadata": {},
   "outputs": [],
   "source": [
    "def rate_model(initial_vals, k, J, V, t):\n",
    "    '''\n",
    "    Inputs:\n",
    "       initial_vals is an array of values and each element corresponds to one group\n",
    "       - initial_vals[0]: is the initial water fraction\n",
    "       - initial_vals[1]: is the initial marbles fraction\n",
    "       - initial_vals[2]: is the initial blobs fraction\n",
    "       - initial_vals[3]: is the initial fractured fraction\n",
    "       t is the time array in ms with the steps of dt\n",
    "       k is an array of rates, \n",
    "       - k[0] is from marbles to blobs,\n",
    "       - k[1] is from blobs to fractured,\n",
    "       - k[2] is from marbles to fractured.\n",
    "       J is the nucleation rate in 1/m^3s^1 at the coldest temperature (highest value)\n",
    "       V is the volume of the droplet in m^3*s/ms\n",
    "    --------------------------------\n",
    "    Outputs:\n",
    "       fractions of different droplet shapes as a function of time\n",
    "    '''\n",
    "    water = np.zeros(len(t))\n",
    "    marbles = np.zeros(len(t))\n",
    "    blobs = np.zeros(len(t))\n",
    "    fractured = np.zeros(len(t))\n",
    "    dwdt = np.zeros(len(t))\n",
    "    dmdt = np.zeros(len(t))\n",
    "    dbdt = np.zeros(len(t))\n",
    "    dcdt = np.zeros(len(t))\n",
    "    dt = t[1] - t[0]\n",
    "    for i in range(len(t)):\n",
    "        if i == 0:\n",
    "            water[i] = 1\n",
    "            marbles[i] = 0\n",
    "            blobs[i] = 0\n",
    "            fractured[i] = 0\n",
    "        else:\n",
    "            water[i] = water[i-1] + dwdt[i-1]*dt\n",
    "            marbles[i] = marbles[i-1] + dmdt[i-1]*dt\n",
    "            blobs[i] = blobs[i-1] + dbdt[i-1]*dt\n",
    "            fractured[i] = fractured[i-1] + dcdt[i-1]*dt\n",
    "            dwdt[i] = -J*V*water[i] # water\n",
    "            dmdt[i] = J*V*water[i] - (k[0] + k[2])*marbles[i] # marbles\n",
    "            dbdt[i] = k[0]*marbles[i] - k[1]*blobs[i] # blobs\n",
    "            dcdt[i] = k[2]*marbles[i] + k[1]*blobs[i] # fractured\n",
    "    return(water, marbles, blobs, fractured)"
   ]
  },
  {
   "cell_type": "code",
   "execution_count": 12,
   "metadata": {},
   "outputs": [],
   "source": [
    "time = np.linspace(0, 2.0, num=2000)\n",
    "init = np.array([1,0,0,0])\n",
    "k_vals = np.array([7.488073, 0.8920651, 1.74072257])\n",
    "w,m,b,f = rate_model(init, k_vals, 3.935647315309867e+18, 3.13e-18, time)\n"
   ]
  },
  {
   "cell_type": "code",
   "execution_count": 13,
   "metadata": {},
   "outputs": [
    {
     "data": {
      "text/plain": [
       "[<matplotlib.lines.Line2D at 0x13668af10>]"
      ]
     },
     "execution_count": 13,
     "metadata": {},
     "output_type": "execute_result"
    },
    {
     "data": {
      "image/png": "[encoded data removed]",
      "text/plain": [
       "<Figure size 432x288 with 1 Axes>"
      ]
     },
     "metadata": {
      "needs_background": "light"
     },
     "output_type": "display_data"
    }
   ],
   "source": [
    "plt.figure()\n",
    "plt.plot(time, w, 'b')\n",
    "plt.plot(time, m, 'r')\n",
    "plt.plot(time, b, 'g')\n",
    "plt.plot(time, f, 'k')"
   ]
  },
  {
   "cell_type": "code",
   "execution_count": null,
   "metadata": {},
   "outputs": [],
   "source": []
  },
  {
   "cell_type": "code",
   "execution_count": null,
   "metadata": {},
   "outputs": [],
   "source": []
  }
 ],
 "metadata": {
  "kernelspec": {
   "display_name": "Python 3",
   "language": "python",
   "name": "python3"
  },
  "language_info": {
   "codemirror_mode": {
    "name": "ipython",
    "version": 3
   },
   "file_extension": ".py",
   "mimetype": "text/x-python",
   "name": "python",
   "nbconvert_exporter": "python",
   "pygments_lexer": "ipython3",
   "version": "3.8.5"
  }
 },
 "nbformat": 4,
 "nbformat_minor": 4
}

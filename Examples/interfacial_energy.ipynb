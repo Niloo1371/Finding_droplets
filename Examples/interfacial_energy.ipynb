{
 "cells": [
  {
   "cell_type": "code",
   "execution_count": 2,
   "metadata": {},
   "outputs": [],
   "source": [
    "%matplotlib inline\n",
    "\n",
    "import numpy as np\n",
    "import scipy\n",
    "from scipy import optimize\n",
    "from scipy import interpolate\n",
    "import matplotlib as mpl\n",
    "from matplotlib import pyplot as plt\n",
    "import math\n",
    "from scipy.interpolate import interp1d\n",
    "import warnings\n",
    "warnings.simplefilter('always', DeprecationWarning)\n",
    "warnings.filterwarnings('ignore')"
   ]
  },
  {
   "cell_type": "code",
   "execution_count": 3,
   "metadata": {},
   "outputs": [],
   "source": [
    "# load text file MC error\n",
    "file_dir = '/Users/sellberg/Documents/RESEARCH/experiments/local/BioX/ice_nucleation/results/ice_fraction/'\n",
    "data_dir = '/Users/sellberg/Documents/RESEARCH/experiments/local/BioX/ice_nucleation/source/Finding_droplets/altogether/'\n",
    "data = np.loadtxt(file_dir + 'MC_error/Nov_3_interpolatedpos.txt')\n",
    "Temperature = data[:,4]\n",
    "J = data[:,-3]\n",
    "T_low =data[:,5]\n",
    "T_high = data[:,6]\n",
    "J_low = data[:,-2]\n",
    "J_high = data[:,-1]"
   ]
  },
  {
   "cell_type": "code",
   "execution_count": 4,
   "metadata": {},
   "outputs": [],
   "source": [
    "# sort temperature values\n",
    "T = sorted(Temperature)"
   ]
  },
  {
   "cell_type": "code",
   "execution_count": 5,
   "metadata": {},
   "outputs": [],
   "source": [
    "# sorting values based on temperature values\n",
    "sort_J = [x for _,x in sorted(zip(Temperature,J))]\n",
    "sort_T_low = [x for _,x in sorted(zip(Temperature,T_low))]\n",
    "sort_T_high = [x for _,x in sorted(zip(Temperature,T_high))]\n",
    "sort_J_low = [x for _,x in sorted(zip(Temperature,J_low))]\n",
    "sort_J_high = [x for _,x in sorted(zip(Temperature,J_high))]"
   ]
  },
  {
   "cell_type": "code",
   "execution_count": 6,
   "metadata": {},
   "outputs": [],
   "source": [
    "# linear fit y= mx+b, y_intercept b = y - mx\n",
    "def slope_and_intercept(xs,ys):\n",
    "    m = ((np.mean(xs) * np.mean(ys)) - np.mean(xs * ys))/ ((np.mean(xs) * np.mean(xs)) - np.mean(xs * xs))\n",
    "    b = np.mean(ys) - (m * np.mean(xs))\n",
    "    return m,b"
   ]
  },
  {
   "cell_type": "code",
   "execution_count": 7,
   "metadata": {},
   "outputs": [],
   "source": [
    "# ref. The apparent activation energy and pre-exponential kinetic factor for heterogeneous calcium carbonate nucleation on quartz\n",
    "# Laksmono supplementary\n",
    "T_inverse = 1./np.array(T)"
   ]
  },
  {
   "cell_type": "code",
   "execution_count": 8,
   "metadata": {},
   "outputs": [],
   "source": [
    "# remove the nan and inf values from T and log_J\n",
    "idx = np.where((np.isnan(np.log(sort_J))==False) & (np.isinf(np.log(sort_J))==False))\n",
    "new_J = np.log(sort_J)[idx]\n",
    "new_T = T_inverse[idx]"
   ]
  },
  {
   "cell_type": "code",
   "execution_count": 9,
   "metadata": {},
   "outputs": [
    {
     "data": {
      "image/png": "[encoded data removed]",
      "text/plain": [
       "<matplotlib.figure.Figure at 0x10557e4d0>"
      ]
     },
     "metadata": {},
     "output_type": "display_data"
    }
   ],
   "source": [
    "\n",
    "fig = plt.figure()\n",
    "m,b = slope_and_intercept(new_T, new_J)\n",
    "line_fit = np.array([(m*x)+b for x in new_T])\n",
    "plt.plot(new_T, new_J, 'ro')\n",
    "plt.plot(new_T, line_fit, 'r--')\n",
    "plt.xlabel('$1/T$ [K]')\n",
    "plt.ylabel('$ln(J)\\ (m^{-3}s^{-1})$')\n",
    "#plt.legend(loc='upper right',fontsize=10)\n",
    "plt.ticklabel_format(style='sci', axis='x', scilimits=(0,0))\n",
    "plt.ylim(35,40)\n",
    "plt.axhline(0,c='black',lw=1)\n",
    "plt.grid(linestyle='dotted')\n",
    "plt.show()"
   ]
  },
  {
   "cell_type": "code",
   "execution_count": 11,
   "metadata": {},
   "outputs": [
    {
     "data": {
      "text/plain": [
       "0.0060042519537957225"
      ]
     },
     "execution_count": 11,
     "metadata": {},
     "output_type": "execute_result"
    }
   ],
   "source": [
    "J_0 = np.exp(b)\n",
    "den_t = np.array(T)[idx]\n",
    "J_0"
   ]
  },
  {
   "cell_type": "code",
   "execution_count": 12,
   "metadata": {},
   "outputs": [],
   "source": [
    "#Temperature dependent densities \n",
    "\n",
    "data = np.loadtxt(file_dir + 'specific_volume.dat')\n",
    "T_data = []\n",
    "rho_data = []\n",
    "for i in range(len(data)):\n",
    "    rho_data.append(data[i][1])\n",
    "    T_data.append(data[i][0])\n",
    "T_arr = np.array(T_data)\n",
    "rho_arr = np.array(rho_data)\n",
    "f_rho = interp1d(T_arr, rho_arr)\n",
    "\n",
    "# density extrapolation from Kell et al\n",
    "N_A = 6.0221367e23 # molecules/mol\n",
    "m_h2o = 2*1.00794+15.9995 # g/mol\n",
    "# ALGORITHM 1 -- interpolation of experimental density data of ice (Ih = 0.934 g/cm^3) and water taken from Kell, Journal of Chemical Engineering Data 20, 97 (1975)\n",
    "rho_si = (933.942 + 66.7829 / (1.0 + np.exp( - 0.10662 * (den_t - 233.0573)))) / 1000 # g/cm^3\n",
    "rho = rho_si*N_A/1e24/m_h2o # molecules/A^3"
   ]
  },
  {
   "cell_type": "code",
   "execution_count": 13,
   "metadata": {},
   "outputs": [
    {
     "data": {
      "image/png": "[encoded data removed]",
      "text/plain": [
       "<matplotlib.figure.Figure at 0x105521e50>"
      ]
     },
     "metadata": {},
     "output_type": "display_data"
    }
   ],
   "source": [
    "fig = plt.figure()\n",
    "plt.plot(den_t, rho_si, 'ro')\n",
    "#plt.plot(T_arr+273, rho_arr)\n",
    "plt.xlabel('$T$ [K]')\n",
    "plt.ylabel('$rho(T)\\ g/cm^3$')\n",
    "#plt.axhline(0,c='black',lw=1)\n",
    "#plt.ylim(0.9,1.)\n",
    "plt.grid(linestyle='dotted')\n",
    "plt.show()"
   ]
  },
  {
   "cell_type": "code",
   "execution_count": 14,
   "metadata": {},
   "outputs": [],
   "source": [
    "# Ice molar volume\n",
    "molar_mass = 18.01528 #g/mol\n",
    "ice_vol = molar_mass/rho_si #cm^3/mol\n",
    "# convert to m^3/mol\n",
    "#ice_vol = ice_vol*10**-6\n",
    "ice_vol = (10**-30)*N_A/rho # m^3/mol"
   ]
  },
  {
   "cell_type": "code",
   "execution_count": 134,
   "metadata": {},
   "outputs": [],
   "source": [
    "# make fit for D_s from SwissFEL to lab T \n",
    "D_data = np.loadtxt(file_dir + 'entropy_data_7.2.csv', delimiter=',')\n",
    "\n",
    "\n",
    "T_s = np.array([D_data[i,0] for i in range(len(D_data))])\n",
    "D_s = np.array([D_data[i,13] for i in range(len(D_data))])\n",
    "Inv_T = 1./T_s\n",
    "fit_D = interpolate.InterpolatedUnivariateSpline(Inv_T, D_s)\n",
    "D = fit_D(new_T)\n",
    "# Boltzmann constant : 1.380649 × 10−23 joule per kelvin\n",
    "K = 1.380649e-23 # joule per kelvin"
   ]
  },
  {
   "cell_type": "code",
   "execution_count": 79,
   "metadata": {},
   "outputs": [],
   "source": [
    "# experimental fit to D_s and sigma from Laksmono et al\n",
    "T_arr = np.arange(235,242,0.01)\n",
    "D_laksmono = 1.67e-8*np.exp(5.698332e-2*T_arr*T_arr - 2.728998e1*T_arr + 3.271878e3) # m^2/s, WRONG? off by e-5\n",
    "D_VFT = 4.14e-8*np.exp(-347./(T_arr-177.))\n",
    "sigma_laksmono_VFT = 1.198100169422e-11*T_arr**6 - 1.644226732545e-8*T_arr**5 + 9.387801708449e-6*T_arr**4 - 2.854359440278e-3*T_arr*T_arr*T_arr + 4.874466166395e-1*T_arr*T_arr - 4.433154987346e1*T_arr + 1.677613823216e3 # J/m^2\n",
    "sigma_laksmono_PL = -6.238115076579e-10*T_arr**6 + 8.736769546436e-7*T_arr**5 - 5.098181318142e-4*T_arr**4 + 1.586558905910e-1*T_arr*T_arr*T_arr - 2.777134850571e1*T_arr*T_arr + 2.592466463405e3*T_arr - 1.008309560689e5 # J/m^2"
   ]
  },
  {
   "cell_type": "code",
   "execution_count": 80,
   "metadata": {},
   "outputs": [
    {
     "data": {
      "text/plain": [
       "array([  1.04404997e-10,   1.04512729e-10,   1.04620535e-10,\n",
       "         1.04728414e-10,   1.04836368e-10,   1.04944396e-10,\n",
       "         1.05052498e-10,   1.05160674e-10,   1.05268924e-10,\n",
       "         1.05377248e-10,   1.05485646e-10,   1.05594118e-10,\n",
       "         1.05702665e-10,   1.05811285e-10,   1.05919980e-10,\n",
       "         1.06028749e-10,   1.06137593e-10,   1.06246510e-10,\n",
       "         1.06355502e-10,   1.06464568e-10,   1.06573709e-10,\n",
       "         1.06682924e-10,   1.06792213e-10,   1.06901576e-10,\n",
       "         1.07011014e-10,   1.07120526e-10,   1.07230113e-10,\n",
       "         1.07339774e-10,   1.07449510e-10,   1.07559320e-10,\n",
       "         1.07669204e-10,   1.07779163e-10,   1.07889197e-10,\n",
       "         1.07999305e-10,   1.08109488e-10,   1.08219745e-10,\n",
       "         1.08330077e-10,   1.08440484e-10,   1.08550965e-10,\n",
       "         1.08661521e-10,   1.08772151e-10,   1.08882856e-10,\n",
       "         1.08993636e-10,   1.09104491e-10,   1.09215420e-10,\n",
       "         1.09326425e-10,   1.09437503e-10,   1.09548657e-10,\n",
       "         1.09659886e-10,   1.09771189e-10,   1.09882568e-10,\n",
       "         1.09994021e-10,   1.10105549e-10,   1.10217152e-10,\n",
       "         1.10328830e-10,   1.10440583e-10,   1.10552411e-10,\n",
       "         1.10664313e-10,   1.10776291e-10,   1.10888344e-10,\n",
       "         1.11000472e-10,   1.11112675e-10,   1.11224953e-10,\n",
       "         1.11337306e-10,   1.11449734e-10,   1.11562238e-10,\n",
       "         1.11674816e-10,   1.11787470e-10,   1.11900199e-10,\n",
       "         1.12013003e-10,   1.12125882e-10,   1.12238837e-10,\n",
       "         1.12351867e-10,   1.12464972e-10,   1.12578152e-10,\n",
       "         1.12691408e-10,   1.12804739e-10,   1.12918146e-10,\n",
       "         1.13031627e-10,   1.13145184e-10,   1.13258817e-10,\n",
       "         1.13372525e-10,   1.13486308e-10,   1.13600167e-10,\n",
       "         1.13714102e-10,   1.13828111e-10,   1.13942197e-10,\n",
       "         1.14056358e-10,   1.14170594e-10,   1.14284906e-10,\n",
       "         1.14399294e-10,   1.14513757e-10,   1.14628295e-10,\n",
       "         1.14742910e-10,   1.14857600e-10,   1.14972366e-10,\n",
       "         1.15087207e-10,   1.15202124e-10,   1.15317117e-10,\n",
       "         1.15432185e-10,   1.15547330e-10,   1.15662550e-10,\n",
       "         1.15777846e-10,   1.15893217e-10,   1.16008665e-10,\n",
       "         1.16124188e-10,   1.16239788e-10,   1.16355463e-10,\n",
       "         1.16471214e-10,   1.16587041e-10,   1.16702943e-10,\n",
       "         1.16818922e-10,   1.16934977e-10,   1.17051108e-10,\n",
       "         1.17167314e-10,   1.17283597e-10,   1.17399956e-10,\n",
       "         1.17516391e-10,   1.17632902e-10,   1.17749489e-10,\n",
       "         1.17866152e-10,   1.17982891e-10,   1.18099706e-10,\n",
       "         1.18216598e-10,   1.18333566e-10,   1.18450609e-10,\n",
       "         1.18567729e-10,   1.18684926e-10,   1.18802198e-10,\n",
       "         1.18919547e-10,   1.19036972e-10,   1.19154474e-10,\n",
       "         1.19272051e-10,   1.19389705e-10,   1.19507436e-10,\n",
       "         1.19625242e-10,   1.19743126e-10,   1.19861085e-10,\n",
       "         1.19979121e-10,   1.20097233e-10,   1.20215422e-10,\n",
       "         1.20333687e-10,   1.20452029e-10,   1.20570447e-10,\n",
       "         1.20688942e-10,   1.20807513e-10,   1.20926161e-10,\n",
       "         1.21044886e-10,   1.21163687e-10,   1.21282564e-10,\n",
       "         1.21401518e-10,   1.21520549e-10,   1.21639657e-10,\n",
       "         1.21758841e-10,   1.21878102e-10,   1.21997439e-10,\n",
       "         1.22116854e-10,   1.22236345e-10,   1.22355912e-10,\n",
       "         1.22475557e-10,   1.22595278e-10,   1.22715076e-10,\n",
       "         1.22834951e-10,   1.22954903e-10,   1.23074932e-10,\n",
       "         1.23195037e-10,   1.23315219e-10,   1.23435479e-10,\n",
       "         1.23555815e-10,   1.23676228e-10,   1.23796718e-10,\n",
       "         1.23917285e-10,   1.24037929e-10,   1.24158650e-10,\n",
       "         1.24279448e-10,   1.24400323e-10,   1.24521275e-10,\n",
       "         1.24642305e-10,   1.24763411e-10,   1.24884594e-10,\n",
       "         1.25005855e-10,   1.25127192e-10,   1.25248607e-10,\n",
       "         1.25370099e-10,   1.25491668e-10,   1.25613315e-10,\n",
       "         1.25735038e-10,   1.25856839e-10,   1.25978717e-10,\n",
       "         1.26100672e-10,   1.26222705e-10,   1.26344815e-10,\n",
       "         1.26467002e-10,   1.26589266e-10,   1.26711608e-10,\n",
       "         1.26834028e-10,   1.26956524e-10,   1.27079098e-10,\n",
       "         1.27201750e-10,   1.27324478e-10,   1.27447285e-10,\n",
       "         1.27570169e-10,   1.27693130e-10,   1.27816169e-10,\n",
       "         1.27939285e-10,   1.28062478e-10,   1.28185750e-10,\n",
       "         1.28309099e-10,   1.28432525e-10,   1.28556029e-10,\n",
       "         1.28679611e-10,   1.28803270e-10,   1.28927007e-10,\n",
       "         1.29050821e-10,   1.29174714e-10,   1.29298684e-10,\n",
       "         1.29422731e-10,   1.29546856e-10,   1.29671059e-10,\n",
       "         1.29795340e-10,   1.29919699e-10,   1.30044135e-10,\n",
       "         1.30168649e-10,   1.30293241e-10,   1.30417911e-10,\n",
       "         1.30542659e-10,   1.30667484e-10,   1.30792388e-10,\n",
       "         1.30917369e-10,   1.31042428e-10,   1.31167565e-10,\n",
       "         1.31292780e-10,   1.31418073e-10,   1.31543444e-10,\n",
       "         1.31668893e-10,   1.31794420e-10,   1.31920025e-10,\n",
       "         1.32045708e-10,   1.32171469e-10,   1.32297308e-10,\n",
       "         1.32423225e-10,   1.32549221e-10,   1.32675294e-10,\n",
       "         1.32801446e-10,   1.32927675e-10,   1.33053983e-10,\n",
       "         1.33180369e-10,   1.33306834e-10,   1.33433376e-10,\n",
       "         1.33559997e-10,   1.33686696e-10,   1.33813473e-10,\n",
       "         1.33940328e-10,   1.34067262e-10,   1.34194274e-10,\n",
       "         1.34321364e-10,   1.34448533e-10,   1.34575780e-10,\n",
       "         1.34703105e-10,   1.34830509e-10,   1.34957991e-10,\n",
       "         1.35085552e-10,   1.35213191e-10,   1.35340908e-10,\n",
       "         1.35468704e-10,   1.35596578e-10,   1.35724531e-10,\n",
       "         1.35852562e-10,   1.35980672e-10,   1.36108860e-10,\n",
       "         1.36237127e-10,   1.36365473e-10,   1.36493897e-10,\n",
       "         1.36622399e-10,   1.36750981e-10,   1.36879641e-10,\n",
       "         1.37008379e-10,   1.37137196e-10,   1.37266092e-10,\n",
       "         1.37395066e-10,   1.37524120e-10,   1.37653252e-10,\n",
       "         1.37782462e-10,   1.37911752e-10,   1.38041120e-10,\n",
       "         1.38170567e-10,   1.38300092e-10,   1.38429697e-10,\n",
       "         1.38559380e-10,   1.38689142e-10,   1.38818983e-10,\n",
       "         1.38948903e-10,   1.39078902e-10,   1.39208980e-10,\n",
       "         1.39339136e-10,   1.39469372e-10,   1.39599686e-10,\n",
       "         1.39730079e-10,   1.39860552e-10,   1.39991103e-10,\n",
       "         1.40121733e-10,   1.40252443e-10,   1.40383231e-10,\n",
       "         1.40514099e-10,   1.40645045e-10,   1.40776071e-10,\n",
       "         1.40907175e-10,   1.41038359e-10,   1.41169622e-10,\n",
       "         1.41300964e-10,   1.41432385e-10,   1.41563885e-10,\n",
       "         1.41695465e-10,   1.41827123e-10,   1.41958861e-10,\n",
       "         1.42090678e-10,   1.42222574e-10,   1.42354550e-10,\n",
       "         1.42486605e-10,   1.42618739e-10,   1.42750952e-10,\n",
       "         1.42883245e-10,   1.43015617e-10,   1.43148068e-10,\n",
       "         1.43280599e-10,   1.43413209e-10,   1.43545899e-10,\n",
       "         1.43678667e-10,   1.43811516e-10,   1.43944443e-10,\n",
       "         1.44077450e-10,   1.44210537e-10,   1.44343703e-10,\n",
       "         1.44476948e-10,   1.44610273e-10,   1.44743678e-10,\n",
       "         1.44877162e-10,   1.45010726e-10,   1.45144369e-10,\n",
       "         1.45278091e-10,   1.45411894e-10,   1.45545776e-10,\n",
       "         1.45679737e-10,   1.45813778e-10,   1.45947899e-10,\n",
       "         1.46082099e-10,   1.46216379e-10,   1.46350739e-10,\n",
       "         1.46485179e-10,   1.46619698e-10,   1.46754297e-10,\n",
       "         1.46888975e-10,   1.47023734e-10,   1.47158572e-10,\n",
       "         1.47293490e-10,   1.47428487e-10,   1.47563565e-10,\n",
       "         1.47698722e-10,   1.47833959e-10,   1.47969277e-10,\n",
       "         1.48104673e-10,   1.48240150e-10,   1.48375707e-10,\n",
       "         1.48511343e-10,   1.48647060e-10,   1.48782856e-10,\n",
       "         1.48918733e-10,   1.49054689e-10,   1.49190725e-10,\n",
       "         1.49326842e-10,   1.49463038e-10,   1.49599314e-10,\n",
       "         1.49735671e-10,   1.49872107e-10,   1.50008624e-10,\n",
       "         1.50145220e-10,   1.50281897e-10,   1.50418654e-10,\n",
       "         1.50555491e-10,   1.50692408e-10,   1.50829405e-10,\n",
       "         1.50966482e-10,   1.51103640e-10,   1.51240877e-10,\n",
       "         1.51378195e-10,   1.51515593e-10,   1.51653071e-10,\n",
       "         1.51790630e-10,   1.51928269e-10,   1.52065988e-10,\n",
       "         1.52203787e-10,   1.52341667e-10,   1.52479627e-10,\n",
       "         1.52617667e-10,   1.52755788e-10,   1.52893989e-10,\n",
       "         1.53032270e-10,   1.53170632e-10,   1.53309074e-10,\n",
       "         1.53447596e-10,   1.53586199e-10,   1.53724882e-10,\n",
       "         1.53863646e-10,   1.54002490e-10,   1.54141415e-10,\n",
       "         1.54280420e-10,   1.54419506e-10,   1.54558672e-10,\n",
       "         1.54697919e-10,   1.54837246e-10,   1.54976654e-10,\n",
       "         1.55116142e-10,   1.55255711e-10,   1.55395361e-10,\n",
       "         1.55535091e-10,   1.55674902e-10,   1.55814793e-10,\n",
       "         1.55954765e-10,   1.56094818e-10,   1.56234951e-10,\n",
       "         1.56375165e-10,   1.56515460e-10,   1.56655835e-10,\n",
       "         1.56796292e-10,   1.56936828e-10,   1.57077446e-10,\n",
       "         1.57218145e-10,   1.57358924e-10,   1.57499784e-10,\n",
       "         1.57640725e-10,   1.57781746e-10,   1.57922849e-10,\n",
       "         1.58064032e-10,   1.58205296e-10,   1.58346641e-10,\n",
       "         1.58488067e-10,   1.58629574e-10,   1.58771161e-10,\n",
       "         1.58912830e-10,   1.59054580e-10,   1.59196410e-10,\n",
       "         1.59338322e-10,   1.59480314e-10,   1.59622387e-10,\n",
       "         1.59764542e-10,   1.59906777e-10,   1.60049094e-10,\n",
       "         1.60191491e-10,   1.60333970e-10,   1.60476529e-10,\n",
       "         1.60619170e-10,   1.60761892e-10,   1.60904695e-10,\n",
       "         1.61047579e-10,   1.61190544e-10,   1.61333590e-10,\n",
       "         1.61476717e-10,   1.61619926e-10,   1.61763216e-10,\n",
       "         1.61906587e-10,   1.62050039e-10,   1.62193572e-10,\n",
       "         1.62337187e-10,   1.62480883e-10,   1.62624660e-10,\n",
       "         1.62768518e-10,   1.62912458e-10,   1.63056479e-10,\n",
       "         1.63200581e-10,   1.63344764e-10,   1.63489029e-10,\n",
       "         1.63633375e-10,   1.63777803e-10,   1.63922312e-10,\n",
       "         1.64066902e-10,   1.64211574e-10,   1.64356327e-10,\n",
       "         1.64501162e-10,   1.64646078e-10,   1.64791075e-10,\n",
       "         1.64936154e-10,   1.65081314e-10,   1.65226556e-10,\n",
       "         1.65371879e-10,   1.65517284e-10,   1.65662770e-10,\n",
       "         1.65808338e-10,   1.65953988e-10,   1.66099719e-10,\n",
       "         1.66245531e-10,   1.66391425e-10,   1.66537401e-10,\n",
       "         1.66683458e-10,   1.66829597e-10,   1.66975818e-10,\n",
       "         1.67122120e-10,   1.67268504e-10,   1.67414969e-10,\n",
       "         1.67561516e-10,   1.67708145e-10,   1.67854856e-10,\n",
       "         1.68001648e-10,   1.68148522e-10,   1.68295478e-10,\n",
       "         1.68442515e-10,   1.68589634e-10,   1.68736835e-10,\n",
       "         1.68884118e-10,   1.69031483e-10,   1.69178929e-10,\n",
       "         1.69326458e-10,   1.69474068e-10,   1.69621759e-10,\n",
       "         1.69769533e-10,   1.69917389e-10,   1.70065326e-10,\n",
       "         1.70213346e-10,   1.70361447e-10,   1.70509630e-10,\n",
       "         1.70657896e-10,   1.70806243e-10,   1.70954672e-10,\n",
       "         1.71103183e-10,   1.71251776e-10,   1.71400451e-10,\n",
       "         1.71549208e-10,   1.71698047e-10,   1.71846968e-10,\n",
       "         1.71995971e-10,   1.72145056e-10,   1.72294223e-10,\n",
       "         1.72443473e-10,   1.72592804e-10,   1.72742217e-10,\n",
       "         1.72891713e-10,   1.73041291e-10,   1.73190950e-10,\n",
       "         1.73340692e-10,   1.73490517e-10,   1.73640423e-10,\n",
       "         1.73790411e-10,   1.73940482e-10,   1.74090635e-10,\n",
       "         1.74240870e-10,   1.74391187e-10,   1.74541587e-10,\n",
       "         1.74692068e-10,   1.74842632e-10,   1.74993279e-10,\n",
       "         1.75144007e-10,   1.75294818e-10,   1.75445711e-10,\n",
       "         1.75596687e-10,   1.75747744e-10,   1.75898885e-10,\n",
       "         1.76050107e-10,   1.76201412e-10,   1.76352799e-10,\n",
       "         1.76504269e-10,   1.76655821e-10,   1.76807455e-10,\n",
       "         1.76959172e-10,   1.77110971e-10,   1.77262853e-10,\n",
       "         1.77414817e-10,   1.77566864e-10,   1.77718993e-10,\n",
       "         1.77871205e-10,   1.78023499e-10,   1.78175875e-10,\n",
       "         1.78328334e-10,   1.78480876e-10,   1.78633500e-10,\n",
       "         1.78786207e-10,   1.78938996e-10,   1.79091868e-10,\n",
       "         1.79244823e-10,   1.79397860e-10,   1.79550980e-10,\n",
       "         1.79704182e-10,   1.79857467e-10,   1.80010834e-10,\n",
       "         1.80164285e-10,   1.80317818e-10,   1.80471433e-10,\n",
       "         1.80625132e-10,   1.80778913e-10,   1.80932776e-10,\n",
       "         1.81086723e-10,   1.81240752e-10,   1.81394864e-10,\n",
       "         1.81549058e-10,   1.81703336e-10,   1.81857696e-10,\n",
       "         1.82012139e-10,   1.82166665e-10,   1.82321273e-10,\n",
       "         1.82475965e-10,   1.82630739e-10,   1.82785596e-10,\n",
       "         1.82940536e-10,   1.83095559e-10,   1.83250664e-10,\n",
       "         1.83405853e-10,   1.83561124e-10,   1.83716479e-10,\n",
       "         1.83871916e-10,   1.84027436e-10,   1.84183039e-10,\n",
       "         1.84338725e-10,   1.84494495e-10,   1.84650347e-10,\n",
       "         1.84806282e-10,   1.84962300e-10,   1.85118401e-10,\n",
       "         1.85274585e-10,   1.85430852e-10,   1.85587202e-10,\n",
       "         1.85743635e-10,   1.85900151e-10,   1.86056750e-10,\n",
       "         1.86213433e-10,   1.86370198e-10,   1.86527047e-10,\n",
       "         1.86683978e-10,   1.86840993e-10,   1.86998091e-10,\n",
       "         1.87155272e-10,   1.87312536e-10,   1.87469883e-10,\n",
       "         1.87627314e-10,   1.87784827e-10,   1.87942424e-10,\n",
       "         1.88100104e-10,   1.88257868e-10,   1.88415714e-10,\n",
       "         1.88573644e-10,   1.88731657e-10,   1.88889753e-10,\n",
       "         1.89047933e-10,   1.89206196e-10,   1.89364542e-10,\n",
       "         1.89522971e-10,   1.89681484e-10,   1.89840080e-10,\n",
       "         1.89998759e-10,   1.90157522e-10,   1.90316368e-10,\n",
       "         1.90475297e-10,   1.90634310e-10,   1.90793406e-10,\n",
       "         1.90952585e-10,   1.91111848e-10,   1.91271195e-10,\n",
       "         1.91430624e-10,   1.91590138e-10,   1.91749734e-10,\n",
       "         1.91909414e-10,   1.92069178e-10,   1.92229025e-10,\n",
       "         1.92388955e-10,   1.92548969e-10,   1.92709067e-10,\n",
       "         1.92869248e-10,   1.93029512e-10,   1.93189860e-10,\n",
       "         1.93350292e-10,   1.93510807e-10,   1.93671406e-10,\n",
       "         1.93832088e-10,   1.93992854e-10,   1.94153703e-10,\n",
       "         1.94314636e-10,   1.94475653e-10,   1.94636753e-10,\n",
       "         1.94797937e-10,   1.94959205e-10,   1.95120556e-10,\n",
       "         1.95281991e-10,   1.95443509e-10,   1.95605111e-10,\n",
       "         1.95766797e-10,   1.95928567e-10,   1.96090420e-10,\n",
       "         1.96252357e-10,   1.96414378e-10,   1.96576482e-10,\n",
       "         1.96738670e-10,   1.96900942e-10,   1.97063298e-10,\n",
       "         1.97225738e-10,   1.97388261e-10,   1.97550868e-10,\n",
       "         1.97713559e-10,   1.97876334e-10,   1.98039192e-10,\n",
       "         1.98202135e-10,   1.98365161e-10,   1.98528271e-10,\n",
       "         1.98691465e-10])"
      ]
     },
     "execution_count": 80,
     "metadata": {},
     "output_type": "execute_result"
    }
   ],
   "source": [
    "D_VFT"
   ]
  },
  {
   "cell_type": "code",
   "execution_count": 81,
   "metadata": {},
   "outputs": [
    {
     "data": {
      "image/png": "[encoded data removed]",
      "text/plain": [
       "<matplotlib.figure.Figure at 0x102ac5190>"
      ]
     },
     "metadata": {},
     "output_type": "display_data"
    }
   ],
   "source": [
    "fig = plt.figure()\n",
    "plt.plot(new_T, D, 'ro', label = 'Lab')\n",
    "plt.plot(Inv_T, D_s, 'bo', label = 'SwissFEL')\n",
    "#plt.plot(1/T_arr, D_laksmono, 'g--', label = 'Laksmono')\n",
    "plt.plot(1/T_arr, D_VFT, 'b--', label = 'VFT (0.1 MPa)')\n",
    "plt.xlabel('$1/T$ [K]')\n",
    "plt.ylabel('$D_s\\ (m^2/s)$')\n",
    "plt.axhline(0,c='black',lw=1)\n",
    "plt.ticklabel_format(style='sci', axis='x', scilimits=(0,0))\n",
    "plt.legend(loc='upper right',fontsize=10)\n",
    "plt.grid(linestyle='dotted')\n",
    "plt.show()"
   ]
  },
  {
   "cell_type": "code",
   "execution_count": 22,
   "metadata": {},
   "outputs": [],
   "source": [
    "sigma = K*den_t*((J_0/16.)*((4./(3.*np.pi))**(1./3.))*((ice_vol)**(4./3.))/D)**2 # Joule/m^2"
   ]
  },
  {
   "cell_type": "code",
   "execution_count": 65,
   "metadata": {},
   "outputs": [
    {
     "data": {
      "image/png": "[encoded data removed]",
      "text/plain": [
       "<matplotlib.figure.Figure at 0x102a4db50>"
      ]
     },
     "metadata": {},
     "output_type": "display_data"
    }
   ],
   "source": [
    "fig = plt.figure()\n",
    "plt.plot(den_t, sigma, 'ro--', label = 'Lab')\n",
    "plt.plot(T_arr, sigma_laksmono_VFT, 'b--', label = 'Laksmono (VFT)')\n",
    "plt.plot(T_arr, sigma_laksmono_PL, 'g--', label = 'Laksmono (PL)')\n",
    "plt.xlabel('$T$ [K]')\n",
    "plt.ylabel('$\\sigma_{sl}\\ (Joule/m^2)$')\n",
    "plt.axhline(0,c='black',lw=1)\n",
    "plt.legend(loc='upper right',fontsize=10)\n",
    "plt.grid(linestyle='dotted')\n",
    "plt.show()"
   ]
  },
  {
   "cell_type": "code",
   "execution_count": 24,
   "metadata": {},
   "outputs": [],
   "source": [
    "laksmono_T = np.array([252.23,237.36,232.03,228.81,227.58,226.57])\n",
    "laksmono_T = np.array(sorted(laksmono_T))\n",
    "sig_lak = (20.8*(laksmono_T/235.8)**0.67)/1000\n",
    "sig_lab = (20.8*(den_t/235.8)**0.67)/1000"
   ]
  },
  {
   "cell_type": "code",
   "execution_count": 25,
   "metadata": {},
   "outputs": [
    {
     "data": {
      "image/png": "[encoded data removed]",
      "text/plain": [
       "<matplotlib.figure.Figure at 0x1055f5ed0>"
      ]
     },
     "metadata": {},
     "output_type": "display_data"
    }
   ],
   "source": [
    "fig = plt.figure()\n",
    "plt.plot(den_t, sig_lab, 'ro--', label = 'Lab')\n",
    "plt.plot(laksmono_T, sig_lak, 'bo--', label = 'Laksmono et al.')\n",
    "plt.xlabel('$T$ [K]')\n",
    "plt.ylabel('$\\sigma_{sl}\\ (Joule/m^2)$')\n",
    "plt.axhline(0,c='black',lw=1)\n",
    "plt.legend(loc='upper right',fontsize=10)\n",
    "plt.grid(linestyle='dotted')\n",
    "plt.ylim(0.015, 0.03)\n",
    "plt.show()"
   ]
  },
  {
   "cell_type": "code",
   "execution_count": 26,
   "metadata": {},
   "outputs": [],
   "source": [
    "# saturation vapor pressure - water\n",
    "T = den_t\n",
    "#T = 273.15+38 --> 6632 Pa (water pressure)\n",
    "psat_water = np.exp(54.842763 - 6763.22/T - 4.210*np.log(T) + 0.000367*T + np.tanh(0.0415*(T-218.8))*(53.878-1331.22/T- 9.44523*np.log(T) + 0.014025*T)) # Pa\n",
    "\n",
    "# saturation vapor pressure - hexagonal ice\n",
    "psat_ice = np.exp(9.550426 - 5723.265/T + 3.53068*np.log(T) - 0.00728332*T) # Pa\n",
    "\n",
    "S = psat_water/psat_ice"
   ]
  },
  {
   "cell_type": "code",
   "execution_count": 46,
   "metadata": {},
   "outputs": [
    {
     "data": {
      "text/plain": [
       "array([ 1.49275026,  1.47897669,  1.42092824,  1.35413859])"
      ]
     },
     "execution_count": 46,
     "metadata": {},
     "output_type": "execute_result"
    }
   ],
   "source": [
    "S"
   ]
  },
  {
   "cell_type": "code",
   "execution_count": 27,
   "metadata": {},
   "outputs": [],
   "source": [
    "new_J = np.log(sort_J)[idx]\n",
    "new_T = T_inverse[idx]\n",
    "x_coeff = new_T*new_T*new_T/np.log(S)/np.log(S)"
   ]
  },
  {
   "cell_type": "markdown",
   "metadata": {},
   "source": [
    "fig = plt.figure()\n",
    "m,b = slope_and_intercept(x_coeff, new_J)\n",
    "line_fit = np.array([(m*x)+b for x in x_coeff])\n",
    "plt.plot(x_coeff, new_J, 'ro')\n",
    "plt.plot(x_coeff, line_fit, 'r--')\n",
    "plt.xlabel('$1/T^3/ln(S)^2$ [K$^{-3}$]')\n",
    "plt.ylabel('$ln(J)\\ (m^{-3}s^{-1})$')\n",
    "#plt.legend(loc='upper right',fontsize=10)\n",
    "plt.ticklabel_format(style='sci', axis='x', scilimits=(0,0))\n",
    "plt.ylim(37,40)\n",
    "plt.xlim(4.5e-7,8e-7)\n",
    "plt.axhline(0,c='black',lw=1)\n",
    "plt.grid(linestyle='dotted')\n",
    "plt.show()"
   ]
  },
  {
   "cell_type": "code",
   "execution_count": 28,
   "metadata": {},
   "outputs": [],
   "source": [
    "#rho_ice = 0.917 # g/cm3, from wikipedia\n",
    "rho_ice = 0.934 # g/cm3, from evapcool\n",
    "#ice_vol_new = m_h2o/rho_ice*1e-6 # m^3/mol\n",
    "ice_vol_new = m_h2o/rho_ice*1e-6/N_A # m^3/molecule"
   ]
  },
  {
   "cell_type": "code",
   "execution_count": 30,
   "metadata": {},
   "outputs": [
    {
     "data": {
      "text/plain": [
       "(array([  3.10067751e-29,   3.09481149e-29,   3.07059315e-29,\n",
       "          3.04563995e-29]), 3.2029188938137e-29)"
      ]
     },
     "execution_count": 30,
     "metadata": {},
     "output_type": "execute_result"
    }
   ],
   "source": [
    "ice_vol/N_A, ice_vol_new"
   ]
  },
  {
   "cell_type": "code",
   "execution_count": 140,
   "metadata": {},
   "outputs": [
    {
     "data": {
      "text/plain": [
       "0.010201592827459836"
      ]
     },
     "execution_count": 140,
     "metadata": {},
     "output_type": "execute_result"
    }
   ],
   "source": [
    "m,b = slope_and_intercept(x_coeff, new_J)\n",
    "sigma_lab = np.cbrt(-m*3*K*K*K/(16*np.pi*ice_vol_new*ice_vol_new))\n",
    "sigma_lab"
   ]
  },
  {
   "cell_type": "code",
   "execution_count": 7,
   "metadata": {},
   "outputs": [],
   "source": [
    "# constants\n",
    "N_A = 6.0221367e23 # molecules/mol\n",
    "m_h2o = 2*1.00794+15.9995 # g/mol\n",
    "kB = 1.380649e-23 # J/K\n",
    "\n",
    "# thermodynamic functions from Kell, Journal of Chemical Engineering Data 20, 97 (1975)\n",
    "# ----\n",
    "# density\n",
    "rho_h2o_si = lambda den_t : (933.942 + 66.7829 / (1.0 + np.exp( - 0.10662 * (den_t - 233.0573)))) / 1000 # g/cm^3\n",
    "rho_h2o = lambda T : rho_h2o_si(T)*N_A/1e24/m_h2o # molecule/A^3\n",
    "vol_h2o = lambda T : 1e-30/rho_h2o(T) # m^3/molecule\n",
    "\n",
    "# thermodynamic functions from Laksmono et al. JPCL (2014)\n",
    "# ----\n",
    "# density\n",
    "rho_ice_si = lambda T : (-1.3103e-9*T*T*T + 3.8109e-7*T*T - 9.259e-5*T + 0.94040) # g/cm^3\n",
    "rho_ice = lambda T : rho_ice_si(T)*N_A/1e24/m_h2o # molecule/A^3\n",
    "vol_ice = lambda T : 1e-30/rho_ice(T) # m^3/molecule\n",
    "#rho_ice = 0.917 # g/cm3, from wikipedia\n",
    "#rho_ice = 0.934 # g/cm3, from evapcool\n",
    "\n",
    "# droplet radius\n",
    "R_droplet = 20e-6/10 # m\n",
    "\n",
    "# saturation vapor pressure\n",
    "psat_water = lambda T : np.exp(54.842763 - 6763.22/T - 4.210*np.log(T) + 0.000367*T + np.tanh(0.0415*(T-218.8))*(53.878-1331.22/T- 9.44523*np.log(T) + 0.014025*T)) # Pa\n",
    "psat_hexice = lambda T : np.exp(9.550426 - 5723.265/T + 3.53068*np.log(T) - 0.00728332*T) # Pa\n",
    "psat_ice = lambda T : psat_hexice(T)*np.exp(155/(N_A*kB*T))\n",
    "S = lambda T : psat_water(T)/psat_ice(T)\n",
    "\n",
    "# diffusivity\n",
    "D_laksmono = lambda T_arr : 1.67e-8*np.exp(5.698332e-2*T_arr*T_arr - 2.728998e1*T_arr + 3.271878e3) # m^2/s, WRONG? off by e-5\n",
    "D_VFT = lambda T_arr : 4.14e-8*np.exp(-347./(T_arr-177.)) # m^2/s\n",
    "D_PL = lambda T_arr : 1.67e-8*(T_arr/223. - 1.)**1.82 # m^2/s\n",
    "\n",
    "# interfacial free energy (surface tension)\n",
    "sigma_vapor = lambda T : (111.63 - 0.13167*T)/1000 # J/m^2\n",
    "sigma_MH = lambda T : (20.8*(T/235.8)**0.3)/1000 # J/m^2\n",
    "sigma_laksmono_VFT = lambda T_arr : 1.198100169422e-11*T_arr**6 - 1.644226732545e-8*T_arr**5 + 9.387801708449e-6*T_arr**4 - 2.854359440278e-3*T_arr*T_arr*T_arr + 4.874466166395e-1*T_arr*T_arr - 4.433154987346e1*T_arr + 1.677613823216e3 # J/m^2\n",
    "sigma_laksmono_PL = lambda T_arr : -6.238115076579e-10*T_arr**6 + 8.736769546436e-7*T_arr**5 - 5.098181318142e-4*T_arr**4 + 1.586558905910e-1*T_arr*T_arr*T_arr - 2.777134850571e1*T_arr*T_arr + 2.592466463405e3*T_arr - 1.008309560689e5 # J/m^2\n",
    "#sigma_fit_pol = lambda T_arr, a, b, c, d, e, f, g : a*T_arr**6 + b*T_arr**5 + c*T_arr**4 + d*T_arr*T_arr*T_arr + e*T_arr*T_arr + f*T_arr + g\n",
    "#sigma_fit_lin = lambda T_arr, k, m : k*T_arr + m\n",
    "# use np.polyfit, np.polyval\n",
    "\n",
    "# chemical potential difference\n",
    "deltamu_0 = lambda T : -kB*T*np.log(S(T))\n",
    "#deltamu_P = lambda T : 0\n",
    "deltamu_P = lambda T : (psat_water(T) + 2*sigma_vapor(T)/R_droplet - psat_ice(T))*vol_ice(T) - (2*sigma_vapor(T)/R_droplet)*vol_h2o(T) # chemical potential from Laplace pressure\n",
    "deltamu = lambda T : deltamu_0(T) + deltamu_P(T)\n",
    "\n",
    "# free energy barriers\n",
    "deltaF = lambda T, sigma : 16*np.pi*sigma*sigma*sigma*vol_ice(T)*vol_ice(T)/(3*deltamu(T)*deltamu(T)) # J/molecule\n",
    "deltaf = lambda T, D : -kB*np.gradient(np.log(D), 1/T) # J/molecule\n",
    "\n",
    "# nucleation rate\n",
    "J_0 = lambda T, D, sigma : (16*np.cbrt(3*np.pi/4)*np.sqrt(sigma/kB/T)*D/np.cbrt(vol_ice(T))**4)\n",
    "J = lambda T, D, sigma : J_0(T, D, sigma)*np.exp(-deltaF(T, sigma)/kB/T)"
   ]
  },
  {
   "cell_type": "code",
   "execution_count": 8,
   "metadata": {},
   "outputs": [
    {
     "data": {
      "text/plain": [
       "(array([235, 236, 237]),\n",
       " array([  1.04404997e-10,   1.15547330e-10,   1.27447285e-10]),\n",
       " array([ 0.02084975,  0.02083078,  0.02082868]),\n",
       " array([ 55.3567956 ,  58.04136811,  61.16298405]),\n",
       " array([-inf, -inf, -inf]),\n",
       " array([  4.95771294e+14,   3.73441818e+13,   1.81163189e+12]))"
      ]
     },
     "execution_count": 8,
     "metadata": {},
     "output_type": "execute_result"
    }
   ],
   "source": [
    "np.array([235, 236, 237]), D_VFT(np.array([235, 236, 237])), sigma_laksmono_VFT(np.array([235, 236, 237])), deltaF(np.array([235, 236, 237]), sigma_laksmono_VFT(np.array([235, 236, 237])))/kB/np.array([235., 236., 237.]), deltaf(np.array([235, 236, 237]), D_VFT(np.array([235, 236, 237]))), J(np.array([235, 236, 237]), D_VFT(np.array([235, 236, 237])), sigma_laksmono_VFT(np.array([235, 236, 237])))"
   ]
  },
  {
   "cell_type": "code",
   "execution_count": 9,
   "metadata": {},
   "outputs": [
    {
     "data": {
      "image/png": "[encoded data removed]",
      "text/plain": [
       "<matplotlib.figure.Figure at 0x106caecd0>"
      ]
     },
     "metadata": {},
     "output_type": "display_data"
    }
   ],
   "source": [
    "# experimental diffusivity data from SwissFEL\n",
    "data_SwissFEL = np.loadtxt(file_dir + 'entropy_data_7.2.csv', delimiter=',')\n",
    "T_SwissFEL = np.array([data_SwissFEL[i,0] for i in range(len(data_SwissFEL))])\n",
    "D_SwissFEL = np.array([data_SwissFEL[i,13] for i in range(len(data_SwissFEL))])\n",
    "D_SwissFEL_invT = interpolate.InterpolatedUnivariateSpline(1/T_SwissFEL, D_SwissFEL)\n",
    "p_SwissFEL = np.polyfit(T_SwissFEL, D_SwissFEL, 6, rcond=None, full=False, w=None, cov=False)\n",
    "p_SwissFEL_invT_log = np.polyfit(1/T_SwissFEL, np.log(D_SwissFEL), 6, rcond=None, full=False, w=None, cov=False)\n",
    "D_SwissFEL_fit = lambda T: np.polyval(p_SwissFEL, T)\n",
    "D_SwissFEL_fit_log = lambda T: np.exp(np.polyval(p_SwissFEL_invT_log, 1/T))\n",
    "\n",
    "# plot data\n",
    "#T_arr = np.arange(np.ceil(T_SwissFEL.min()), np.floor(T_SwissFEL.max()), 0.01)\n",
    "T_arr = np.arange(225,245,0.01)\n",
    "\n",
    "f, axes = plt.subplots(nrows=1, ncols=2,  figsize=(15, 6))\n",
    "f.suptitle('diffusivity')\n",
    "\n",
    "axes[0].plot(T_SwissFEL, D_SwissFEL, 'rs:', label='Pathak')\n",
    "axes[0].plot(T_arr, D_SwissFEL_invT(1/T_arr), 'r--', label='interpolation')\n",
    "axes[0].plot(T_arr, D_SwissFEL_fit(T_arr), 'r:', label='polyfit')\n",
    "axes[0].plot(T_arr, D_SwissFEL_fit_log(T_arr), 'r-', label='polyfit (log)')\n",
    "axes[0].plot(T_arr, D_VFT(T_arr), 'g--', label='VFT')\n",
    "axes[0].plot(T_arr, D_PL(T_arr), 'g-.', label='PL')\n",
    "#axes[0].plot(T_arr, D_laksmono(T_arr), 'b--', label='Laksmono (CNT fit)')\n",
    "axes[0].set_xlabel('$T$ [K]')\n",
    "axes[0].set_ylabel('$D_s\\ (m^2/s)$')\n",
    "#axes[0].set_xlim(200,250)\n",
    "#axes[0].set_ylim(0.274,0.279)\n",
    "axes[0].legend(loc='upper left', prop={'size': 10})\n",
    "axes[0].grid(linestyle='dotted')\n",
    "\n",
    "axes[1].semilogy(1000/T_SwissFEL, D_SwissFEL, 'rs:', label='Pathak (2021)')\n",
    "#axes[1].semilogy(1000/T_arr, D_SwissFEL_invT(1/T_arr), 'r--', label='interpolation')\n",
    "#axes[1].semilogy(1000/T_arr, D_SwissFEL_fit(T_arr), 'r:', label='polyfit')\n",
    "#axes[1].semilogy(1000/T_arr, D_SwissFEL_fit_log(T_arr), 'r-', label='polyfit (log)')\n",
    "axes[1].semilogy(1000/T_arr, D_SwissFEL_fit_log(T_arr), 'r--',)\n",
    "axes[1].semilogy(1000/T_arr, D_VFT(T_arr), 'g--', label='VFT')\n",
    "axes[1].semilogy(1000/T_arr, D_PL(T_arr), 'g-.', label='PL')\n",
    "#axes[1].semilogy(1000/T_arr, D_laksmono(T_arr), 'b--', label='Laksmono (CNT fit)')\n",
    "axes[1].legend(loc='upper right', prop={'size': 14})\n",
    "axes[1].set_xlabel('$1000/T$ (K$^{-1}$)', fontsize=16)\n",
    "axes[1].set_ylabel('$D_s$ (m$^2$/s)', fontsize=16)\n",
    "#axes[1].set_title('diffusivity')\n",
    "#axes[1].set_xlim(170,310)\n",
    "#axes[1].set_ylim(0.274,0.279)\n",
    "axes[1].grid(linestyle='dotted')\n",
    "\n",
    "plt.savefig('fig1-diffusivity.eps', format='eps')\n",
    "plt.show()"
   ]
  },
  {
   "cell_type": "code",
   "execution_count": 10,
   "metadata": {},
   "outputs": [],
   "source": [
    "# data from lab experiments (Mar-Dec 2020)\n",
    "file_dir = '/Users/sellberg/Documents/RESEARCH/experiments/local/BioX/ice_nucleation/results/ice_fraction/'\n",
    "\n",
    "# Mar 12 2020\n",
    "time1 = np.array([1.068999028, 1.554907677, 1.943634597, 2.429543246, 2.915451895, 3.401360544, 3.644314869, 3.887269193, 4.130223518, 4.373177843, 4.616132167, 4.859086492]) # ms\n",
    "T1 = np.array([(246.0582851+241.4707365)/2,241.4707365,238.9234228,236.5170494,234.6541388,233.1494294,232.4962372,231.8962764,231.3422528,230.8282207,230.3492746,(230.3492746+229.9013269)/2]) # K\n",
    "# counts\n",
    "ntot1 = np.array([357, 183, 105, 158, 113, 471, 319, 406, 327, 454, 206, 220])\n",
    "nmarbles1 = np.array([0, 0, 0, 0, 1, 9, 4, 4, 3, 36, 70, 39])\n",
    "nblobs1 = np.array([0, 0, 0, 0, 1, 16, 23, 19, 17, 34, 50, 140])\n",
    "nfract1 = np.array([0, 0, 0, 0, 0, 0, 0, 3, 1, 5, 6, 16])\n",
    "ndist1 =  np.array([0, 0, 0, 0, 0, 2, 3, 2, 3, 2, 2, 7])\n",
    "# fractions\n",
    "fice1 = (nmarbles1 + nblobs1 + nfract1 + ndist1)/ntot1.astype(np.float)\n",
    "fmarbles1 = nmarbles1/ntot1.astype(np.float)\n",
    "fblobs1 = nblobs1/ntot1.astype(np.float)\n",
    "ffract1 = nfract1/ntot1.astype(np.float)\n",
    "fdist1 = ndist1/ntot1.astype(np.float)\n",
    "# nucleation rate\n",
    "V1 = 5.24E-18 # m^3*s/ms\n",
    "J1 = -np.gradient(np.log(1-fice1), time1)/V1 # /m^3/s\n",
    "# load text file MC error\n",
    "data = np.loadtxt(file_dir + 'MC_error/Mar_12_interpolatedpos.txt')\n",
    "T1_MC = data[:,4]\n",
    "J1_MC = data[:,-3]\n",
    "T1_MC_low = data[:,5]\n",
    "T1_MC_high = data[:,6]\n",
    "J1_MC_low = data[:,-2]\n",
    "J1_MC_high = data[:,-1]\n",
    "\n",
    "\n",
    "# Nov 3 2020\n",
    "time2 = np.array([1.140684411,1.520912548,1.901140684,2.281368821,2.661596958,3.041825095,3.422053232,3.802281369]) # ms\n",
    "T2 = np.array([(241.6097934+238.3524206)/2,238.3524206,235.9850406,234.1522187,232.6715239,231.4380465,230.3864514,(230.3864514+229.4735652)/2]) # K\n",
    "# counts\n",
    "ntot2 = np.array([48,39,34,210,715,881,797,292])\n",
    "nmarbles2 = np.array([0,1,0,5,12,13,31,21])\n",
    "nblobs2 = np.array([0,0,0,6,12,14,62,22])\n",
    "nfract2 = np.array([0,0,0,0,0,2,0,0])\n",
    "ndist2 = np.array([0,0,0,2,3,6,13,6])\n",
    "# fractions\n",
    "fice2 = (nmarbles2 + nblobs2 + nfract2 + ndist2)/ntot2.astype(np.float)\n",
    "fmarbles2 = nmarbles2/ntot2.astype(np.float)\n",
    "fblobs2 = nblobs2/ntot2.astype(np.float)\n",
    "ffract2 = nfract2/ntot2.astype(np.float)\n",
    "fdist2 = ndist2/ntot2.astype(np.float)\n",
    "# nucleation rate\n",
    "V2 = 4.551E-18 # m^3*s/ms\n",
    "J2 = -np.gradient(np.log(1-fice2), time2)/V2 # /m^3/s\n",
    "# load text file MC error\n",
    "data = np.loadtxt(file_dir + 'MC_error/Nov_3_interpolatedpos.txt')\n",
    "T2_MC = data[:,4]\n",
    "J2_MC = data[:,-3]\n",
    "T2_MC_low = data[:,5]\n",
    "T2_MC_high = data[:,6]\n",
    "J2_MC_low = data[:,-2]\n",
    "J2_MC_high = data[:,-1]\n",
    "\n",
    "\n",
    "# Dec 7 2020\n",
    "time3 = np.array([3.373060174, 3.794692695, 4.005508956, 4.216325217])\n",
    "T3 = np.array([231.5241886, 230.4749207, 230.0041271, 229.5636484])\n",
    "# counts\n",
    "ntot3 = np.array([633, 566, 298, 325])\n",
    "nmarbles3 = np.array([12, 149, 74, 15])\n",
    "nblobs3 = np.array([15, 50, 192, 176])\n",
    "nfractdist3 = np.array([2, 6, 28, 134])\n",
    "#nwater3 = np.array([604, 361, 4, 0]) # ntot3 - nblobs3 - nmarbles3 - nfractdist3\n",
    "# fractions\n",
    "fice3 = (nmarbles3 + nblobs3 + nfractdist3)/ntot3.astype(np.float)\n",
    "fmarbles3 = nmarbles3/ntot3.astype(np.float)\n",
    "fblobs3 = nblobs3/ntot3.astype(np.float)\n",
    "ffractdist3 = nfractdist3/ntot3.astype(np.float)\n",
    "# numerical correction to 100% ice\n",
    "fice3[np.where(fice3 >= 1)] = 0.999\n",
    "#fice3[np.where(fice3 >= 1)] = 0.999999\n",
    "# nucleation rate\n",
    "V3 = 3.13E-18 # m^3*s/ms\n",
    "J3 = -np.gradient(np.log(1-fice3), time3)/V3 # /m^3/s\n",
    "# load text file MC error\n",
    "data = np.loadtxt(file_dir + 'MC_error/Dec_7_interpolatedpos.txt')\n",
    "T3_MC = data[:,4]\n",
    "J3_MC = data[:,-3]\n",
    "T3_MC_low = data[:,5]\n",
    "T3_MC_high = data[:,6]\n",
    "J3_MC_low = data[:,-2]\n",
    "J3_MC_high = data[:,-1]\n",
    "\n",
    "\n",
    "# Laksmono JPCL (2014)\n",
    "T_laksmono = np.array([230.42,228.19,227.08,231.79,229.16])\n",
    "J_laksmono = np.array([2.11E+11,3.22E+12,3.58E+12,2.69E+11,8.45E+11])*1e6 # /m^3/s\n",
    "T_laksmono_low = np.array([1.00, 1.00, 1.00, 1.00, 1.00])\n",
    "T_laksmono_high = np.array([2.00, 2.00, 2.00, 2.00, 2.00])\n",
    "J_laksmono_low = np.array([1.38E+11, 7.90E+11, 2.79E+12, 3.90E+10, 3.71E+11])*1E+6\n",
    "J_laksmono_high = np.array([3.12E+12, 4.60E+13, 5.76E+13, 3.81E+12, 1.22E+13])*1E+6\n"
   ]
  },
  {
   "cell_type": "code",
   "execution_count": 11,
   "metadata": {},
   "outputs": [],
   "source": [
    "# load Murray 2010 data Run1\n",
    "data = np.loadtxt(data_dir + 'Murray_dataset/Ben1.txt')\n",
    "T_Ben1 = data[:,0]\n",
    "J_Ben1 = data[:,1]*10**6\n",
    "J_up_Ben1 =data[:,2]*10**6\n",
    "J_down_Ben1 = data[:,3]*10**6\n",
    "\n",
    "# load Murray 2010 data Run2\n",
    "data = np.loadtxt(data_dir + 'Murray_dataset/Ben2.txt')\n",
    "T_Ben2 = data[:,0]\n",
    "J_Ben2 = data[:,1]*10**6\n",
    "J_up_Ben2 =data[:,2]*10**6\n",
    "J_down_Ben2 = data[:,3]*10**6\n",
    "\n",
    "# load Murray 2021 (latest publication)\n",
    "Run1 = np.loadtxt(data_dir + 'Murray_dataset/Murray_Run1.txt')\n",
    "Run2 = np.loadtxt(data_dir + 'Murray_dataset/Murray_Run2.txt')\n",
    "Run3 = np.loadtxt(data_dir + 'Murray_dataset/Murray_Run3.txt')\n",
    "\n",
    "# Run 1\n",
    "T_Murray_R1 = Run1[:,0] + 273.\n",
    "T_R1_err = Run1[:,1]\n",
    "J_Murray_R1 = Run1[:,2]*10**6\n",
    "J_R1_up = Run1[:,3]*10**6\n",
    "J_R1_down = Run1[:,4]*10**6\n",
    "\n",
    "# Run 2\n",
    "T_Murray_R2 = Run2[:,0] + 273.\n",
    "T_R2_err = Run2[:,1]\n",
    "J_Murray_R2 = Run2[:,2]*10**6\n",
    "J_R2_up = Run2[:,3]*10**6\n",
    "J_R2_down = Run2[:,4]*10**6\n",
    "\n",
    "# Run 3\n",
    "T_Murray_R3 = Run3[:,0] + 273.\n",
    "T_R3_err = Run3[:,1]\n",
    "J_Murray_R3 = Run3[:,2]*10**6\n",
    "J_R3_up = Run3[:,3]*10**6\n",
    "J_R3_down = Run3[:,4]*10**6"
   ]
  },
  {
   "cell_type": "code",
   "execution_count": 17,
   "metadata": {},
   "outputs": [
    {
     "name": "stdout",
     "output_type": "stream",
     "text": [
      "Lab data (Mar-Dec 2020) - polynomial fit\n",
      "[  1.19809800e-11  -1.64422620e-08   9.38780217e-06  -2.85435927e-03\n",
      "   4.87446663e-01  -4.43315459e+01   1.67761028e+03]\n",
      "[ 15.5449076   16.06418285  16.41823872  15.68842558  16.65251371\n",
      "  17.54590799  17.95911579  18.08042792]\n",
      "[ 0.02535736  0.02507449  0.02480077  0.02460653  0.0245176   0.02449445\n",
      "  0.02449955  0.02451282  0.0245326   0.02455758  0.0245867   0.02460228]\n",
      "Lab data (Mar-Dec 2020) + Murray (2021) + Laksmono (2014) - polynomial fit\n",
      "[  1.19810017e-11  -1.64422673e-08   9.38780171e-06  -2.85435944e-03\n",
      "   4.87446617e-01  -4.43315499e+01   1.67761382e+03]\n",
      "[ 15.544128    16.03483308  16.12324313  16.46402882  16.92682363\n",
      "  17.17504661  17.7989163   17.94689464]\n",
      "[ 0.02110491  0.02097172  0.02086453  0.02082771  0.02086059  0.02093575\n",
      "  0.02098348  0.02103589  0.02109178  0.02115025  0.02121055  0.0212407 ]\n",
      "Lab data (Mar-Dec 2020) + Murray (2021) + Laksmono (2014) - linear fit\n",
      "[ 0.000123   -0.00499719]\n",
      "[ 15.5449076   16.06418285  16.41823872  15.68842558  16.65251369\n",
      "  17.54590798  17.95911577  18.08042789]\n",
      "[ 0.02498649  0.02470435  0.02439102  0.02409503  0.02386589  0.02368081\n",
      "  0.02360046  0.02352667  0.02345852  0.02339529  0.02333638  0.02330883]\n"
     ]
    }
   ],
   "source": [
    "# fit interfacial free energy to nucleation rate data\n",
    "sigma_errfunc = lambda p, T, data: (np.hstack(data) - J(np.hstack(T), D_SwissFEL_fit_log(np.hstack(T)), np.polyval(p, np.hstack(T)))).flatten()\n",
    "sigma_errfunc_log = lambda p, T, data: np.log10(np.abs((np.hstack(data) - J(np.hstack(T), D_SwissFEL_fit_log(np.hstack(T)), np.polyval(p, np.hstack(T)))).flatten()))\n",
    "#sigma_errfunc_log = lambda p, T, data: np.log10(np.abs((np.hstack(data) - J(np.hstack(T), D_SwissFEL_fit_log(np.hstack(T)), np.polyval(p, np.hstack(T)))).flatten()))\n",
    "\n",
    "# interfacial free energy - polynomial (6 degree) - lab data\n",
    "p0 = [1.198100169422e-11, -1.644226732545e-8, 9.387801708449e-6, -2.854359440278e-3, +4.874466166395e-1, -4.433154987346e1, +1.677613823216e3]\n",
    "[p1, success] = optimize.leastsq(sigma_errfunc_log, p0[:], args=([T1[np.where(J1 > 1e15)], T2[np.where(J2 > 1e15)], T3[np.where(J3 > 1e15)]], [J1[np.where(J1 > 1e15)], J2[np.where(J2 > 1e15)], J3[np.where(J3 > 1e15)]]))\n",
    "\n",
    "if success:\n",
    "    print 'Lab data (Mar-Dec 2020) - polynomial fit'\n",
    "    print p1\n",
    "    print sigma_errfunc_log(p1, T1[np.where(J1 > 1e15)], J1[np.where(J1 > 1e15)])\n",
    "    print np.polyval(p1, T1)#, sigma_laksmono_VFT(T1), T1\n",
    "\n",
    "# interfacial free energy - polynomial (6 degree) - lab data + Murray data (2021) + Laksmono data (2014)\n",
    "#p0 = [1.19e-11, -1.64e-8, 9.38e-6, -2.85e-3, +4.87e-1, -4.43e1, +1.67e3] # from Laksmono (2014)\n",
    "[p2, success] = optimize.leastsq(sigma_errfunc_log, p0[:], args=([T1[np.where(J1 > 1e15)], T2[np.where(J2 > 1e15)], T3[np.where(J3 > 1e15)], T_Murray_R1, T_Murray_R2, T_Murray_R3, T_laksmono], [J1[np.where(J1 > 1e15)], J2[np.where(J2 > 1e15)], J3[np.where(J3 > 1e15)], J_Murray_R1, J_Murray_R2, J_Murray_R3, J_laksmono]), ftol=1.49012e-08, xtol=1.49012e-01, maxfev=10000)\n",
    "\n",
    "if success:\n",
    "    print 'Lab data (Mar-Dec 2020) + Murray (2021) + Laksmono (2014) - polynomial fit'\n",
    "    print p2\n",
    "    print sigma_errfunc_log(p2, T1[np.where(J1 > 1e15)], J1[np.where(J1 > 1e15)])\n",
    "    print np.polyval(p2, T1)#, sigma_laksmono_VFT(T1), T1\n",
    "\n",
    "# interfacial free energy - polynomial (6 degree) - lab data + Murray data (2021) + Laksmono data (2014)\n",
    "p0 = [0.124/1000, 29.1/1000-273.14*0.124/1000] # from Ickes (2015)\n",
    "[p3, success] = optimize.leastsq(sigma_errfunc_log, p0[:], args=(np.array([T1[np.where(J1 > 1e15)], T2[np.where(J2 > 1e15)], T3[np.where(J3 > 1e15)], T_Murray_R1, T_Murray_R2, T_Murray_R3, T_laksmono]), [J1[np.where(J1 > 1e15)], J2[np.where(J2 > 1e15)], J3[np.where(J3 > 1e15)], J_Murray_R1, J_Murray_R2, J_Murray_R3, J_laksmono]))\n",
    "\n",
    "if success:\n",
    "    print 'Lab data (Mar-Dec 2020) + Murray (2021) + Laksmono (2014) - linear fit'\n",
    "    print p3\n",
    "    print sigma_errfunc_log(p3, T1[np.where(J1 > 1e15)], J1[np.where(J1 > 1e15)])\n",
    "    print np.polyval(p3, T1)#, sigma_laksmono_VFT(T1), T1\n",
    "\n"
   ]
  },
  {
   "cell_type": "code",
   "execution_count": 18,
   "metadata": {},
   "outputs": [
    {
     "data": {
      "image/png": "[encoded data removed]",
      "text/plain": [
       "<matplotlib.figure.Figure at 0x10a805450>"
      ]
     },
     "metadata": {},
     "output_type": "display_data"
    }
   ],
   "source": [
    "T_arr = np.arange(225,240,0.01)\n",
    "\n",
    "# plot nucleation rate J and kinetic and thermodynamic free energy barrier\n",
    "f, axes = plt.subplots(nrows=1, ncols=2,  figsize=(15, 6))\n",
    "err_linestyle = {\"linewidth\":1, \"markeredgewidth\":1.5, \"elinewidth\":1, \"capsize\":2}\n",
    "\n",
    "#axes[0].semilogy(T2_MC, J2_MC, 'r^:', label='Nov 2020 (MC)')\n",
    "axes[0].semilogy(T_arr, J(T_arr, D_VFT(T_arr), sigma_laksmono_VFT(T_arr)), 'k--', label='Laksmono (CNT fit)')\n",
    "axes[0].semilogy(T_arr, J(T_arr, D_SwissFEL_fit_log(T_arr), np.polyval(p2, T_arr)), 'k-', label='Pathak (polynomial fit)')\n",
    "#axes[0].semilogy(T_arr, J(T_arr, D_SwissFEL_fit_log(T_arr), np.polyval(p3, T_arr)), 'k:', label='Pathak (linear fit)')\n",
    "#axes[0].semilogy(T_arr, J(T_arr, D_SwissFEL_fit_log(T_arr), sigma_laksmono_VFT(T_arr)), 'm:', label='Pathak (CNT fit)')\n",
    "#axes[0].semilogy(T_laksmono, J_laksmono, 'ko', label='Laksmono')\n",
    "#axes[0].semilogy(T1, J1, 'ro:', label='Mar 2020')\n",
    "#axes[0].errorbar(T1_MC[np.where(J1_MC > 0)], J1_MC[np.where(J1_MC > 0)], xerr=[T1_MC_low[np.where(J1_MC > 0)], T1_MC_high[np.where(J1_MC > 0)]], yerr=[J1_MC_low[np.where(J1_MC > 0)], J1_MC_high[np.where(J1_MC > 0)]] , label='Mar 2020 (MC)', fmt='rs')\n",
    "#axes[0].semilogy(T2, J2, 'g^:', label='Nov 2020')\n",
    "#axes[0].errorbar(T2_MC[np.where(J2_MC > 0)], J2_MC[np.where(J2_MC > 0)], xerr=[T2_MC_low[np.where(J2_MC > 0)], T2_MC_high[np.where(J2_MC > 0)]], yerr=[J2_MC_low[np.where(J2_MC > 0)], J2_MC_high[np.where(J2_MC > 0)]] , label='Nov 2020 (MC)', fmt='gs')\n",
    "#axes[0].semilogy(T3, J3, 'bs:', label='Dec 2020')\n",
    "#axes[0].errorbar(T3_MC[np.where(J3_MC > 0)], J3_MC[np.where(J3_MC > 0)], xerr=[T3_MC_low[np.where(J3_MC > 0)], T3_MC_high[np.where(J3_MC > 0)]], yerr=[J3_MC_low[np.where(J3_MC > 0)], J3_MC_high[np.where(J3_MC > 0)]] , label='Dec 2020 (MC)', fmt='bs')\n",
    "axes[0].errorbar(T_laksmono, J_laksmono, xerr=[T_laksmono_low, T_laksmono_high], yerr=[J_laksmono_low, J_laksmono_high], fmt='ko', ms=4, label='Laksmono et al. (2014)', **err_linestyle)\n",
    "#axes[0].errorbar(T_Ben1, J_Ben1, yerr=[J_down_Ben1, J_up_Ben1], fmt='yo', ms=4, label='Murray et al. (2010)', **err_linestyle)\n",
    "#axes[0].errorbar(T_Ben2, J_Ben2, yerr=[J_down_Ben2, J_up_Ben2], fmt='yo', ms=4, **err_linestyle)\n",
    "axes[0].errorbar(T_Ben1, J_Ben1, yerr=[J_down_Ben1, J_up_Ben1], fmt='D', color='0.2', ms=4, label='Murray et al. (2010)', **err_linestyle)\n",
    "axes[0].errorbar(T_Ben2, J_Ben2, yerr=[J_down_Ben2, J_up_Ben2], fmt='D', color='0.2', ms=4, **err_linestyle)\n",
    "#axes[0].errorbar(T_Murray_R1, J_Murray_R1, yerr=[J_R1_down, J_R1_up], xerr=[T_R1_err, T_R1_err], fmt='mo', ms=4, label='Murray et al. (2021)', **err_linestyle)\n",
    "#axes[0].errorbar(T_Murray_R2, J_Murray_R2, yerr=[J_R2_down, J_R2_up], xerr=[T_R2_err, T_R2_err], fmt='mo', ms=4, **err_linestyle)\n",
    "#axes[0].errorbar(T_Murray_R3, J_Murray_R3, yerr=[J_R3_down, J_R3_up], xerr=[T_R3_err, T_R3_err], fmt='mo', ms=4, **err_linestyle)\n",
    "axes[0].errorbar(T_Murray_R1, J_Murray_R1, yerr=[J_R1_down, J_R1_up], xerr=[T_R1_err, T_R1_err], fmt='^', color='0.8', ms=4, label='Murray et al. (2021)', **err_linestyle)\n",
    "axes[0].errorbar(T_Murray_R2, J_Murray_R2, yerr=[J_R2_down, J_R2_up], xerr=[T_R2_err, T_R2_err], fmt='^', color='0.8', ms=4, **err_linestyle)\n",
    "axes[0].errorbar(T_Murray_R3, J_Murray_R3, yerr=[J_R3_down, J_R3_up], xerr=[T_R3_err, T_R3_err], fmt='^', color='0.8', ms=4, **err_linestyle)\n",
    "axes[0].errorbar(T1_MC[np.where(J1_MC > 0)], J1_MC[np.where(J1_MC > 0)], xerr=[T1_MC_low[np.where(J1_MC > 0)], T1_MC_high[np.where(J1_MC > 0)]], yerr=[J1_MC_low[np.where(J1_MC > 0)], J1_MC_high[np.where(J1_MC > 0)]] , label='21 $\\mu m$', fmt='ro')\n",
    "axes[0].errorbar(T2_MC[np.where(J2_MC > 0)], J2_MC[np.where(J2_MC > 0)], xerr=[T2_MC_low[np.where(J2_MC > 0)], T2_MC_high[np.where(J2_MC > 0)]], yerr=[J2_MC_low[np.where(J2_MC > 0)], J2_MC_high[np.where(J2_MC > 0)]] , label='20 $\\mu m$', fmt='gp')\n",
    "axes[0].errorbar(T3_MC[np.where(J3_MC > 0)], J3_MC[np.where(J3_MC > 0)], xerr=[T3_MC_low[np.where(J3_MC > 0)], T3_MC_high[np.where(J3_MC > 0)]], yerr=[J3_MC_low[np.where(J3_MC > 0)], J3_MC_high[np.where(J3_MC > 0)]] , label='18 $\\mu m$', fmt='bs')\n",
    "axes[0].legend(loc='upper right', prop={'size': 10})\n",
    "axes[0].set_xlabel('$T$ [K]')\n",
    "axes[0].set_ylabel('$J$ [m$^{-3}$s$^{-1}$]')\n",
    "axes[0].set_title('Nucleation rate')\n",
    "#axes[0].set_xlim(170,310)\n",
    "axes[0].set_ylim(1e10,1e20)\n",
    "axes[0].set_yscale('symlog')\n",
    "axes[0].grid(linestyle='dotted')\n",
    "\n",
    "axes[1].plot(T_arr, deltaF(T_arr, sigma_laksmono_VFT(T_arr))/kB/T_arr, 'b--', label='$\\Delta F$ (Laksmono, VFT)')\n",
    "axes[1].plot(T_arr, deltaf(T_arr, D_VFT(T_arr))/kB/T_arr, 'r--', label='$\\Delta f$ (Laksmono, VFT)')\n",
    "#axes[1].plot(T_arr, deltaF(T_arr, np.polyval(p2, T_arr))/kB/T_arr, 'b-', label='$\\Delta F$ (Pathak, CNT)')\n",
    "#axes[1].plot(T_arr, deltaf(T_arr, D_SwissFEL_fit_log(T_arr))/kB/T_arr, 'r-', label='$\\Delta f$ (Pathak, CNT)')\n",
    "axes[1].legend(loc='upper left', prop={'size': 10})\n",
    "axes[1].set_xlabel('$T$ [K]')\n",
    "axes[1].set_ylabel('$\\Delta G^*$ [J/$k_B T$]')\n",
    "axes[1].set_title('Free energy barriers (CNT)')\n",
    "axes[1].grid(linestyle='dotted')\n",
    "\n",
    "plt.savefig('fig2-nucleation_rate.eps', format='eps')\n",
    "plt.show()"
   ]
  },
  {
   "cell_type": "code",
   "execution_count": 19,
   "metadata": {},
   "outputs": [
    {
     "data": {
      "image/png": "[encoded data removed]",
      "text/plain": [
       "<matplotlib.figure.Figure at 0x10a14cbd0>"
      ]
     },
     "metadata": {},
     "output_type": "display_data"
    }
   ],
   "source": [
    "# plot interfacial free energy\n",
    "T_arr = np.arange(225,245,0.01)\n",
    "\n",
    "f = plt.figure(figsize=(10, 6))\n",
    "plt.title('interfacial free energy')\n",
    "\n",
    "plt.plot(T_arr, np.polyval(p2, T_arr), 'b-', label='Pathak (polynomial fit)')\n",
    "plt.plot(T_arr, np.polyval(p3, T_arr), 'b--', label='Pathak (linear fit)')\n",
    "#plt.plot(T_arr, np.polyval([0.124/1000, 29.1/1000], T_arr-273.14), 'r--', label='Ickes (linear fit)')\n",
    "plt.plot(T_arr, np.polyval([0.124/1000, 29.1/1000-273.14*0.124/1000], T_arr), 'r--', label='Ickes (linear fit)')\n",
    "plt.plot(T_arr, sigma_laksmono_VFT(T_arr), 'g--', label='Laksmono (VFT)')\n",
    "plt.plot(T_arr, sigma_laksmono_PL(T_arr), 'g-.', label='Laksmono (PL)')\n",
    "#axes[0].plot(T_arr, D_laksmono(T_arr), 'b--', label='Laksmono (CNT fit)')\n",
    "plt.xlabel('$T$ [K]')\n",
    "plt.ylabel('$\\sigma\\ (J/m^2)$')\n",
    "#axes[0].set_xlim(200,250)\n",
    "#axes[0].set_ylim(0.274,0.279)\n",
    "plt.legend(loc='upper left', prop={'size': 10})\n",
    "plt.grid(linestyle='dotted')\n",
    "\n",
    "plt.savefig('fig4-interfacial_energy.eps', format='eps')\n",
    "plt.show()"
   ]
  },
  {
   "cell_type": "code",
   "execution_count": 71,
   "metadata": {},
   "outputs": [],
   "source": [
    "T = T1[np.where(J1 > 1e15)] - 273.14\n",
    "J(np.hstack(T), D_SwissFEL_fit_log(np.hstack(T)), np.polyval(p3, np.hstack(T)))\n",
    "\n",
    "optimize.leastsq?"
   ]
  },
  {
   "cell_type": "code",
   "execution_count": 105,
   "metadata": {},
   "outputs": [
    {
     "data": {
      "text/plain": [
       "array([ 15.5449076 ,  16.06418285,  16.41823872,  15.68842558,\n",
       "        16.65251371,  17.54590799,  17.95911579,  18.08042792,\n",
       "        16.1764126 ,  16.03978247,  16.04620863,  16.47877478,\n",
       "        16.61662269,  16.37439441,  17.48463247,  18.60235153,\n",
       "        18.68962223,  18.59501617,  11.05381303,  10.9134704 ,\n",
       "        11.56384984,  11.75153231,  11.74026919,  12.2584704 ,\n",
       "        12.36762628,  11.84505882,  12.25510384,  11.9887454 ,\n",
       "        12.11340577,  12.41016227,  12.68435985,  12.7440628 ,\n",
       "        13.03342376,  13.17609126,  13.26245109,  13.38738983,\n",
       "        13.56229286,  13.44870632,  13.56820172,  13.61595005,\n",
       "        13.75204845,  13.9127533 ,  14.13672057,  11.26259113,\n",
       "        11.01884977,  11.73677554,  11.68801851,  12.26432298,\n",
       "        12.84207106,  12.95465616,  13.43775056,  13.71349054,\n",
       "        14.00432137,  11.49770791,  11.61549004,  11.38202594,\n",
       "        11.77438677,  12.37287162,  12.25000635,  12.60265495,\n",
       "        12.76368439,  12.96540252,  13.06818586,  13.23299611,\n",
       "        13.3783979 ,  13.65417654,  13.81954394,  13.89762709,\n",
       "        17.32428246,  18.50785587,  18.55388303,  17.42975228,  17.92685671])"
      ]
     },
     "execution_count": 105,
     "metadata": {},
     "output_type": "execute_result"
    }
   ],
   "source": [
    "sigma_errfunc_test = lambda p, T, data: np.log10(np.hstack(data) - J(np.hstack(T), D_SwissFEL_fit_log(np.hstack(T)), np.polyval(p, np.hstack(T))))\n",
    "\n",
    "p0 = [1.19e-11, -1.64e-8, 9.38e-6, -2.85e-3, +4.87e-1, -4.43e1, +1.67e3] # from Laksmono (2014)\n",
    "J_data = [J1[np.where(J1 > 1e15)], J2[np.where(J2 > 1e15)], J3[np.where(J3 > 1e15)], J_Murray_R1, J_Murray_R2, J_Murray_R3, J_laksmono]\n",
    "T_data = [T1[np.where(J1 > 1e15)], T2[np.where(J2 > 1e15)], T3[np.where(J3 > 1e15)], T_Murray_R1, T_Murray_R2, T_Murray_R3, T_laksmono]\n",
    "[p4, success] = optimize.leastsq(sigma_errfunc_test, p0[:], args=(J_data, T_data), ftol=1.49012e-08, xtol=1.49012e-01, maxfev=10000, full_output=False)\n",
    "sigma_errfunc_test(p4, T_data, J_data)\n"
   ]
  },
  {
   "cell_type": "code",
   "execution_count": null,
   "metadata": {},
   "outputs": [],
   "source": [
    "# fit nucleation rate data directly to include uncertainties\n"
   ]
  },
  {
   "cell_type": "code",
   "execution_count": 134,
   "metadata": {},
   "outputs": [
    {
     "data": {
      "text/plain": [
       "(array([ 0.02535736,  0.02507449,  0.02480077,  0.02460653,  0.0245176 ,\n",
       "         0.02449445,  0.02449955,  0.02451282,  0.0245326 ,  0.02455758,\n",
       "         0.0245867 ,  0.02460228]),\n",
       " array([ 0.02110491,  0.02097172,  0.02086453,  0.02082771,  0.02086059,\n",
       "         0.02093575,  0.02098348,  0.02103589,  0.02109178,  0.02115025,\n",
       "         0.02121055,  0.0212407 ]))"
      ]
     },
     "execution_count": 134,
     "metadata": {},
     "output_type": "execute_result"
    }
   ],
   "source": [
    "J(T1, D_SwissFEL_fit_log(T1), np.polyval(p1, T1)), J(T1, D_SwissFEL_fit_log(T1), sigma_laksmono_VFT(T1))\n",
    "J(T1[-1], D_SwissFEL_fit_log(T1)[-1], 0.025), J1[-1]\n",
    "J(T1, D_SwissFEL_fit_log(T1), np.polyval(p2, T1)), T1\n",
    "np.polyval(p1, T1), sigma_laksmono_VFT(T1)"
   ]
  },
  {
   "cell_type": "code",
   "execution_count": 114,
   "metadata": {},
   "outputs": [
    {
     "data": {
      "text/plain": [
       "(array([-35.17506539, -21.82053285, -11.16108335,  15.5449076 ,\n",
       "         16.06418285,  16.41823872,  15.68842558,  15.94701114,\n",
       "         16.65251371,  17.54590799,  17.95911579,  18.08042792]),\n",
       " array([ -3.77647799,   3.36729887,   9.03603962,  15.544128  ,\n",
       "         16.03483308,  16.12324313,  16.46402882,  16.9089511 ,\n",
       "         16.92682363,  17.17504661,  17.7989163 ,  17.94689464]))"
      ]
     },
     "execution_count": 114,
     "metadata": {},
     "output_type": "execute_result"
    }
   ],
   "source": [
    "sigma_errfunc_log(p1, T1, J1), sigma_errfunc_log(p2, T1, J1)"
   ]
  },
  {
   "cell_type": "code",
   "execution_count": 126,
   "metadata": {},
   "outputs": [
    {
     "data": {
      "text/plain": [
       "(array([  3.50677258e+15,   1.15926534e+16,   2.61962252e+16,\n",
       "          4.88006476e+15,   4.49276507e+16,   3.51485969e+17,\n",
       "          9.10155910e+17,   1.20344962e+18]),\n",
       " array([ 236.5170494 ,  234.6541388 ,  233.1494294 ,  232.4962372 ,\n",
       "         231.3422528 ,  230.8282207 ,  230.3492746 ,  230.12530075]))"
      ]
     },
     "execution_count": 126,
     "metadata": {},
     "output_type": "execute_result"
    }
   ],
   "source": [
    "J1[np.where(J1 > 1e15)], T1[np.where(J1 > 1e15)]"
   ]
  },
  {
   "cell_type": "code",
   "execution_count": 130,
   "metadata": {},
   "outputs": [
    {
     "data": {
      "text/plain": [
       "(array([  1.79560000e+16,   3.64760000e+16,   5.80310000e+16,\n",
       "          1.71850000e+17]),\n",
       " array([  1.79560000e+16,   1.70810000e+16,   1.90350000e+16,\n",
       "          8.09020000e+16]),\n",
       " array([  4.38650000e+16,   2.45350000e+16,   2.42770000e+16,\n",
       "          1.09030000e+17]))"
      ]
     },
     "execution_count": 130,
     "metadata": {},
     "output_type": "execute_result"
    }
   ],
   "source": [
    "J2_MC[np.where(J2_MC > 0)], J2_MC_low[np.where(J2_MC > 0)], J2_MC_high[np.where(J2_MC > 0)]"
   ]
  },
  {
   "cell_type": "code",
   "execution_count": 218,
   "metadata": {},
   "outputs": [
    {
     "data": {
      "text/plain": [
       "(array([  1.79560000e+16,   3.64760000e+16,   5.80310000e+16,\n",
       "          1.71850000e+17]),\n",
       " array([ 242.06,  237.  ,  232.66,  231.63]),\n",
       " array([  1.79560000e+16,   1.70810000e+16,   1.90350000e+16,\n",
       "          8.09020000e+16]),\n",
       " array([  4.38650000e+16,   2.45350000e+16,   2.42770000e+16,\n",
       "          1.09030000e+17]))"
      ]
     },
     "execution_count": 218,
     "metadata": {},
     "output_type": "execute_result"
    }
   ],
   "source": [
    "J2_MC[np.where(J2_MC > 0)], T2_MC[np.where(J2_MC > 0)], J2_MC_low[np.where(J2_MC > 0)], J2_MC_high[np.where(J2_MC > 0)]"
   ]
  },
  {
   "cell_type": "code",
   "execution_count": 220,
   "metadata": {},
   "outputs": [
    {
     "data": {
      "text/plain": [
       "array([ 1.4824,  1.4011,  1.3344,  1.2741,  1.224 ,  1.1838,  1.1496])"
      ]
     },
     "execution_count": 220,
     "metadata": {},
     "output_type": "execute_result"
    }
   ],
   "source": [
    "T2_MC_low"
   ]
  },
  {
   "cell_type": "code",
   "execution_count": 27,
   "metadata": {},
   "outputs": [
    {
     "data": {
      "text/plain": [
       "array([ 0.92149526,  0.92181423,  0.92216145,  0.92248281,  0.92272723,\n",
       "        0.9229219 ,  0.92300565,  0.92308217,  0.9231525 ,  0.92321746,\n",
       "        0.92327774,  0.92330584])"
      ]
     },
     "execution_count": 27,
     "metadata": {},
     "output_type": "execute_result"
    }
   ],
   "source": [
    "0.917, # g/cm3, from wikipedia\n",
    "0.934, # g/cm3, from evapcool\n",
    "m_h2o/vol_ice(T1)/N_A/1e6 # g/cm3"
   ]
  },
  {
   "cell_type": "code",
   "execution_count": 32,
   "metadata": {},
   "outputs": [
    {
     "data": {
      "text/plain": [
       "(array([ 79533.52686296,  79835.54812504,  80170.95291992,  80487.8001055 ,\n",
       "         80733.0895442 ,  80931.2146309 ,  81017.22044788,  81096.21728641,\n",
       "         81169.16557382,  81236.84818043,  81299.91101342,  81329.40165025]),\n",
       " array([ 53.96820237,  43.41514311,  33.90440555,  26.69007131,\n",
       "         22.09015745,  18.91102658,  17.66439666,  16.58523335,\n",
       "         15.64193815,  14.81034437,  14.07166314,  13.73778452]))"
      ]
     },
     "execution_count": 32,
     "metadata": {},
     "output_type": "execute_result"
    }
   ],
   "source": [
    "2*sigma_vapor(T1)/R_droplet, psat_water(T1)"
   ]
  },
  {
   "cell_type": "code",
   "execution_count": 63,
   "metadata": {},
   "outputs": [
    {
     "data": {
      "text/plain": [
       "(array([ 40.51531214,  31.87996997,  24.29786598,  18.69876776,\n",
       "         15.21069277,  12.84345216,  11.92599127,  11.13707008,\n",
       "         10.45169528,   9.85089286,   9.32001177,   9.08094862]),\n",
       " array([ 43.73533519,  34.43869393,  26.26965522,  20.2322412 ,\n",
       "         16.46841336,  13.91256519,  12.92163554,  12.06935459,\n",
       "         11.32878785,  10.67948316,  10.10564477,   9.84720532]))"
      ]
     },
     "execution_count": 63,
     "metadata": {},
     "output_type": "execute_result"
    }
   ],
   "source": [
    "psat_hexice(T1), psat_ice(T1)"
   ]
  },
  {
   "cell_type": "code",
   "execution_count": 17,
   "metadata": {},
   "outputs": [
    {
     "data": {
      "text/plain": [
       "array([ 225.  ,  225.01,  225.02, ...,  239.97,  239.98,  239.99])"
      ]
     },
     "execution_count": 17,
     "metadata": {},
     "output_type": "execute_result"
    }
   ],
   "source": [
    "T_arr"
   ]
  },
  {
   "cell_type": "code",
   "execution_count": 139,
   "metadata": {},
   "outputs": [
    {
     "data": {
      "text/plain": [
       "array([ 0.        ,  0.02564103,  0.        ,  0.06190476,  0.03776224,\n",
       "        0.03972758,  0.13299875,  0.16780822])"
      ]
     },
     "execution_count": 139,
     "metadata": {},
     "output_type": "execute_result"
    }
   ],
   "source": [
    "fice2"
   ]
  },
  {
   "cell_type": "code",
   "execution_count": null,
   "metadata": {},
   "outputs": [],
   "source": []
  }
 ],
 "metadata": {
  "kernelspec": {
   "display_name": "Python 2",
   "language": "python",
   "name": "python2"
  },
  "language_info": {
   "codemirror_mode": {
    "name": "ipython",
    "version": 2
   },
   "file_extension": ".py",
   "mimetype": "text/x-python",
   "name": "python",
   "nbconvert_exporter": "python",
   "pygments_lexer": "ipython2",
   "version": "2.7.16"
  }
 },
 "nbformat": 4,
 "nbformat_minor": 2
}

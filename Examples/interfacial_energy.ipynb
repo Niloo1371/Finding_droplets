{
 "cells": [
  {
   "cell_type": "code",
   "execution_count": 1,
   "metadata": {},
   "outputs": [],
   "source": [
    "%matplotlib inline\n",
    "\n",
    "import numpy as np\n",
    "import scipy\n",
    "from scipy import optimize\n",
    "from scipy import interpolate\n",
    "import matplotlib as mpl\n",
    "from matplotlib import pyplot as plt\n",
    "import math\n",
    "from scipy.interpolate import interp1d\n",
    "import warnings\n",
    "warnings.simplefilter('always', DeprecationWarning)\n",
    "warnings.filterwarnings('ignore')"
   ]
  },
  {
   "cell_type": "code",
   "execution_count": 3,
   "metadata": {},
   "outputs": [],
   "source": [
    "# load text file MC error\n",
    "file_dir = '/Users/sellberg/Documents/RESEARCH/experiments/local/BioX/ice_nucleation/results/ice_fraction/'\n",
    "data = np.loadtxt(file_dir + 'MC_error/Nov_3_interpolatedpos.txt')\n",
    "Temperature = data[:,4]\n",
    "J = data[:,-3]\n",
    "T_low =data[:,5]\n",
    "T_high = data[:,6]\n",
    "J_low = data[:,-2]\n",
    "J_high = data[:,-1]"
   ]
  },
  {
   "cell_type": "code",
   "execution_count": 4,
   "metadata": {},
   "outputs": [],
   "source": [
    "# sort temperature values\n",
    "T = sorted(Temperature)"
   ]
  },
  {
   "cell_type": "code",
   "execution_count": 5,
   "metadata": {},
   "outputs": [],
   "source": [
    "# sorting values based on temperature values\n",
    "sort_J = [x for _,x in sorted(zip(Temperature,J))]\n",
    "sort_T_low = [x for _,x in sorted(zip(Temperature,T_low))]\n",
    "sort_T_high = [x for _,x in sorted(zip(Temperature,T_high))]\n",
    "sort_J_low = [x for _,x in sorted(zip(Temperature,J_low))]\n",
    "sort_J_high = [x for _,x in sorted(zip(Temperature,J_high))]"
   ]
  },
  {
   "cell_type": "code",
   "execution_count": 6,
   "metadata": {},
   "outputs": [],
   "source": [
    "# linear fit y= mx+b, y_intercept b = y - mx\n",
    "def slope_and_intercept(xs,ys):\n",
    "    m = ((np.mean(xs) * np.mean(ys)) - np.mean(xs * ys))/ ((np.mean(xs) * np.mean(xs)) - np.mean(xs * xs))\n",
    "    b = np.mean(ys) - (m * np.mean(xs))\n",
    "    return m,b"
   ]
  },
  {
   "cell_type": "code",
   "execution_count": 7,
   "metadata": {},
   "outputs": [],
   "source": [
    "# ref. The apparent activation energy and pre-exponential kinetic factor for heterogeneous calcium carbonate nucleation on quartz\n",
    "# Laksmono supplementary\n",
    "T_inverse = 1./np.array(T)"
   ]
  },
  {
   "cell_type": "code",
   "execution_count": 8,
   "metadata": {},
   "outputs": [],
   "source": [
    "# remove the nan and inf values from T and log_J\n",
    "idx = np.where((np.isnan(np.log(sort_J))==False) & (np.isinf(np.log(sort_J))==False))\n",
    "new_J = np.log(sort_J)[idx]\n",
    "new_T = T_inverse[idx]"
   ]
  },
  {
   "cell_type": "code",
   "execution_count": 9,
   "metadata": {},
   "outputs": [
    {
     "data": {
      "image/png": "[encoded data removed]",
      "text/plain": [
       "<matplotlib.figure.Figure at 0x10d317610>"
      ]
     },
     "metadata": {},
     "output_type": "display_data"
    }
   ],
   "source": [
    "\n",
    "fig = plt.figure()\n",
    "m,b = slope_and_intercept(new_T, new_J)\n",
    "line_fit = np.array([(m*x)+b for x in new_T])\n",
    "plt.plot(new_T, new_J, 'ro')\n",
    "plt.plot(new_T, line_fit, 'r--')\n",
    "plt.xlabel('$1/T$ [K]')\n",
    "plt.ylabel('$ln(J)\\ (m^{-3}s^{-1})$')\n",
    "#plt.legend(loc='upper right',fontsize=10)\n",
    "plt.ticklabel_format(style='sci', axis='x', scilimits=(0,0))\n",
    "plt.ylim(35,40)\n",
    "plt.axhline(0,c='black',lw=1)\n",
    "plt.grid(linestyle='dotted')\n",
    "plt.show()"
   ]
  },
  {
   "cell_type": "code",
   "execution_count": 17,
   "metadata": {},
   "outputs": [
    {
     "data": {
      "text/plain": [
       "0.0060042519537957225"
      ]
     },
     "execution_count": 17,
     "metadata": {},
     "output_type": "execute_result"
    }
   ],
   "source": [
    "J_0 = np.exp(b)\n",
    "den_t = np.array(T)[idx]\n",
    "J_0"
   ]
  },
  {
   "cell_type": "code",
   "execution_count": 18,
   "metadata": {},
   "outputs": [],
   "source": [
    "#Temperature dependent densities \n",
    "\n",
    "data = np.loadtxt(file_dir + 'specific_volume.dat')\n",
    "T_data = []\n",
    "rho_data = []\n",
    "for i in range(len(data)):\n",
    "    rho_data.append(data[i][1])\n",
    "    T_data.append(data[i][0])\n",
    "T_arr = np.array(T_data)\n",
    "rho_arr = np.array(rho_data)\n",
    "f_rho = interp1d(T_arr, rho_arr)\n",
    "\n",
    "# density extrapolation from Kell et al\n",
    "N_A = 6.0221367e23 # molecules/mol\n",
    "m_h2o = 2*1.00794+15.9995 # g/mol\n",
    "# ALGORITHM 1 -- interpolation of experimental density data of ice (Ih = 0.934 g/cm^3) and water taken from Kell, Journal of Chemical Engineering Data 20, 97 (1975)\n",
    "rho_si = (933.942 + 66.7829 / (1.0 + np.exp( - 0.10662 * (den_t - 233.0573)))) / 1000 # g/cm^3\n",
    "rho = rho_si*N_A/1e24/m_h2o # molecules/A^3"
   ]
  },
  {
   "cell_type": "code",
   "execution_count": 20,
   "metadata": {},
   "outputs": [
    {
     "data": {
      "image/png": "[encoded data removed]",
      "text/plain": [
       "<matplotlib.figure.Figure at 0x10d59fe50>"
      ]
     },
     "metadata": {},
     "output_type": "display_data"
    }
   ],
   "source": [
    "fig = plt.figure()\n",
    "plt.plot(den_t, rho_si, 'ro')\n",
    "#plt.plot(T_arr+273, rho_arr)\n",
    "plt.xlabel('$T$ [K]')\n",
    "plt.ylabel('$rho(T)\\ g/cm^3$')\n",
    "#plt.axhline(0,c='black',lw=1)\n",
    "#plt.ylim(0.9,1.)\n",
    "plt.grid(linestyle='dotted')\n",
    "plt.show()"
   ]
  },
  {
   "cell_type": "code",
   "execution_count": 61,
   "metadata": {},
   "outputs": [],
   "source": [
    "# Ice molar volume\n",
    "molar_mass = 18.01528 #g/mol\n",
    "ice_vol = molar_mass/rho_si #cm^3/mol\n",
    "# convert to m^3/mol\n",
    "#ice_vol = ice_vol*10**-6\n",
    "ice_vol = (10**-30)*N_A/rho # m^3/mol"
   ]
  },
  {
   "cell_type": "code",
   "execution_count": 22,
   "metadata": {},
   "outputs": [],
   "source": [
    "# make fit for D_s from SwissFEL to lab T \n",
    "D_data = np.loadtxt(file_dir + 'entropy_data_7.2.csv', delimiter=',')\n",
    "\n",
    "\n",
    "T_s = np.array([D_data[i,0] for i in range(len(D_data))])\n",
    "D_s = np.array([D_data[i,13] for i in range(len(D_data))])\n",
    "Inv_T = 1./T_s\n",
    "fit_D = interpolate.InterpolatedUnivariateSpline(Inv_T, D_s)\n",
    "D = fit_D(new_T)\n",
    "# Boltzmann constant : 1.380649 × 10−23 joule per kelvin\n",
    "K = 1.380649e-23 # joule per kelvin"
   ]
  },
  {
   "cell_type": "code",
   "execution_count": 23,
   "metadata": {},
   "outputs": [
    {
     "data": {
      "image/png": "[encoded data removed]",
      "text/plain": [
       "<matplotlib.figure.Figure at 0x10d672f50>"
      ]
     },
     "metadata": {},
     "output_type": "display_data"
    }
   ],
   "source": [
    "fig = plt.figure()\n",
    "plt.plot(new_T, D, 'ro', label = 'Lab')\n",
    "plt.plot(Inv_T, D_s, 'bo', label = 'SwissFEL')\n",
    "plt.xlabel('$1/T$ [K]')\n",
    "plt.ylabel('$D_s\\ (m^2/s)$')\n",
    "plt.axhline(0,c='black',lw=1)\n",
    "plt.ticklabel_format(style='sci', axis='x', scilimits=(0,0))\n",
    "plt.legend(loc='upper right',fontsize=10)\n",
    "plt.grid(linestyle='dotted')\n",
    "plt.show()"
   ]
  },
  {
   "cell_type": "code",
   "execution_count": 24,
   "metadata": {},
   "outputs": [],
   "source": [
    "sigma = K*den_t*((J_0/16.)*((4./(3.*np.pi))**(1./3.))*((ice_vol)**(4./3.))/D)**2 # Joule/m^2"
   ]
  },
  {
   "cell_type": "code",
   "execution_count": 25,
   "metadata": {},
   "outputs": [
    {
     "data": {
      "image/png": "[encoded data removed]",
      "text/plain": [
       "<matplotlib.figure.Figure at 0x10d396a90>"
      ]
     },
     "metadata": {},
     "output_type": "display_data"
    }
   ],
   "source": [
    "fig = plt.figure()\n",
    "plt.plot(den_t, sigma, 'ro--', label = 'Lab')\n",
    "plt.xlabel('$T$ [K]')\n",
    "plt.ylabel('$\\sigma_{sl}\\ (Joule/m^2)$')\n",
    "plt.axhline(0,c='black',lw=1)\n",
    "plt.legend(loc='upper right',fontsize=10)\n",
    "plt.grid(linestyle='dotted')\n",
    "plt.show()"
   ]
  },
  {
   "cell_type": "code",
   "execution_count": 26,
   "metadata": {},
   "outputs": [],
   "source": [
    "laksmono_T = np.array([252.23,237.36,232.03,228.81,227.58,226.57])\n",
    "laksmono_T = np.array(sorted(laksmono_T))\n",
    "sig_lak = (20.8*(laksmono_T/235.8)**0.67)/1000\n",
    "sig_lab = (20.8*(den_t/235.8)**0.67)/1000"
   ]
  },
  {
   "cell_type": "code",
   "execution_count": 27,
   "metadata": {},
   "outputs": [
    {
     "data": {
      "image/png": "[encoded data removed]",
      "text/plain": [
       "<matplotlib.figure.Figure at 0x10d24df50>"
      ]
     },
     "metadata": {},
     "output_type": "display_data"
    }
   ],
   "source": [
    "fig = plt.figure()\n",
    "plt.plot(den_t, sig_lab, 'ro--', label = 'Lab')\n",
    "plt.plot(laksmono_T, sig_lak, 'bo--', label = 'Laksmono et al.')\n",
    "plt.xlabel('$T$ [K]')\n",
    "plt.ylabel('$\\sigma_{sl}\\ (Joule/m^2)$')\n",
    "plt.axhline(0,c='black',lw=1)\n",
    "plt.legend(loc='upper right',fontsize=10)\n",
    "plt.grid(linestyle='dotted')\n",
    "plt.ylim(0.015, 0.03)\n",
    "plt.show()"
   ]
  },
  {
   "cell_type": "code",
   "execution_count": 44,
   "metadata": {},
   "outputs": [],
   "source": [
    "# saturation vapor pressure - water\n",
    "T = den_t\n",
    "#T = 273.15+38 --> 6632 Pa (water pressure)\n",
    "psat_water = np.exp(54.842763 - 6763.22/T - 4.210*np.log(T) + 0.000367*T + np.tanh(0.0415*(T-218.8))*(53.878-1331.22/T- 9.44523*np.log(T) + 0.014025*T)) # Pa\n",
    "\n",
    "# saturation vapor pressure - hexagonal ice\n",
    "psat_ice = np.exp(9.550426 - 5723.265/T + 3.53068*np.log(T) - 0.00728332*T) # Pa\n",
    "\n",
    "S = psat_water/psat_ice"
   ]
  },
  {
   "cell_type": "code",
   "execution_count": 46,
   "metadata": {},
   "outputs": [
    {
     "data": {
      "text/plain": [
       "array([ 1.49275026,  1.47897669,  1.42092824,  1.35413859])"
      ]
     },
     "execution_count": 46,
     "metadata": {},
     "output_type": "execute_result"
    }
   ],
   "source": [
    "S"
   ]
  },
  {
   "cell_type": "code",
   "execution_count": 47,
   "metadata": {},
   "outputs": [],
   "source": [
    "new_J = np.log(sort_J)[idx]\n",
    "new_T = T_inverse[idx]\n",
    "x_coeff = new_T*new_T*new_T/np.log(S)/np.log(S)"
   ]
  },
  {
   "cell_type": "markdown",
   "metadata": {},
   "source": [
    "fig = plt.figure()\n",
    "m,b = slope_and_intercept(x_coeff, new_J)\n",
    "line_fit = np.array([(m*x)+b for x in x_coeff])\n",
    "plt.plot(x_coeff, new_J, 'ro')\n",
    "plt.plot(x_coeff, line_fit, 'r--')\n",
    "plt.xlabel('$1/T^3/ln(S)^2$ [K$^{-3}$]')\n",
    "plt.ylabel('$ln(J)\\ (m^{-3}s^{-1})$')\n",
    "#plt.legend(loc='upper right',fontsize=10)\n",
    "plt.ticklabel_format(style='sci', axis='x', scilimits=(0,0))\n",
    "plt.ylim(37,40)\n",
    "plt.xlim(4.5e-7,8e-7)\n",
    "plt.axhline(0,c='black',lw=1)\n",
    "plt.grid(linestyle='dotted')\n",
    "plt.show()"
   ]
  },
  {
   "cell_type": "code",
   "execution_count": 75,
   "metadata": {},
   "outputs": [],
   "source": [
    "#rho_ice = 0.917 # g/cm3, from wikipedia\n",
    "rho_ice = 0.934 # g/cm3, from evapcool\n",
    "#ice_vol_new = m_h2o/rho_ice*1e-6 # m^3/mol\n",
    "ice_vol_new = m_h2o/rho_ice*1e-6/N_A # m^3/molecule"
   ]
  },
  {
   "cell_type": "code",
   "execution_count": 70,
   "metadata": {},
   "outputs": [
    {
     "data": {
      "text/plain": [
       "3.2029188938137e-29"
      ]
     },
     "execution_count": 70,
     "metadata": {},
     "output_type": "execute_result"
    }
   ],
   "source": [
    "ice_vol_new"
   ]
  },
  {
   "cell_type": "code",
   "execution_count": 78,
   "metadata": {},
   "outputs": [],
   "source": [
    "sigma_lab = np.cbrt(-m*3*K*K*K/(16*np.pi*ice_vol_new*ice_vol_new))"
   ]
  },
  {
   "cell_type": "code",
   "execution_count": 79,
   "metadata": {},
   "outputs": [
    {
     "data": {
      "text/plain": [
       "0.010201592827459836"
      ]
     },
     "execution_count": 79,
     "metadata": {},
     "output_type": "execute_result"
    }
   ],
   "source": [
    "sigma_lab"
   ]
  },
  {
   "cell_type": "code",
   "execution_count": null,
   "metadata": {},
   "outputs": [],
   "source": []
  }
 ],
 "metadata": {
  "kernelspec": {
   "display_name": "Python 2",
   "language": "python",
   "name": "python2"
  },
  "language_info": {
   "codemirror_mode": {
    "name": "ipython",
    "version": 2
   },
   "file_extension": ".py",
   "mimetype": "text/x-python",
   "name": "python",
   "nbconvert_exporter": "python",
   "pygments_lexer": "ipython2",
   "version": "2.7.16"
  }
 },
 "nbformat": 4,
 "nbformat_minor": 2
}
